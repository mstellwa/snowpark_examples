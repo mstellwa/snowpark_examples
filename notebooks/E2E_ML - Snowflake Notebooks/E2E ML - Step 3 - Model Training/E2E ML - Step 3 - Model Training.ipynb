{
 "metadata": {
  "kernelspec": {
   "display_name": "notebooks_39",
   "language": "python",
   "name": "python3"
  },
  "language_info": {
   "codemirror_mode": {
    "name": "ipython",
    "version": 3
   },
   "file_extension": ".py",
   "mimetype": "text/x-python",
   "name": "python",
   "nbconvert_exporter": "python",
   "pygments_lexer": "ipython3",
   "version": "3.9.19"
  }
 },
 "nbformat_minor": 2,
 "nbformat": 4,
 "cells": [
  {
   "cell_type": "markdown",
   "id": "42a2a44d-1c9b-4f7f-b05e-d6b60e0a4fa5",
   "metadata": {
    "name": "md_intro",
    "collapsed": false,
    "resultHeight": 268
   },
   "source": "Before running this Notebook make sure you have the following Packages added:\n* `matplotlib`\n* `seaborn`\n* `networkx`\n* `shap`\n* `snowflake-ml-python`\n* `snowflake`\n\nYou also need to add the file `plotting.py` as a **Stage Package**, ie go to **Packages** -> **Stage Packages** and add `@snowpark_demo_db.simple_ml_schema.ASSETS/plotting.py`"
  },
  {
   "cell_type": "code",
   "execution_count": 58,
   "metadata": {
    "name": "py_imports",
    "language": "python",
    "collapsed": false,
    "resultHeight": 0,
    "codeCollapsed": false
   },
   "outputs": [],
   "source": "# Import python packages\nimport streamlit as st\nimport pandas as pd\nimport numpy as np\nimport matplotlib.pyplot as plt\nimport seaborn as sns\n\nimport shap\n\nimport joblib\nimport io\n\nfrom snowflake.ml.feature_store import (\n    FeatureStore,\n    CreationMode)\n\nfrom snowflake.ml.modeling.impute import SimpleImputer\nfrom snowflake.ml.modeling.preprocessing import OrdinalEncoder, OneHotEncoder\nfrom snowflake.ml.modeling.pipeline import Pipeline\nfrom snowflake.ml.modeling.xgboost import XGBRegressor\nfrom snowflake.ml.modeling.model_selection import GridSearchCV\nfrom snowflake.ml.modeling.metrics import mean_absolute_percentage_error\nfrom snowflake.ml.registry import Registry\n\nimport snowflake.snowpark.functions as snow_funcs\n\nfrom snowflake.core import Root\nfrom snowflake.core.warehouse import Warehouse\n\n# Import a function from a python file on a stage\nfrom plotting import plot_lineage\n\n# Get the Snowpark session\nfrom snowflake.snowpark.context import get_active_session\nsession = get_active_session()\n",
   "id": "ce110000-1111-2222-3333-ffffff000000"
  },
  {
   "cell_type": "code",
   "execution_count": 53,
   "metadata": {
    "name": "py_set_variables",
    "language": "python",
    "codeCollapsed": false,
    "collapsed": false,
    "resultHeight": 38
   },
   "outputs": [],
   "source": "db_name = \"SNOWPARK_DEMO_DB\"\nschema_name = \"SIMPLE_ML_SCHEMA\"\nfs_schema_name = \"SIMPLE_FS_SCHEMA\"\nmr_schema_name = \"SIMPLE_MR_SCHEMA\"\nwh_name = \"SIMPLE_ML_WH\"\nstage_name = \"ASSETS\"\n\nsession.use_schema(f'{db_name}.{schema_name}')\nsession.use_warehouse(wh_name)\n\nprint(f\"Current schema: {session.get_fully_qualified_current_schema()}, Current WH: {session.get_current_warehouse()}\")",
   "id": "ce110000-1111-2222-3333-ffffff000002"
  },
  {
   "cell_type": "markdown",
   "id": "c0b08288-1111-40d6-9dc0-9c66d2bdd4fd",
   "metadata": {
    "name": "cell10",
    "collapsed": false,
    "resultHeight": 41
   },
   "source": "Since we will get the data for training and testing via the Feature Store we need to craete a connection to it."
  },
  {
   "cell_type": "code",
   "execution_count": 54,
   "metadata": {
    "name": "py_create_fs_client",
    "language": "python",
    "codeCollapsed": false,
    "collapsed": false,
    "resultHeight": 0
   },
   "outputs": [],
   "source": [
    "# Connect to Feature Store\n",
    "fs = FeatureStore(\n",
    "    session=session, \n",
    "    database=db_name, \n",
    "    name=fs_schema_name, \n",
    "    default_warehouse=wh_name,\n",
    "    creation_mode=CreationMode.FAIL_IF_NOT_EXIST,\n",
    ")"
   ],
   "id": "ce110000-1111-2222-3333-ffffff000003"
  },
  {
   "cell_type": "markdown",
   "metadata": {
    "name": "cell5",
    "collapsed": false,
    "resultHeight": 88
   },
   "source": "### Generate a Training Dataset\n\nWe will start by verifying that we have the enitity and feature views we need",
   "id": "ce110000-1111-2222-3333-ffffff000004"
  },
  {
   "cell_type": "code",
   "execution_count": 62,
   "metadata": {
    "name": "py_list_entities",
    "language": "python",
    "collapsed": false,
    "resultHeight": 112,
    "codeCollapsed": false
   },
   "outputs": [
    {
     "name": "stdout",
     "output_type": "stream",
     "text": [
      "------------------------------------------------------------------------\n",
      "|\"NAME\"    |\"JOIN_KEYS\"  |\"DESC\"                            |\"OWNER\"   |\n",
      "------------------------------------------------------------------------\n",
      "|CUSTOMER  |[\"EMAIL\"]    |Unique identifier for customers.  |SYSADMIN  |\n",
      "------------------------------------------------------------------------\n",
      "\n"
     ]
    }
   ],
   "source": "fs.list_entities()",
   "id": "ce110000-1111-2222-3333-ffffff000005"
  },
  {
   "cell_type": "code",
   "execution_count": 85,
   "metadata": {
    "name": "py_list_feature_views",
    "language": "python",
    "codeCollapsed": false,
    "collapsed": false,
    "resultHeight": 147
   },
   "outputs": [
    {
     "name": "stdout",
     "output_type": "stream",
     "text": [
      "---------------------------------------------------------------------------------------------------------------------------------------------------------------------------------------------------------------------------------------------------------\n",
      "|\"NAME\"                           |\"VERSION\"  |\"DATABASE_NAME\"   |\"SCHEMA_NAME\"     |\"CREATED_ON\"                |\"OWNER\"   |\"DESC\"                                |\"ENTITIES\"    |\"REFRESH_FREQ\"  |\"REFRESH_MODE\"  |\"SCHEDULING_STATE\"  |\"WAREHOUSE\"   |\n",
      "---------------------------------------------------------------------------------------------------------------------------------------------------------------------------------------------------------------------------------------------------------\n",
      "|CUSTOMER_BEHAVIOR_DATA_FEATURES  |V1         |SNOWPARK_DEMO_DB  |SIMPLE_FS_SCHEMA  |2024-09-12 02:29:00.600000  |SYSADMIN  |Ecommerce Customer Behavior Features  |[             |1 minute        |INCREMENTAL     |ACTIVE              |SIMPLE_ML_WH  |\n",
      "|                                 |           |                  |                  |                            |          |                                      |  \"CUSTOMER\"  |                |                |                    |              |\n",
      "|                                 |           |                  |                  |                            |          |                                      |]             |                |                |                    |              |\n",
      "|CUSTOMER_GENERAL_DATA_FEATURES   |V1         |SNOWPARK_DEMO_DB  |SIMPLE_FS_SCHEMA  |2024-09-12 02:28:45.069000  |SYSADMIN  |Ecommerce Customer General Features   |[             |1 minute        |FULL            |ACTIVE              |SIMPLE_ML_WH  |\n",
      "|                                 |           |                  |                  |                            |          |                                      |  \"CUSTOMER\"  |                |                |                    |              |\n",
      "|                                 |           |                  |                  |                            |          |                                      |]             |                |                |                    |              |\n",
      "---------------------------------------------------------------------------------------------------------------------------------------------------------------------------------------------------------------------------------------------------------\n",
      "\n"
     ]
    }
   ],
   "source": "fs.list_feature_views().filter(snow_funcs.array_contains(snow_funcs.to_variant(snow_funcs.lit('CUSTOMER')), snow_funcs.col(\"ENTITIES\")))",
   "id": "ce110000-1111-2222-3333-ffffff000006"
  },
  {
   "cell_type": "markdown",
   "id": "9dc60775-6736-4a67-a17d-55f77b885917",
   "metadata": {
    "name": "cell11",
    "collapsed": false,
    "resultHeight": 41
   },
   "source": "Get refernses to the Feature Views."
  },
  {
   "cell_type": "code",
   "execution_count": 86,
   "metadata": {
    "name": "py_get_feature_views",
    "language": "python",
    "codeCollapsed": false,
    "collapsed": false,
    "resultHeight": 0
   },
   "outputs": [],
   "source": [
    "cust_fv = fs.get_feature_view(name=\"CUSTOMER_GENERAL_DATA_FEATURES\",\n",
    "                                version=\"V1\")\n",
    "behavior_fv = fs.get_feature_view(name=\"CUSTOMER_BEHAVIOR_DATA_FEATURES\",\n",
    "                                version=\"V1\")"
   ],
   "id": "ce110000-1111-2222-3333-ffffff000007"
  },
  {
   "cell_type": "markdown",
   "id": "8384d9b6-aa15-4536-8d09-14e5da3d3e4c",
   "metadata": {
    "name": "cell12",
    "collapsed": false,
    "resultHeight": 67
   },
   "source": "In order to get the values of the features we need to craete a DataFrame with the id's, email, for the customers we want them for, a so called spine. We have those in a table where we also have the life time values that we will train a model to predict."
  },
  {
   "cell_type": "code",
   "execution_count": 87,
   "metadata": {
    "name": "py_generate_spine_df",
    "language": "python",
    "codeCollapsed": false,
    "collapsed": false,
    "resultHeight": 255
   },
   "outputs": [
    {
     "name": "stdout",
     "output_type": "stream",
     "text": [
      "Customer Life Time Value Data:\n",
      "--------------------------------------------\n",
      "|\"EMAIL\"               |\"LIFE_TIME_VALUE\"  |\n",
      "--------------------------------------------\n",
      "|ISEglO3tBE@jRkXJ.com  |20.03              |\n",
      "|blarIyWxnz@EyabS.com  |207.69             |\n",
      "|1JMXH8GV0T@4GzHW.com  |624.04             |\n",
      "|gWvxW1OROO@sgaaN.com  |436.91             |\n",
      "|mgCmEen8Fk@1PxIr.com  |484.37             |\n",
      "--------------------------------------------\n",
      "\n"
     ]
    }
   ],
   "source": [
    "print('Customer Life Time Value Data:')\n",
    "ltv_df = session.table(f'{db_name}.{schema_name}.CUSTOMER_LIFE_TIME_VALUE').drop('YEAR_MONTH')\n",
    "ltv_df.show(n=5)"
   ],
   "id": "ce110000-1111-2222-3333-ffffff000008"
  },
  {
   "cell_type": "markdown",
   "id": "2366679d-77b5-4749-b3d1-416441d58139",
   "metadata": {
    "name": "cell13",
    "collapsed": false,
    "resultHeight": 220
   },
   "source": "There is multiple ways to generate training/inference data from the Feature Store. \n\nWe can use:\n* `generate_training_set` to create a Snowpark DataFrame with the features in it.\n* `generate_dataset` to generate a Snowflake Dataset. Datasets hold collections of data organized into versions, where each version holds a materialized snapshot of your data with guaranteed immutability, to read more go to https://docs.snowflake.com/en/developer-guide/snowflake-ml/dataset\n\nIn this example we will use `generate_dataset`"
  },
  {
   "cell_type": "code",
   "execution_count": 88,
   "metadata": {
    "name": "py_generate_dataset",
    "language": "python",
    "codeCollapsed": false,
    "collapsed": false,
    "resultHeight": 252
   },
   "outputs": [
    {
     "name": "stdout",
     "output_type": "stream",
     "text": [
      "--------------------------------------------------------------------------------------------------------------------------------------------------------------------------------------------------------\n",
      "|\"EMAIL\"               |\"LIFE_TIME_VALUE\"   |\"GENDER\"  |\"MEMBERSHIP_STATUS\"  |\"MEMBERSHIP_LENGTH_DAYS\"  |\"AVG_SESSION_LENGTH_MIN\"  |\"AVG_TIME_ON_APP_MIN\"  |\"AVG_TIME_ON_WEBSITE_MIN\"  |\"APP_PRIMARY\"  |\n",
      "--------------------------------------------------------------------------------------------------------------------------------------------------------------------------------------------------------\n",
      "|ISEglO3tBE@jRkXJ.com  |20.030000686645508  |MALE      |BASIC                |1636                      |3.2002999782562256        |1.2002999782562256     |6.200300216674805          |0              |\n",
      "|blarIyWxnz@EyabS.com  |207.69000244140625  |MALE      |BRONZE               |222                       |5.076900005340576         |NULL                   |5.076900005340576          |0              |\n",
      "|1JMXH8GV0T@4GzHW.com  |624.0399780273438   |MALE      |PLATIN               |561                       |6.2403998374938965        |7.2403998374938965     |10.240400314331055         |0              |\n",
      "|gWvxW1OROO@sgaaN.com  |436.9100036621094   |MALE      |GOLD                 |224                       |9.369099617004395         |NULL                   |11.369099617004395         |0              |\n",
      "|mgCmEen8Fk@1PxIr.com  |484.3699951171875   |MALE      |GOLD                 |240                       |4.843699932098389         |10.843700408935547     |10.843700408935547         |0              |\n",
      "|9AXLbqyQMx@Wf3g9.com  |548.1300048828125   |MALE      |GOLD                 |579                       |7.481299877166748         |7.481299877166748      |10.481300354003906         |0              |\n",
      "|M0lXQY2sFO@78Om2.com  |133.0500030517578   |MALE      |BASIC                |370                       |5.33050012588501          |3.3304998874664307     |5.33050012588501           |0              |\n",
      "|xsRh6RD3iK@sScp7.com  |672.989990234375    |MALE      |DIAMOND              |102                       |8.729900360107422         |NULL                   |12.729900360107422         |0              |\n",
      "|KqL62QO8Kt@aQKtA.com  |726.8300170898438   |MALE      |DIAMOND              |693                       |12.26830005645752         |9.26830005645752       |12.26830005645752          |0              |\n",
      "|3olOnytxx3@tQyET.com  |659.5800170898438   |MALE      |DIAMOND              |872                       |8.595800399780273         |8.595800399780273      |10.595800399780273         |0              |\n",
      "--------------------------------------------------------------------------------------------------------------------------------------------------------------------------------------------------------\n",
      "\n"
     ]
    }
   ],
   "source": "registered_dataset = fs.generate_dataset(\n    name=\"ECOMMERCE_CUSTOMER_FEATURES\",\n    spine_df=ltv_df,\n    features=[cust_fv,behavior_fv],\n    spine_label_cols=[\"LIFE_TIME_VALUE\"],\n    desc=\"Training Data to train model to predict Customer Life Time Value.\"\n)\n\n\n# Retrieve a Snowpark DataFrame from the registered Dataset\n# We can also get a Pandas DataFrame (to_pandas) or a TensorFlow tf.data.Dataset or a Pytorch datapipe or a PyTorch Iterable Dataset\nregistered_dataset_df = registered_dataset.read.to_snowpark_dataframe()\nregistered_dataset_df.limit(5)\n\n#training_set = fs.generate_training_set(\n#    spine_df=ltv_df,\n#    features=[cust_fv,behavior_fv],\n#    spine_label_cols=[\"LIFE_TIME_VALUE\"],      # optional\n#)\n#training_set.limit(5)",
   "id": "ce110000-1111-2222-3333-ffffff000009"
  },
  {
   "cell_type": "markdown",
   "id": "87118808-9d4c-456e-abb6-2d777eb7edae",
   "metadata": {
    "name": "cell14",
    "collapsed": false,
    "resultHeight": 67
   },
   "source": "Define a `pipeline` for imputation and encoding and define a GridSearchCV object that trains a XGBRegressor model to predict `LIFE_TIME_VALUE`. We are not adding GridSearchCV to the pipeline, the Model Registry do support logging that type of pipeline, becasue we want the explain function generated and that is using SHAP which does not support pipeline's."
  },
  {
   "cell_type": "code",
   "execution_count": 92,
   "metadata": {
    "name": "py_define_pipeline_grid_search",
    "language": "python",
    "codeCollapsed": false,
    "collapsed": false,
    "resultHeight": 41
   },
   "outputs": [],
   "source": "# Split the data into train and test sets\ntrain_df, test_df = registered_dataset_df.random_split(weights=[0.9, 0.1], seed=0)\n\ntrain_df.count(), test_df.count()\n\n# Drop the Email column for Training\n#train_df = train_df.drop('EMAIL')\n\n# Define sklearn-like Imputers\nsi_numeric =  SimpleImputer(\n    input_cols=['AVG_SESSION_LENGTH_MIN','AVG_TIME_ON_APP_MIN','AVG_TIME_ON_WEBSITE_MIN'], \n    output_cols=['AVG_SESSION_LENGTH_MIN_IMP','AVG_TIME_ON_APP_MIN_IMP','AVG_TIME_ON_WEBSITE_MIN_IMP'],\n    strategy='mean',\n    drop_input_cols=False\n)\n\n# Define sklearn-like Encoders\ncategories = {\n    \"MEMBERSHIP_STATUS\": np.array([\"BASIC\", \"BRONZE\", \"SILVER\", \"GOLD\", \"PLATIN\", \"DIAMOND\"]),\n}\noe_categorical = OrdinalEncoder(\n    input_cols=[\"MEMBERSHIP_STATUS\"], \n    output_cols=[\"MEMBERSHIP_STATUS_OE\"], \n    categories=categories,\n    drop_input_cols=False\n)\n\nohe_categorical = OneHotEncoder(\n    input_cols=[\"GENDER\"], \n    output_cols=[\"GENDER_OHE\"],\n    drop_input_cols=False\n)\n\n# Deifine pipeline for pre processing\npre_pipeline = Pipeline(\n    steps=[\n        (\"SI_NUMERIC\",si_numeric),\n        (\"OE_CATEGORICAL\",oe_categorical),\n        (\"OHE_CATEGORICAL\",ohe_categorical),\n    ]\n)\n\n# Define the XGBoost model (incl. Hyperparameter Tuning)\nfeature_cols = [\n    'GENDER_OHE_FEMALE',\n    'GENDER_OHE_MALE',\n    'MEMBERSHIP_STATUS_OE',\n    'MEMBERSHIP_LENGTH_DAYS',\n    'AVG_SESSION_LENGTH_MIN_IMP',\n    'AVG_TIME_ON_APP_MIN_IMP',\n    'AVG_TIME_ON_WEBSITE_MIN_IMP',\n    'APP_PRIMARY'\n]\nlabel_cols = ['LIFE_TIME_VALUE']\noutput_cols = ['LIFE_TIME_VALUE_PREDICTION']\n\ngrid_search = GridSearchCV(\n    estimator=XGBRegressor(),\n    param_grid={\n        \"n_estimators\":[100, 200, 300, 400],\n        \"learning_rate\":[0.1, 0.2, 0.3],\n    },\n    n_jobs = -1,\n    scoring=\"neg_mean_absolute_percentage_error\",\n    input_cols=feature_cols,\n    label_cols=label_cols,\n    output_cols=output_cols\n)",
   "id": "ce110000-1111-2222-3333-ffffff000010"
  },
  {
   "cell_type": "markdown",
   "id": "d59f751c-573e-46ec-b0f2-0d9eec6e6f26",
   "metadata": {
    "name": "cell16",
    "collapsed": false,
    "resultHeight": 67
   },
   "source": "Since we are using Snowpark ML's version of GridSearchCV we can take full advantge of the Warehouse sine that implementation is running distributed, https://docs.snowflake.com/en/developer-guide/snowflake-ml/modeling#label-snowflake-ml-modeling-distributed-hyperparameter, so we will increase the size."
  },
  {
   "cell_type": "code",
   "execution_count": 95,
   "metadata": {
    "name": "py_scale_up_WH",
    "language": "python",
    "codeCollapsed": false,
    "collapsed": false,
    "resultHeight": 0
   },
   "outputs": [],
   "source": [
    "# Scale up our WH\n",
    "root = Root(session)\n",
    "\n",
    "ml_wh = Warehouse(\n",
    "  name=wh_name,\n",
    "  warehouse_size=\"XXLARGE\",\n",
    "  wait_for_completion = \"true\",\n",
    ")\n",
    "\n",
    "ml_wh_res = root.warehouses[wh_name]\n",
    "\n",
    "ml_wh_res.create_or_alter(ml_wh)"
   ],
   "id": "ce110000-1111-2222-3333-ffffff000011"
  },
  {
   "cell_type": "markdown",
   "id": "316db8fd-619f-4544-92cf-b0d0f7f70402",
   "metadata": {
    "name": "cell17",
    "collapsed": false,
    "resultHeight": 41
   },
   "source": "Run the training"
  },
  {
   "cell_type": "code",
   "execution_count": 96,
   "metadata": {
    "name": "py_fit_pipeline",
    "language": "python",
    "collapsed": false,
    "codeCollapsed": false,
    "resultHeight": 0
   },
   "outputs": [
    {
     "name": "stderr",
     "output_type": "stream",
     "text": [
      "WARNING:snowflake.snowpark.session:Package 'fastparquet' is not installed in the local environment. Your UDF might not work when the package is installed on the server but not on your local environment.\n"
     ]
    }
   ],
   "source": "# Fit the pipeline to the training data\ntrain_pre_df = pre_pipeline.fit(train_df).transform(train_df).cache_result()\n\nfitted_grid_search = grid_search.fit(train_pre_df)",
   "id": "ce110000-1111-2222-3333-ffffff000012"
  },
  {
   "cell_type": "markdown",
   "id": "5fec8556-8fe8-4b8a-bda3-c321e289bb21",
   "metadata": {
    "name": "cell18",
    "collapsed": false,
    "resultHeight": 41
   },
   "source": "Scale down the warehouse."
  },
  {
   "cell_type": "code",
   "execution_count": 97,
   "metadata": {
    "name": "py_scale_down_WH",
    "language": "python",
    "collapsed": false,
    "codeCollapsed": false,
    "resultHeight": 0
   },
   "outputs": [],
   "source": "# Scale down our WH\nml_wh = Warehouse(\n  name=wh_name,\n  warehouse_size=\"SMALL\",\n  wait_for_completion = \"true\",\n)\n\nml_wh_res = root.warehouses[wh_name]\n\nml_wh_res.create_or_alter(ml_wh)",
   "id": "ce110000-1111-2222-3333-ffffff000013"
  },
  {
   "cell_type": "markdown",
   "metadata": {
    "name": "cell15",
    "collapsed": false,
    "resultHeight": 115
   },
   "source": "# Model Evaluation\n\nLet's have a look how the diffrent parameters preformed by comparing the mape for them.",
   "id": "ce110000-1111-2222-3333-ffffff000014"
  },
  {
   "cell_type": "code",
   "execution_count": 98,
   "metadata": {
    "name": "py_analyze_grid_search_results",
    "language": "python",
    "collapsed": false,
    "resultHeight": 620,
    "codeCollapsed": false
   },
   "outputs": [
    {
     "data": {
      "image/png": "[encoded data removed]",
      "text/plain": [
       "<Figure size 360.361x300 with 1 Axes>"
      ]
     },
     "metadata": {},
     "output_type": "display_data"
    }
   ],
   "source": "# Analyze grid search results\ngs_results = fitted_grid_search.to_sklearn().cv_results_\nn_estimators_val = []\nlearning_rate_val = []\nfor param_dict in gs_results[\"params\"]:\n    n_estimators_val.append(param_dict[\"n_estimators\"])\n    learning_rate_val.append(param_dict[\"learning_rate\"])\nmape_val = gs_results[\"mean_test_score\"]*-1\n\ngs_results_df = pd.DataFrame(data={\n    \"n_estimators\":n_estimators_val,\n    \"learning_rate\":learning_rate_val,\n    \"mape\":mape_val})\n\nsns.set_context(\"notebook\", font_scale=0.5)\nsns.relplot(data=gs_results_df, x=\"learning_rate\", y=\"mape\", hue=\"n_estimators\", kind=\"line\", height=3)\n\nplt.show()",
   "id": "ce110000-1111-2222-3333-ffffff000015"
  },
  {
   "cell_type": "markdown",
   "id": "5d464781-4ba3-485e-8739-10d7bc701f70",
   "metadata": {
    "name": "cell19",
    "collapsed": false,
    "resultHeight": 41
   },
   "source": "Get the mape using the `mean_absolute_percentage_error`function and do some plotting."
  },
  {
   "cell_type": "code",
   "execution_count": 100,
   "metadata": {
    "name": "py_get_metrics",
    "language": "python",
    "collapsed": false,
    "codeCollapsed": false,
    "resultHeight": 660
   },
   "outputs": [
    {
     "name": "stdout",
     "output_type": "stream",
     "text": [
      "Mean absolute percentage error: 0.20796876339386866\n"
     ]
    },
    {
     "data": {
      "text/html": [
       "<div>\n",
       "<style scoped>\n",
       "    .dataframe tbody tr th:only-of-type {\n",
       "        vertical-align: middle;\n",
       "    }\n",
       "\n",
       "    .dataframe tbody tr th {\n",
       "        vertical-align: top;\n",
       "    }\n",
       "\n",
       "    .dataframe thead th {\n",
       "        text-align: right;\n",
       "    }\n",
       "</style>\n",
       "<table border=\"1\" class=\"dataframe\">\n",
       "  <thead>\n",
       "    <tr style=\"text-align: right;\">\n",
       "      <th></th>\n",
       "      <th>LIFE_TIME_VALUE</th>\n",
       "      <th>LIFE_TIME_VALUE_PREDICTION</th>\n",
       "    </tr>\n",
       "  </thead>\n",
       "  <tbody>\n",
       "    <tr>\n",
       "      <th>0</th>\n",
       "      <td>626.940002</td>\n",
       "      <td>625.523560</td>\n",
       "    </tr>\n",
       "    <tr>\n",
       "      <th>1</th>\n",
       "      <td>705.590027</td>\n",
       "      <td>703.990112</td>\n",
       "    </tr>\n",
       "    <tr>\n",
       "      <th>2</th>\n",
       "      <td>501.880005</td>\n",
       "      <td>457.369965</td>\n",
       "    </tr>\n",
       "    <tr>\n",
       "      <th>3</th>\n",
       "      <td>512.190002</td>\n",
       "      <td>460.805573</td>\n",
       "    </tr>\n",
       "    <tr>\n",
       "      <th>4</th>\n",
       "      <td>116.019997</td>\n",
       "      <td>112.999229</td>\n",
       "    </tr>\n",
       "    <tr>\n",
       "      <th>5</th>\n",
       "      <td>636.789978</td>\n",
       "      <td>636.572815</td>\n",
       "    </tr>\n",
       "    <tr>\n",
       "      <th>6</th>\n",
       "      <td>321.910004</td>\n",
       "      <td>313.977997</td>\n",
       "    </tr>\n",
       "    <tr>\n",
       "      <th>7</th>\n",
       "      <td>617.140015</td>\n",
       "      <td>616.768066</td>\n",
       "    </tr>\n",
       "    <tr>\n",
       "      <th>8</th>\n",
       "      <td>163.800003</td>\n",
       "      <td>157.148895</td>\n",
       "    </tr>\n",
       "    <tr>\n",
       "      <th>9</th>\n",
       "      <td>234.240005</td>\n",
       "      <td>235.725052</td>\n",
       "    </tr>\n",
       "    <tr>\n",
       "      <th>10</th>\n",
       "      <td>146.350006</td>\n",
       "      <td>106.048828</td>\n",
       "    </tr>\n",
       "    <tr>\n",
       "      <th>11</th>\n",
       "      <td>29.340000</td>\n",
       "      <td>73.123077</td>\n",
       "    </tr>\n",
       "    <tr>\n",
       "      <th>12</th>\n",
       "      <td>375.980011</td>\n",
       "      <td>374.749756</td>\n",
       "    </tr>\n",
       "    <tr>\n",
       "      <th>13</th>\n",
       "      <td>606.599976</td>\n",
       "      <td>604.980835</td>\n",
       "    </tr>\n",
       "    <tr>\n",
       "      <th>14</th>\n",
       "      <td>63.139999</td>\n",
       "      <td>68.242126</td>\n",
       "    </tr>\n",
       "  </tbody>\n",
       "</table>\n",
       "</div>"
      ],
      "text/plain": [
       "    LIFE_TIME_VALUE  LIFE_TIME_VALUE_PREDICTION\n",
       "0        626.940002                  625.523560\n",
       "1        705.590027                  703.990112\n",
       "2        501.880005                  457.369965\n",
       "3        512.190002                  460.805573\n",
       "4        116.019997                  112.999229\n",
       "5        636.789978                  636.572815\n",
       "6        321.910004                  313.977997\n",
       "7        617.140015                  616.768066\n",
       "8        163.800003                  157.148895\n",
       "9        234.240005                  235.725052\n",
       "10       146.350006                  106.048828\n",
       "11        29.340000                   73.123077\n",
       "12       375.980011                  374.749756\n",
       "13       606.599976                  604.980835\n",
       "14        63.139999                   68.242126"
      ]
     },
     "metadata": {},
     "output_type": "display_data"
    },
    {
     "data": {
      "image/png": "[encoded data removed]",
      "text/plain": [
       "<Figure size 300x300 with 1 Axes>"
      ]
     },
     "metadata": {},
     "output_type": "display_data"
    }
   ],
   "source": "# Predict LTV for customers in test data\ntest_pre_df = pre_pipeline.transform(test_df)\ntest_predictions = fitted_grid_search.predict(test_pre_df).cache_result()\n\n\n# Analyze results\nmape = mean_absolute_percentage_error(df=test_predictions, \n                                        y_true_col_names=\"LIFE_TIME_VALUE\", \n                                        y_pred_col_names=\"LIFE_TIME_VALUE_PREDICTION\")\n\n\n# Plot actual vs predicted \ng = sns.relplot(\n    data=test_predictions[\"LIFE_TIME_VALUE\", \"LIFE_TIME_VALUE_PREDICTION\"].to_pandas().astype(\"float64\"), \n    x=\"LIFE_TIME_VALUE\", \n    y=\"LIFE_TIME_VALUE_PREDICTION\", \n    kind=\"scatter\",\n    height=3)\ng.ax.axline((0,0), slope=1, color=\"r\")\n\ncol1, col2 = st.columns(2)\nwith col1:\n    print(f\"Mean absolute percentage error: {mape}\")\n    st.dataframe(test_predictions.select(\"LIFE_TIME_VALUE\", \"LIFE_TIME_VALUE_PREDICTION\").limit(15))\nwith col2:\n    plt.show()",
   "id": "ce110000-1111-2222-3333-ffffff000016"
  },
  {
   "cell_type": "markdown",
   "id": "44d857a1-7dd0-4e89-b4f6-eab5beda22f2",
   "metadata": {
    "name": "cell20",
    "collapsed": false,
    "resultHeight": 41
   },
   "source": "We will save the predictions with the actuals to use as the baseline for the model monitor we will create later in another notebook."
  },
  {
   "cell_type": "code",
   "id": "62dcee11-6813-47ed-95e1-c85aa0505e1c",
   "metadata": {
    "language": "python",
    "name": "py_save_test_predictions",
    "resultHeight": 351,
    "collapsed": false,
    "codeCollapsed": false
   },
   "outputs": [],
   "source": "# Save the predictions as a table to be used as a baseline for our model monitor\ntrain_predictions = fitted_grid_search.predict(train_pre_df) \nbaseline_df = train_predictions.with_column(\"PREDICTION_TIMESTAMP\", snow_funcs.to_timestamp(snow_funcs.lit(\"2024-11-26\"), snow_funcs.lit(\"YYYY-MM-DD\")))\n\nbaseline_df.write.save_as_table(\"CUSTOMER_LTV_BASELINE\", mode=\"overwrite\")\nsession.table(\"CUSTOMER_LTV_BASELINE\").show()",
   "execution_count": null
  },
  {
   "cell_type": "markdown",
   "id": "d0d11529-06a5-4a40-b1b1-b95106785c1d",
   "metadata": {
    "name": "cell21",
    "collapsed": false,
    "resultHeight": 41
   },
   "source": "Save the fitted pre_pipeline to a stage so we can use it later for inference."
  },
  {
   "cell_type": "code",
   "id": "f1ed4051-d4f0-46b6-ab9d-6c5d8af8825c",
   "metadata": {
    "language": "python",
    "name": "py_save_pipline_to_stage",
    "resultHeight": 0,
    "collapsed": false,
    "codeCollapsed": false
   },
   "outputs": [],
   "source": "# Save the preprocessing pipeline to be used later\nfile_path = f\"@{stage_name}/pre_processing.joblib\"\ninput_stream = io.BytesIO()\njoblib.dump(pre_pipeline, input_stream)\nsession.file.put_stream(input_stream, file_path, auto_compress=False, overwrite=True)\n",
   "execution_count": null
  },
  {
   "cell_type": "markdown",
   "id": "b7f23d23-2b8f-4c90-9e92-7a41c4891fd1",
   "metadata": {
    "name": "cell22",
    "collapsed": false,
    "resultHeight": 41
   },
   "source": "Check that the file is in our stage"
  },
  {
   "cell_type": "code",
   "id": "22350a6e-4af1-4b1d-8c5f-02b837907c0a",
   "metadata": {
    "language": "sql",
    "name": "sql_list_stage",
    "resultHeight": 0,
    "codeCollapsed": false
   },
   "outputs": [],
   "source": "ls @assets",
   "execution_count": null
  },
  {
   "cell_type": "markdown",
   "id": "4d336260-5e2a-4cc7-94d9-f445466bf77a",
   "metadata": {
    "name": "cell7",
    "collapsed": false,
    "resultHeight": 67
   },
   "source": "We will only log the best model, this is also due to that SHAP does not support GridSearchCV objects, so we add that to a new variable and also get the number of estimators and learning rate values used to train it."
  },
  {
   "cell_type": "code",
   "id": "19e1a5b4-6302-412f-9df1-02c077694241",
   "metadata": {
    "language": "python",
    "name": "py_get_optimal_model",
    "resultHeight": 0,
    "collapsed": false,
    "codeCollapsed": false
   },
   "outputs": [],
   "source": "# We will only log the best model\noptimal_model = grid_search.to_sklearn().best_estimator_\noptimal_n_estimators = grid_search.to_sklearn().best_estimator_.n_estimators\noptimal_learning_rate = grid_search.to_sklearn().best_estimator_.learning_rate",
   "execution_count": null
  },
  {
   "cell_type": "markdown",
   "id": "21387459-a964-46bf-8022-25833df0504b",
   "metadata": {
    "name": "cell8",
    "collapsed": false,
    "resultHeight": 41
   },
   "source": "Connect to the Model Registry schema"
  },
  {
   "cell_type": "code",
   "execution_count": 104,
   "metadata": {
    "name": "py_connect_model_registry",
    "language": "python",
    "codeCollapsed": false,
    "collapsed": false,
    "resultHeight": 0
   },
   "outputs": [
    {
     "data": {
      "text/html": [
       "<div>\n",
       "<style scoped>\n",
       "    .dataframe tbody tr th:only-of-type {\n",
       "        vertical-align: middle;\n",
       "    }\n",
       "\n",
       "    .dataframe tbody tr th {\n",
       "        vertical-align: top;\n",
       "    }\n",
       "\n",
       "    .dataframe thead th {\n",
       "        text-align: right;\n",
       "    }\n",
       "</style>\n",
       "<table border=\"1\" class=\"dataframe\">\n",
       "  <thead>\n",
       "    <tr style=\"text-align: right;\">\n",
       "      <th></th>\n",
       "    </tr>\n",
       "  </thead>\n",
       "  <tbody>\n",
       "  </tbody>\n",
       "</table>\n",
       "</div>"
      ],
      "text/plain": [
       "Empty DataFrame\n",
       "Columns: []\n",
       "Index: []"
      ]
     },
     "execution_count": 104,
     "metadata": {},
     "output_type": "execute_result"
    }
   ],
   "source": "# Create reference to model registry\nml_reg = Registry(session=session, database_name=db_name, schema_name=mr_schema_name, options={\"enable_monitoring\": True})\nml_reg.show_models()",
   "id": "ce110000-1111-2222-3333-ffffff000017"
  },
  {
   "cell_type": "markdown",
   "id": "d9bc1c2c-7f0a-498a-9511-ae4c791d8d38",
   "metadata": {
    "name": "cell9",
    "collapsed": false,
    "resultHeight": 41
   },
   "source": "Log the model to the model Registry."
  },
  {
   "cell_type": "code",
   "execution_count": 105,
   "metadata": {
    "name": "py_log_model",
    "language": "python",
    "codeCollapsed": false,
    "collapsed": false,
    "resultHeight": 119
   },
   "outputs": [
    {
     "name": "stderr",
     "output_type": "stream",
     "text": [
      "/Users/mstellwall/anaconda3/envs/notebooks_39/lib/python3.9/contextlib.py:119: UserWarning: `relax_version` is not set and therefore defaulted to True. Dependency version constraints relaxed from ==x.y.z to >=x.y, <(x+1). To use specific dependency versions for compatibility, reproducibility, etc., set `options={'relax_version': False}` when logging the model.\n",
      "  return next(self.gen)\n"
     ]
    }
   ],
   "source": "\n# Register new model version\nregistered_model = ml_reg.log_model(\n    optimal_model,\n    model_name=\"CUSTOMER_LTV_MODEL\",\n    #version_name='MY_SECOND_MODEL_VERSION', # We can set the version name or get a generated name\n    comment=\"Model trained using GridsearchCV in Snowpark to predict Customer Life Time Value\",\n    metrics={\"mean_abs_pct_err\": mape\n            , \"n_estimators\": optimal_n_estimators\n            , \"learning_rate\":optimal_learning_rate},\n    sample_input_data=train_pre_df.select(feature_cols),\n    conda_dependencies=['xgboost'],\n    options={'relax_version': False}\n)",
   "id": "ce110000-1111-2222-3333-ffffff000018"
  },
  {
   "cell_type": "markdown",
   "id": "ea171197-8fa6-4ba1-8c6c-4a81bf2e36bf",
   "metadata": {
    "name": "cell23",
    "collapsed": false,
    "resultHeight": 41
   },
   "source": "Check that we now have a registred model and the version name of it"
  },
  {
   "cell_type": "code",
   "execution_count": 106,
   "metadata": {
    "name": "py_show_logged_models",
    "language": "python",
    "codeCollapsed": false,
    "collapsed": false,
    "resultHeight": 112
   },
   "outputs": [
    {
     "data": {
      "text/html": [
       "<div>\n",
       "<style scoped>\n",
       "    .dataframe tbody tr th:only-of-type {\n",
       "        vertical-align: middle;\n",
       "    }\n",
       "\n",
       "    .dataframe tbody tr th {\n",
       "        vertical-align: top;\n",
       "    }\n",
       "\n",
       "    .dataframe thead th {\n",
       "        text-align: right;\n",
       "    }\n",
       "</style>\n",
       "<table border=\"1\" class=\"dataframe\">\n",
       "  <thead>\n",
       "    <tr style=\"text-align: right;\">\n",
       "      <th></th>\n",
       "      <th>created_on</th>\n",
       "      <th>name</th>\n",
       "      <th>model_type</th>\n",
       "      <th>database_name</th>\n",
       "      <th>schema_name</th>\n",
       "      <th>comment</th>\n",
       "      <th>owner</th>\n",
       "      <th>default_version_name</th>\n",
       "      <th>versions</th>\n",
       "      <th>aliases</th>\n",
       "    </tr>\n",
       "  </thead>\n",
       "  <tbody>\n",
       "    <tr>\n",
       "      <th>0</th>\n",
       "      <td>2024-09-12 04:25:51.307000-07:00</td>\n",
       "      <td>CUSTOMER_LTV_MODEL</td>\n",
       "      <td>USER_MODEL</td>\n",
       "      <td>SNOWPARK_DEMO_DB</td>\n",
       "      <td>SIMPLE_MR_SCHEMA</td>\n",
       "      <td>None</td>\n",
       "      <td>SYSADMIN</td>\n",
       "      <td>MY_FIRST_MODEL_VERSION</td>\n",
       "      <td>[\"MY_FIRST_MODEL_VERSION\"]</td>\n",
       "      <td>{\"DEFAULT\":\"MY_FIRST_MODEL_VERSION\",\"FIRST\":\"M...</td>\n",
       "    </tr>\n",
       "  </tbody>\n",
       "</table>\n",
       "</div>"
      ],
      "text/plain": [
       "                        created_on                name  model_type  \\\n",
       "0 2024-09-12 04:25:51.307000-07:00  CUSTOMER_LTV_MODEL  USER_MODEL   \n",
       "\n",
       "      database_name       schema_name comment     owner  \\\n",
       "0  SNOWPARK_DEMO_DB  SIMPLE_MR_SCHEMA    None  SYSADMIN   \n",
       "\n",
       "     default_version_name                    versions  \\\n",
       "0  MY_FIRST_MODEL_VERSION  [\"MY_FIRST_MODEL_VERSION\"]   \n",
       "\n",
       "                                             aliases  \n",
       "0  {\"DEFAULT\":\"MY_FIRST_MODEL_VERSION\",\"FIRST\":\"M...  "
      ]
     },
     "execution_count": 106,
     "metadata": {},
     "output_type": "execute_result"
    }
   ],
   "source": [
    "ml_reg.show_models()"
   ],
   "id": "ce110000-1111-2222-3333-ffffff000019"
  },
  {
   "cell_type": "code",
   "id": "8ee376b7-ca6a-4db2-bb0e-21151612c18d",
   "metadata": {
    "language": "python",
    "name": "py_get_version_name",
    "resultHeight": 54,
    "collapsed": false
   },
   "outputs": [],
   "source": "registered_model.version_name",
   "execution_count": null
  },
  {
   "cell_type": "markdown",
   "id": "ed01d0f8-2bce-4be0-9892-5e9ed8b39c34",
   "metadata": {
    "name": "cell3",
    "collapsed": false,
    "resultHeight": 41
   },
   "source": "Every model will have a default version and we can check on the model level the version name of the default model"
  },
  {
   "cell_type": "code",
   "id": "185e3ed7-d75c-4476-b1b4-1d4deafa95e5",
   "metadata": {
    "language": "python",
    "name": "py_get_default_version",
    "resultHeight": 57,
    "codeCollapsed": false
   },
   "outputs": [],
   "source": "ml_reg.get_model(\"CUSTOMER_LTV_MODEL\").default",
   "execution_count": null
  },
  {
   "cell_type": "markdown",
   "id": "ab7201ed-91b6-4cdb-b5e6-8adfd6b8e3bc",
   "metadata": {
    "name": "cell6",
    "collapsed": false,
    "resultHeight": 108
   },
   "source": "If we want to change the default version of a model we can use for example `ml_reg.get_model(\"CUSTOMER_LTV_MODEL\").default = 'ODD_DUCK_2'`, there is also other methods to manage model life cycle and default versions etc, see https://docs.snowflake.com/en/developer-guide/snowflake-ml/model-registry/model-management for more information.\n\nCheck what functions we can use with the new model version."
  },
  {
   "cell_type": "code",
   "id": "2178e269-7181-4f7d-8faa-fd6746e5786f",
   "metadata": {
    "language": "python",
    "name": "py_show_functions",
    "resultHeight": 1245,
    "collapsed": false,
    "codeCollapsed": false
   },
   "outputs": [],
   "source": "registered_model.show_functions()",
   "execution_count": null
  },
  {
   "cell_type": "markdown",
   "id": "6f30ce13-eb31-446c-897d-7a29bb0f9cba",
   "metadata": {
    "name": "cell27",
    "collapsed": false,
    "resultHeight": 102
   },
   "source": "## Model Explianability\n\nWe can use the `explain` function to get the SHAP values."
  },
  {
   "cell_type": "code",
   "id": "c6c6b131-34bb-4515-8aaa-7337b0172da9",
   "metadata": {
    "language": "python",
    "name": "py_get_explanations",
    "resultHeight": 351,
    "collapsed": false,
    "codeCollapsed": false
   },
   "outputs": [],
   "source": "mv_explanations = registered_model.run(train_pre_df, function_name=\"explain\")\nmv_explanations.show()",
   "execution_count": null
  },
  {
   "cell_type": "markdown",
   "id": "3de0d471-5bef-4403-8bc5-856c0ec5ee10",
   "metadata": {
    "name": "cell30",
    "collapsed": false,
    "resultHeight": 41
   },
   "source": "It is then possible to use the standard SHAP library to for example visulize"
  },
  {
   "cell_type": "code",
   "id": "5afdcc01-59fe-4b19-bd91-b46f580294fb",
   "metadata": {
    "language": "python",
    "name": "py_visulazie_shap_values",
    "collapsed": false,
    "resultHeight": 680,
    "codeCollapsed": false
   },
   "outputs": [],
   "source": "mv_explanations_pd = mv_explanations.to_pandas()\n\nmv_explanations_pd_2 = mv_explanations_pd[['GENDER_OHE_FEMALE_explanation',\n                                           'GENDER_OHE_MALE_explanation',\n                                           'MEMBERSHIP_STATUS_OE_explanation',\n                                           'MEMBERSHIP_LENGTH_DAYS_explanation',\n                                           'AVG_SESSION_LENGTH_MIN_IMP_explanation',\n                                           'AVG_TIME_ON_APP_MIN_IMP_explanation',\n                                           'AVG_TIME_ON_WEBSITE_MIN_IMP_explanation',\n                                           'APP_PRIMARY_explanation']]\n\n# Wrapping the explanations DataFrame into a SHAP recognized object\nshap_exp = shap._explanation.Explanation(mv_explanations_pd_2.values, \n                                         feature_names = mv_explanations_pd_2.columns)\nshap.plots.bar(shap_exp)",
   "execution_count": null
  },
  {
   "cell_type": "markdown",
   "id": "ab2cc4b9-4485-4ff3-aeb0-90dfb558ec8a",
   "metadata": {
    "name": "cell2",
    "collapsed": false,
    "resultHeight": 102
   },
   "source": "## Model Linage\n\nUsing the model view linage will give us the direct linage."
  },
  {
   "cell_type": "code",
   "execution_count": 108,
   "metadata": {
    "name": "py_model_linage",
    "language": "python",
    "codeCollapsed": false,
    "collapsed": false,
    "resultHeight": 239
   },
   "outputs": [
    {
     "data": {
      "text/plain": [
       "[Dataset(\n",
       "   name='SNOWPARK_DEMO_DB.SIMPLE_FS_SCHEMA.ECOMMERCE_CUSTOMER_FEATURES',\n",
       "   version='2024_09_12_13_15_12',\n",
       " )]"
      ]
     },
     "execution_count": 108,
     "metadata": {},
     "output_type": "execute_result"
    }
   ],
   "source": "registered_model.lineage('upstream')",
   "id": "ce110000-1111-2222-3333-ffffff000020"
  },
  {
   "cell_type": "markdown",
   "id": "091dfd25-62f3-4ed3-a60c-e504c901086c",
   "metadata": {
    "name": "cell1",
    "collapsed": false,
    "resultHeight": 67
   },
   "source": "By using Snowpark `lineage.trace` we can get more obejcts, and we can plot that (using a custom plotting function in the plotting.py file). We can also get the same level of details in Snowsight when we look at the model version there."
  },
  {
   "cell_type": "code",
   "execution_count": 109,
   "metadata": {
    "name": "py_plot_linage",
    "language": "python",
    "codeCollapsed": false,
    "collapsed": false,
    "resultHeight": 856
   },
   "outputs": [
    {
     "data": {
      "image/png": "[encoded data removed]",
      "text/plain": [
       "<Figure size 1100x600 with 1 Axes>"
      ]
     },
     "metadata": {},
     "output_type": "display_data"
    }
   ],
   "source": "df = session.lineage.trace(f\"{db_name}.{mr_schema_name}.CUSTOMER_LTV_MODEL\", \"MODEL\", object_version=registered_model.version_name, direction='upstream', distance=3)\nplot_lineage(df)",
   "id": "ce110000-1111-2222-3333-ffffff000021"
  },
  {
   "cell_type": "code",
   "id": "d8d273b0-49a6-4f98-bad7-28809b16ca66",
   "metadata": {
    "language": "python",
    "name": "cell29",
    "resultHeight": 0
   },
   "outputs": [],
   "source": "",
   "execution_count": null
  }
 ]
}