{
 "metadata": {
  "kernelspec": {
   "display_name": "notebooks_39",
   "language": "python",
   "name": "python3"
  },
  "language_info": {
   "codemirror_mode": {
    "name": "ipython",
    "version": 3
   },
   "file_extension": ".py",
   "mimetype": "text/x-python",
   "name": "python",
   "nbconvert_exporter": "python",
   "pygments_lexer": "ipython3",
   "version": "3.9.19"
  },
  "lastEditStatus": {
   "notebookId": "pvbjyihxq6xz4wqjmpmk",
   "authorId": "547381728337",
   "authorName": "ADMIN",
   "authorEmail": "mats.stellwall@snowflake.com",
   "sessionId": "b9138be4-622d-458b-8208-8b146ab70b47",
   "lastEditTime": 1736844360298
  }
 },
 "nbformat_minor": 2,
 "nbformat": 4,
 "cells": [
  {
   "cell_type": "markdown",
   "id": "804f30e9-7db5-41c9-8515-fb27a581a3ef",
   "metadata": {
    "name": "cell14",
    "collapsed": false,
    "resultHeight": 108
   },
   "source": "Before running this Notebook make sure you have the following Packages:  \n*`snowflake-ml-python`\n\nYou also need to add the file `demo_data.py` as a **Stage Package**, ie go to **Packages** -> **Stage Packages** and add `@snowpark_demo_db.simple_ml_schema.ASSETS/demo_data.py`"
  },
  {
   "cell_type": "code",
   "execution_count": 1,
   "metadata": {
    "name": "py_imports",
    "language": "python",
    "codeCollapsed": false,
    "collapsed": false,
    "resultHeight": 0
   },
   "outputs": [],
   "source": "# Import python packages\nimport streamlit as st\nimport joblib\n\nfrom snowflake.ml.feature_store import (\n    FeatureStore,\n    CreationMode)\n\nfrom snowflake.ml.registry import Registry\nfrom snowflake.ml.monitoring.entities import model_monitor_config\n\n# from snowflake.snowpark import Session\nimport snowflake.snowpark.functions as snow_funcs\n\n# Python script stored on a Snowflake stage\nfrom demo_data import generate_demo_data\n\n# Get the Snowpark session\nfrom snowflake.snowpark.context import get_active_session\nsession = get_active_session()\n",
   "id": "ce110000-1111-2222-3333-ffffff000000"
  },
  {
   "cell_type": "code",
   "execution_count": 3,
   "metadata": {
    "name": "py_set_context",
    "language": "python",
    "codeCollapsed": false,
    "collapsed": false,
    "resultHeight": 0
   },
   "outputs": [],
   "source": "db_name = \"SNOWPARK_DEMO_DB\"\nschema_name = \"SIMPLE_ML_SCHEMA\"\nfs_schema_name = \"SIMPLE_FS_SCHEMA\"\nmr_schema_name = \"SIMPLE_MR_SCHEMA\"\nwh_name = \"SIMPLE_ML_WH\"\nstage_name = \"ASSETS\"\n\nsession.use_schema(f'{db_name}.{schema_name}')\nsession.use_warehouse(wh_name)",
   "id": "ce110000-1111-2222-3333-ffffff000002"
  },
  {
   "cell_type": "markdown",
   "id": "8bc6ffdc-65cb-48cf-8cc4-81024dce3b36",
   "metadata": {
    "name": "cell15",
    "collapsed": false,
    "resultHeight": 102
   },
   "source": "## Generate new customers for inference\n\nGenerate 100 new customers to use, we will have to wait around one minute before they are part of our feature store (the schedule we setup during registring the features)"
  },
  {
   "cell_type": "code",
   "execution_count": 4,
   "metadata": {
    "name": "py_generate_new_customers",
    "language": "python",
    "codeCollapsed": false,
    "collapsed": false,
    "resultHeight": 0
   },
   "outputs": [
    {
     "name": "stdout",
     "output_type": "stream",
     "text": [
      "Added 1000 customers to table: CUSTOMER_LIFE_TIME_VALUE\n",
      "Added 1000 customers to table: CUSTOMER_GENERAL_DATA\n",
      "Added 1000 customers to table: CUSTOMER_BEHAVIOR_DATA\n",
      "Added 100 customers to table: CUSTOMER_LIFE_TIME_VALUE\n",
      "Added 100 customers to table: CUSTOMER_GENERAL_DATA\n",
      "Added 100 customers to table: CUSTOMER_BEHAVIOR_DATA\n",
      "------------------------\n",
      "|\"EMAIL\"               |\n",
      "------------------------\n",
      "|jq7ho1e2K7@KDDoU.com  |\n",
      "|TynfegHXC5@EK8gf.com  |\n",
      "|LaU10PhN7X@OCtzz.com  |\n",
      "|9Wphdu46yz@kmSyh.com  |\n",
      "|8ktBu2ygwj@U1PcJ.com  |\n",
      "|QAUnHdGliO@vsOQl.com  |\n",
      "|9Lnm15ODaM@fO9Ss.com  |\n",
      "|JVCgRooPMw@sV6cz.com  |\n",
      "|PZSjb31f9L@Kp66W.com  |\n",
      "|PW77M5pEsO@epc5D.com  |\n",
      "------------------------\n",
      "\n"
     ]
    }
   ],
   "source": "# Start by generating some new data that we will use for inference\nsession.use_schema(f'{db_name}.{schema_name}')\n\n# Generate new customers for year 2024\ngenerate_demo_data(session, num_customers=100, month=11, start_year=2024, end_year=2024)",
   "id": "ce110000-1111-2222-3333-ffffff000003"
  },
  {
   "cell_type": "markdown",
   "id": "0fef0448-8bbb-4358-9665-210e709ec98e",
   "metadata": {
    "name": "cell16",
    "collapsed": false,
    "resultHeight": 41
   },
   "source": "Greate a Spine DataFrame with the new customers, which will be used to get the features we have for them"
  },
  {
   "cell_type": "code",
   "execution_count": 12,
   "metadata": {
    "name": "py_generate_spine",
    "language": "python",
    "codeCollapsed": false,
    "collapsed": false,
    "resultHeight": 0
   },
   "outputs": [
    {
     "name": "stdout",
     "output_type": "stream",
     "text": [
      "------------------------\n",
      "|\"EMAIL\"               |\n",
      "------------------------\n",
      "|jq7ho1e2K7@KDDoU.com  |\n",
      "|TynfegHXC5@EK8gf.com  |\n",
      "|LaU10PhN7X@OCtzz.com  |\n",
      "|9Wphdu46yz@kmSyh.com  |\n",
      "|8ktBu2ygwj@U1PcJ.com  |\n",
      "|QAUnHdGliO@vsOQl.com  |\n",
      "|9Lnm15ODaM@fO9Ss.com  |\n",
      "|JVCgRooPMw@sV6cz.com  |\n",
      "|PZSjb31f9L@Kp66W.com  |\n",
      "|PW77M5pEsO@epc5D.com  |\n",
      "------------------------\n",
      "\n"
     ]
    }
   ],
   "source": "# Retrieve new customers\nnew_customers_df = session.table(f'{db_name}.{schema_name}.CUSTOMER_LIFE_TIME_VALUE').filter(snow_funcs.col('YEAR_MONTH')=='202411').select('EMAIL')\nnew_customers_df.show()",
   "id": "ce110000-1111-2222-3333-ffffff000004"
  },
  {
   "cell_type": "markdown",
   "id": "28567cfd-0161-478e-b529-6ee3eb82811b",
   "metadata": {
    "name": "cell17",
    "collapsed": false,
    "resultHeight": 41
   },
   "source": "Connect to the Feature Store"
  },
  {
   "cell_type": "code",
   "execution_count": 11,
   "metadata": {
    "name": "py_connect_fs",
    "language": "python",
    "codeCollapsed": false,
    "collapsed": false,
    "resultHeight": 0
   },
   "outputs": [],
   "source": [
    "# Connect to Feature Store\n",
    "fs = FeatureStore(\n",
    "    session=session, \n",
    "    database=db_name, \n",
    "    name=fs_schema_name, \n",
    "    default_warehouse=wh_name,\n",
    "    creation_mode=CreationMode.FAIL_IF_NOT_EXIST,\n",
    ")"
   ],
   "id": "ce110000-1111-2222-3333-ffffff000005"
  },
  {
   "cell_type": "markdown",
   "id": "6e3ec3ac-66fc-4e0c-8018-f8fe00c7e845",
   "metadata": {
    "name": "cell18",
    "collapsed": false,
    "resultHeight": 41
   },
   "source": "Get the feature views that has the features we want to use"
  },
  {
   "cell_type": "code",
   "execution_count": 13,
   "metadata": {
    "name": "py_get_feature_views",
    "language": "python",
    "codeCollapsed": false,
    "collapsed": false,
    "resultHeight": 0
   },
   "outputs": [],
   "source": [
    "cust_fv = fs.get_feature_view(name=\"CUSTOMER_GENERAL_DATA_FEATURES\",\n",
    "                                version=\"V1\")\n",
    "behavior_fv = fs.get_feature_view(name=\"CUSTOMER_BEHAVIOR_DATA_FEATURES\",\n",
    "                                version=\"V1\")"
   ],
   "id": "ce110000-1111-2222-3333-ffffff000006"
  },
  {
   "cell_type": "markdown",
   "id": "62be19c7-5354-46d7-962b-e92b7b54d7d0",
   "metadata": {
    "name": "cell19",
    "collapsed": false,
    "resultHeight": 67
   },
   "source": "Retrieve features using the Spine DataFrame (can take up to a minute until values appear)  \nAssumption is you only have the unique-id EMAIL and need to retrieve the features to score using the model"
  },
  {
   "cell_type": "code",
   "execution_count": 14,
   "metadata": {
    "name": "py_add_features",
    "language": "python",
    "codeCollapsed": false,
    "collapsed": false,
    "resultHeight": 0
   },
   "outputs": [
    {
     "name": "stdout",
     "output_type": "stream",
     "text": [
      "-----------------------------------------------------------------------------------------------------------------------------------------------------------------------------------\n",
      "|\"EMAIL\"               |\"GENDER\"  |\"MEMBERSHIP_STATUS\"  |\"MEMBERSHIP_LENGTH_DAYS\"  |\"AVG_SESSION_LENGTH_MIN\"  |\"AVG_TIME_ON_APP_MIN\"  |\"AVG_TIME_ON_WEBSITE_MIN\"  |\"APP_PRIMARY\"  |\n",
      "-----------------------------------------------------------------------------------------------------------------------------------------------------------------------------------\n",
      "|jq7ho1e2K7@KDDoU.com  |MALE      |BRONZE               |204                       |10.6627                   |2.6627                 |8.6627                     |0              |\n",
      "|TynfegHXC5@EK8gf.com  |MALE      |DIAMOND              |193                       |NULL                      |9.9401                 |9.9401                     |0              |\n",
      "|LaU10PhN7X@OCtzz.com  |FEMALE    |BASIC                |255                       |NULL                      |2.4742                 |4.4742                     |0              |\n",
      "|9Wphdu46yz@kmSyh.com  |FEMALE    |PLATIN               |73                        |NULL                      |12.2203                |11.2203                    |1              |\n",
      "|8ktBu2ygwj@U1PcJ.com  |MALE      |PLATIN               |27                        |NULL                      |8.3206                 |13.3206                    |0              |\n",
      "|QAUnHdGliO@vsOQl.com  |MALE      |PLATIN               |185                       |21.1256                   |13.1256                |9.1256                     |1              |\n",
      "|9Lnm15ODaM@fO9Ss.com  |MALE      |BASIC                |127                       |12.0822                   |6.0822                 |6.0822                     |0              |\n",
      "|JVCgRooPMw@sV6cz.com  |FEMALE    |BRONZE               |72                        |1.5872                    |4.5872                 |8.5872                     |0              |\n",
      "|PZSjb31f9L@Kp66W.com  |MALE      |BRONZE               |145                       |17.3736                   |4.3736                 |8.3736                     |0              |\n",
      "|PW77M5pEsO@epc5D.com  |FEMALE    |DIAMOND              |232                       |16.3435                   |10.3435                |NULL                       |0              |\n",
      "-----------------------------------------------------------------------------------------------------------------------------------------------------------------------------------\n",
      "\n"
     ]
    }
   ],
   "source": "new_customers_features = fs.retrieve_feature_values(new_customers_df, features=[cust_fv, behavior_fv])\nnew_customers_features.show()",
   "id": "ce110000-1111-2222-3333-ffffff000007"
  },
  {
   "cell_type": "markdown",
   "id": "606e8cd0-36ee-4d2c-b514-c2b39603b011",
   "metadata": {
    "name": "cell9",
    "collapsed": false,
    "resultHeight": 41
   },
   "source": "Connect to the Model Registry"
  },
  {
   "cell_type": "code",
   "execution_count": 15,
   "metadata": {
    "name": "py_connect_to_model_registry",
    "language": "python",
    "codeCollapsed": false,
    "collapsed": false,
    "resultHeight": 112
   },
   "outputs": [
    {
     "data": {
      "text/html": [
       "<div>\n",
       "<style scoped>\n",
       "    .dataframe tbody tr th:only-of-type {\n",
       "        vertical-align: middle;\n",
       "    }\n",
       "\n",
       "    .dataframe tbody tr th {\n",
       "        vertical-align: top;\n",
       "    }\n",
       "\n",
       "    .dataframe thead th {\n",
       "        text-align: right;\n",
       "    }\n",
       "</style>\n",
       "<table border=\"1\" class=\"dataframe\">\n",
       "  <thead>\n",
       "    <tr style=\"text-align: right;\">\n",
       "      <th></th>\n",
       "      <th>created_on</th>\n",
       "      <th>name</th>\n",
       "      <th>model_type</th>\n",
       "      <th>database_name</th>\n",
       "      <th>schema_name</th>\n",
       "      <th>comment</th>\n",
       "      <th>owner</th>\n",
       "      <th>default_version_name</th>\n",
       "      <th>versions</th>\n",
       "      <th>aliases</th>\n",
       "    </tr>\n",
       "  </thead>\n",
       "  <tbody>\n",
       "    <tr>\n",
       "      <th>0</th>\n",
       "      <td>2024-09-12 04:25:51.307000-07:00</td>\n",
       "      <td>CUSTOMER_LTV_MODEL</td>\n",
       "      <td>USER_MODEL</td>\n",
       "      <td>SNOWPARK_DEMO_DB</td>\n",
       "      <td>SIMPLE_MR_SCHEMA</td>\n",
       "      <td>None</td>\n",
       "      <td>SYSADMIN</td>\n",
       "      <td>MY_FIRST_MODEL_VERSION</td>\n",
       "      <td>[\"MY_FIRST_MODEL_VERSION\"]</td>\n",
       "      <td>{\"DEFAULT\":\"MY_FIRST_MODEL_VERSION\",\"FIRST\":\"M...</td>\n",
       "    </tr>\n",
       "  </tbody>\n",
       "</table>\n",
       "</div>"
      ],
      "text/plain": [
       "                        created_on                name  model_type  \\\n",
       "0 2024-09-12 04:25:51.307000-07:00  CUSTOMER_LTV_MODEL  USER_MODEL   \n",
       "\n",
       "      database_name       schema_name comment     owner  \\\n",
       "0  SNOWPARK_DEMO_DB  SIMPLE_MR_SCHEMA    None  SYSADMIN   \n",
       "\n",
       "     default_version_name                    versions  \\\n",
       "0  MY_FIRST_MODEL_VERSION  [\"MY_FIRST_MODEL_VERSION\"]   \n",
       "\n",
       "                                             aliases  \n",
       "0  {\"DEFAULT\":\"MY_FIRST_MODEL_VERSION\",\"FIRST\":\"M...  "
      ]
     },
     "execution_count": 15,
     "metadata": {},
     "output_type": "execute_result"
    }
   ],
   "source": "ml_reg = Registry(session=session, database_name=db_name, schema_name=mr_schema_name, options={\"enable_monitoring\": True})\nml_reg.show_models()",
   "id": "ce110000-1111-2222-3333-ffffff000009"
  },
  {
   "cell_type": "markdown",
   "id": "6d9aed90-4619-4028-91b9-e66365d7dc29",
   "metadata": {
    "name": "cell20",
    "collapsed": false,
    "resultHeight": 41
   },
   "source": "Get a reference to the default version of the model"
  },
  {
   "cell_type": "code",
   "id": "eba9c98f-e3f8-4f2a-adab-70deff95399d",
   "metadata": {
    "language": "python",
    "name": "py_get_default_model",
    "resultHeight": 0,
    "collapsed": false
   },
   "outputs": [],
   "source": "registered_model = ml_reg.get_model(\"CUSTOMER_LTV_MODEL\").default",
   "execution_count": null
  },
  {
   "cell_type": "markdown",
   "id": "050ac697-8f0e-4457-ae66-402c62c5a826",
   "metadata": {
    "name": "cell21",
    "collapsed": false,
    "resultHeight": 41
   },
   "source": "Check which functions we can use and the inputs/outputs for them"
  },
  {
   "cell_type": "code",
   "execution_count": 17,
   "metadata": {
    "name": "py_show_funcstions",
    "language": "python",
    "codeCollapsed": false,
    "resultHeight": 1245,
    "collapsed": false
   },
   "outputs": [
    {
     "data": {
      "text/plain": [
       "[{'name': 'PREDICT',\n",
       "  'target_method': 'predict',\n",
       "  'target_method_function_type': 'FUNCTION',\n",
       "  'signature': ModelSignature(\n",
       "                      inputs=[\n",
       "                          FeatureSpec(dtype=DataType.STRING, name='GENDER'),\n",
       "  \t\tFeatureSpec(dtype=DataType.STRING, name='MEMBERSHIP_STATUS'),\n",
       "  \t\tFeatureSpec(dtype=DataType.INT16, name='MEMBERSHIP_LENGTH_DAYS'),\n",
       "  \t\tFeatureSpec(dtype=DataType.DOUBLE, name='AVG_SESSION_LENGTH_MIN'),\n",
       "  \t\tFeatureSpec(dtype=DataType.DOUBLE, name='AVG_TIME_ON_APP_MIN'),\n",
       "  \t\tFeatureSpec(dtype=DataType.DOUBLE, name='AVG_TIME_ON_WEBSITE_MIN'),\n",
       "  \t\tFeatureSpec(dtype=DataType.INT8, name='APP_PRIMARY')\n",
       "                      ],\n",
       "                      outputs=[\n",
       "                          FeatureSpec(dtype=DataType.INT8, name='GENDER_OHE_FEMALE'),\n",
       "  \t\tFeatureSpec(dtype=DataType.INT8, name='GENDER_OHE_MALE'),\n",
       "  \t\tFeatureSpec(dtype=DataType.DOUBLE, name='MEMBERSHIP_STATUS_OE'),\n",
       "  \t\tFeatureSpec(dtype=DataType.INT16, name='MEMBERSHIP_LENGTH_DAYS'),\n",
       "  \t\tFeatureSpec(dtype=DataType.DOUBLE, name='AVG_SESSION_LENGTH_MIN_IMP'),\n",
       "  \t\tFeatureSpec(dtype=DataType.DOUBLE, name='AVG_TIME_ON_APP_MIN_IMP'),\n",
       "  \t\tFeatureSpec(dtype=DataType.DOUBLE, name='AVG_TIME_ON_WEBSITE_MIN_IMP'),\n",
       "  \t\tFeatureSpec(dtype=DataType.INT8, name='APP_PRIMARY'),\n",
       "  \t\tFeatureSpec(dtype=DataType.DOUBLE, name='LIFE_TIME_VALUE_PREDICTION')\n",
       "                      ]\n",
       "                  ),\n",
       "  'is_partitioned': False}]"
      ]
     },
     "execution_count": 17,
     "metadata": {},
     "output_type": "execute_result"
    }
   ],
   "source": [
    "registered_model.show_functions()"
   ],
   "id": "ce110000-1111-2222-3333-ffffff000011"
  },
  {
   "cell_type": "markdown",
   "id": "d3cf10e5-6de2-43b0-a9c5-a8f48868bae4",
   "metadata": {
    "name": "cell22",
    "collapsed": false,
    "resultHeight": 41
   },
   "source": "Create predictions from registered model given the retrieved features, we are saving them as a table in Snowflake"
  },
  {
   "cell_type": "code",
   "id": "f81fd7a1-64b7-40fe-a2ce-8e521b80c037",
   "metadata": {
    "language": "python",
    "name": "py_get_pre_pipline",
    "resultHeight": 0,
    "collapsed": false
   },
   "outputs": [],
   "source": "output_stream = session.file.get_stream(f\"@{stage_name}/pre_processing.joblib\")\npipline_preprocessing = joblib.load(output_stream)",
   "execution_count": null
  },
  {
   "cell_type": "markdown",
   "id": "e384b4d0-918f-4091-a068-b04410cd487a",
   "metadata": {
    "name": "cell1",
    "collapsed": false,
    "resultHeight": 41
   },
   "source": "Apply the pre processing pipline of the data and get predictions"
  },
  {
   "cell_type": "code",
   "execution_count": 18,
   "metadata": {
    "name": "py_get_new_predictions",
    "language": "python",
    "codeCollapsed": false,
    "resultHeight": 0,
    "collapsed": false
   },
   "outputs": [
    {
     "name": "stdout",
     "output_type": "stream",
     "text": [
      "--------------------------------------------------------------------------------------------------------------------------------------------------------------------------------------------------------------------------------------------------------------------------------------------------------------------------------------------------------------------------------\n",
      "|\"EMAIL\"               |\"GENDER\"  |\"MEMBERSHIP_STATUS\"  |\"AVG_SESSION_LENGTH_MIN\"  |\"AVG_TIME_ON_APP_MIN\"  |\"AVG_TIME_ON_WEBSITE_MIN\"  |\"GENDER_OHE_FEMALE\"  |\"GENDER_OHE_MALE\"  |\"MEMBERSHIP_STATUS_OE\"  |\"MEMBERSHIP_LENGTH_DAYS\"  |\"AVG_SESSION_LENGTH_MIN_IMP\"  |\"AVG_TIME_ON_APP_MIN_IMP\"  |\"AVG_TIME_ON_WEBSITE_MIN_IMP\"  |\"APP_PRIMARY\"  |\"LIFE_TIME_VALUE_PREDICTION\"  |\n",
      "--------------------------------------------------------------------------------------------------------------------------------------------------------------------------------------------------------------------------------------------------------------------------------------------------------------------------------------------------------------------------------\n",
      "|ruV6Q10yyW@jx2qB.com  |MALE      |BASIC                |9.8579                    |6.8579                 |7.8579                     |0                    |1                  |0.0                     |-7                        |9.8579                        |6.8579                     |7.8579                         |0              |139.4165496826172             |\n",
      "|VGhNYxEKbt@kj12h.com  |FEMALE    |SILVER               |11.7681                   |NULL                   |8.7681                     |1                    |0                  |2.0                     |90                        |11.7681                       |7.746826854824635          |8.7681                         |0              |318.291259765625              |\n",
      "|rap1NSEI8e@kGX3R.com  |MALE      |PLATIN               |5.9726                    |11.9726                |10.9726                    |0                    |1                  |4.0                     |46                        |5.9726                        |11.9726                    |10.9726                        |1              |600.1307373046875             |\n",
      "|pNSxpTOjMf@P3HBf.com  |FEMALE    |BRONZE               |10.6544                   |4.6544                 |8.6544                     |1                    |0                  |1.0                     |216                       |10.6544                       |4.6544                     |8.6544                         |0              |202.47157287597656            |\n",
      "|KPmwXY32qC@MaRP5.com  |FEMALE    |BASIC                |16.1963                   |4.1963                 |4.1963                     |1                    |0                  |0.0                     |170                       |16.1963                       |4.1963                     |4.1963                         |0              |142.06170654296875            |\n",
      "|hGyBo3fUVc@Pkyfr.com  |FEMALE    |BASIC                |12.7898                   |5.7898                 |7.7898                     |1                    |0                  |0.0                     |128                       |12.7898                       |5.7898                     |7.7898                         |0              |137.79759216308594            |\n",
      "|YMZCHXBmm3@J5HZN.com  |MALE      |GOLD                 |20.1905                   |NULL                   |11.1905                    |0                    |1                  |3.0                     |250                       |20.1905                       |7.746826854824635          |11.1905                        |0              |532.022216796875              |\n",
      "|RMbBDiVIrk@HlMVZ.com  |MALE      |GOLD                 |16.9657                   |8.9657                 |7.9657                     |0                    |1                  |3.0                     |42                        |16.9657                       |8.9657                     |7.9657                         |1              |541.1078491210938             |\n",
      "|nDq20ixn5c@rl4YJ.com  |FEMALE    |BASIC                |3.4892                    |2.4892                 |3.4892                     |1                    |0                  |0.0                     |103                       |3.4892                        |2.4892                     |3.4892                         |0              |55.70866394042969             |\n",
      "|WttDwVsh6k@q5YSz.com  |FEMALE    |SILVER               |14.5883                   |8.5883                 |5.5883                     |1                    |0                  |2.0                     |64                        |14.5883                       |8.5883                     |5.5883                         |1              |295.4669189453125             |\n",
      "--------------------------------------------------------------------------------------------------------------------------------------------------------------------------------------------------------------------------------------------------------------------------------------------------------------------------------------------------------------------------------\n",
      "\n"
     ]
    }
   ],
   "source": "new_customers_features_pre = pipline_preprocessing.transform(new_customers_features)\nnew_predictions = registered_model.run(new_customers_features_pre, function_name='predict')\n\nnew_predictions.show()",
   "id": "ce110000-1111-2222-3333-ffffff000012"
  },
  {
   "cell_type": "markdown",
   "id": "58f3ec88-6c8b-4949-85ef-1f3c716ca697",
   "metadata": {
    "name": "cell2",
    "collapsed": false,
    "resultHeight": 41
   },
   "source": "Save the predictions into a table so we can use them with the model monitor, since we do not capture the real LTV in this demo we will fake it. "
  },
  {
   "cell_type": "code",
   "id": "82088107-b59c-4957-af63-94874089b1a0",
   "metadata": {
    "language": "python",
    "name": "py_save_new_predictions",
    "resultHeight": 0,
    "collapsed": false
   },
   "outputs": [],
   "source": "new_predictions = new_predictions.with_column(\"PREDICTION_TIMESTAMP\"\n                                                , snow_funcs.to_timestamp(snow_funcs.lit(\"2024-12-01\"), snow_funcs.lit(\"YYYY-MM-DD\")))\nnew_predictions = new_predictions.with_column_renamed('\"output_feature_0\"' \n                                                      , \"LIFE_TIME_VALUE_PREDICTION\")\nnew_predictions = new_predictions.with_column(\"LIFE_TIME_VALUE\" \n                                              , snow_funcs.col(\"LIFE_TIME_VALUE_PREDICTION\") * snow_funcs.uniform(snow_funcs.lit(0.98), snow_funcs.lit(1.05), snow_funcs.random()))\n\nnew_predictions.write.save_as_table(f\"{db_name}.{schema_name}.MY_PREDICTIONS\", mode=\"overwrite\")\n",
   "execution_count": null
  },
  {
   "cell_type": "markdown",
   "id": "b35c187a-3d9f-43a2-a409-c6fe9e5c7b35",
   "metadata": {
    "name": "cell3",
    "collapsed": false,
    "resultHeight": 41
   },
   "source": "Check the table using SQL"
  },
  {
   "cell_type": "code",
   "id": "b603760d-d3d0-4894-82c6-57b778e39864",
   "metadata": {
    "language": "sql",
    "name": "sql_check_table",
    "resultHeight": 0,
    "codeCollapsed": false,
    "collapsed": false
   },
   "outputs": [],
   "source": "select * from SNOWPARK_DEMO_DB.SIMPLE_ML_SCHEMA.MY_PREDICTIONS;",
   "execution_count": null
  },
  {
   "cell_type": "markdown",
   "id": "70142c4d-6f11-4a29-9bb1-b11fbfcb98cd",
   "metadata": {
    "name": "cell11",
    "collapsed": false,
    "resultHeight": 41
   },
   "source": "Create a model monitor, we need to provide two configurations. One for the monitor ie name, wh etc and one for the data to be used for it."
  },
  {
   "cell_type": "code",
   "id": "f1e98539-2217-4345-96c4-c83ac2abaecb",
   "metadata": {
    "language": "sql",
    "name": "sql_create_model_monitor",
    "resultHeight": 0
   },
   "outputs": [],
   "source": "-- Using SQL until the Python way works\nCREATE MODEL MONITOR SNOWPARK_DEMO_DB.SIMPLE_MR_SCHEMA.CUSTOMER_LTV_MONITOR\n                WITH\n                    MODEL=SNOWPARK_DEMO_DB.SIMPLE_MR_SCHEMA.CUSTOMER_LTV_MODEL\n                    VERSION='{{registered_model.version_name}}'\n                    FUNCTION='predict'\n                    WAREHOUSE=SIMPLE_ML_WH\n                    SOURCE=SNOWPARK_DEMO_DB.SIMPLE_ML_SCHEMA.MY_PREDICTIONS\n                    ID_COLUMNS=('EMAIL')\n                    PREDICTION_SCORE_COLUMNS=('LIFE_TIME_VALUE_PREDICTION')\n                    PREDICTION_CLASS_COLUMNS=()\n                    ACTUAL_SCORE_COLUMNS=('LIFE_TIME_VALUE')\n                    ACTUAL_CLASS_COLUMNS=()\n                    TIMESTAMP_COLUMN='PREDICTION_TIMESTAMP'\n                    REFRESH_INTERVAL='1 minute'\n                    AGGREGATION_WINDOW='1 day'\n                    BASELINE=SNOWPARK_DEMO_DB.SIMPLE_ML_SCHEMA.CUSTOMER_LTV_BASELINE;",
   "execution_count": null
  },
  {
   "cell_type": "code",
   "id": "d2809085-85a6-402d-a3e9-8210db24b32a",
   "metadata": {
    "language": "python",
    "name": "py_create_model_monitor",
    "resultHeight": 0,
    "codeCollapsed": false,
    "collapsed": false
   },
   "outputs": [],
   "source": "# Do not work with version 1.7.2, use the SQL above\nmonitor_config = model_monitor_config.ModelMonitorConfig(\n            model_version=registered_model,\n            model_function_name=\"predict\",\n            background_compute_warehouse_name=wh_name,\n            refresh_interval = \"1 minute\" # For demo purpose, in real life this should reflect how often we get the acctuals\n        )\n\ntable_config = model_monitor_config.ModelMonitorSourceConfig(\n            source=f\"{db_name}.{schema_name}.MY_PREDICTIONS\",\n            id_columns=[\"EMAIL\"],\n            timestamp_column=\"PREDICTION_TIMESTAMP\",\n            prediction_score_columns=[\"LIFE_TIME_VALUE_PREDICTION\"],\n            actual_score_columns=[\"LIFE_TIME_VALUE\"],\n            baseline=f\"{db_name}.{schema_name}.CUSTOMER_LTV_BASELINE\"\n        )\n\nmy_model_monitor = ml_reg.add_monitor(name=\"customer_ltv_monitor\"\n                    , source_config = table_config\n                    , model_monitor_config = monitor_config\n                    )\n",
   "execution_count": null
  },
  {
   "cell_type": "markdown",
   "id": "cff4597c-9b82-4113-9988-8ad7b254b262",
   "metadata": {
    "name": "cell4",
    "collapsed": false,
    "resultHeight": 41
   },
   "source": "Lets generate some more customers and run predictions on top of those as well to fake another date for the predictions so we can see something in our model monitoring dashboard."
  },
  {
   "cell_type": "code",
   "id": "45f4d2a1-12bb-4116-8ad9-b95444e28668",
   "metadata": {
    "language": "python",
    "name": "py_generate_aditional_data",
    "codeCollapsed": false,
    "resultHeight": 83,
    "collapsed": false
   },
   "outputs": [],
   "source": "generate_demo_data(session, num_customers=100, month=12, start_year=2024, end_year=2024)",
   "execution_count": null
  },
  {
   "cell_type": "markdown",
   "id": "32c8fe27-f2c4-4fdd-9846-0f2a949772c0",
   "metadata": {
    "name": "cell5",
    "collapsed": false,
    "resultHeight": 41
   },
   "source": "**Make sure you wait at least 1 minute before executing the next cell so the features are populated...**"
  },
  {
   "cell_type": "code",
   "id": "94d9c39e-b2c3-4231-bc29-5670aefd062a",
   "metadata": {
    "language": "python",
    "name": "py_addtional_predictions",
    "resultHeight": 0,
    "collapsed": false
   },
   "outputs": [],
   "source": "# Retrieve new customers\nnewer_customers_df = session.table(f'{db_name}.{schema_name}.CUSTOMER_LIFE_TIME_VALUE').filter(snow_funcs.col('YEAR_MONTH')=='202412').select('EMAIL')\nnewer_customers_features = fs.retrieve_feature_values(newer_customers_df, features=[cust_fv, behavior_fv])\n\nnewer_customers_features_pre = pipline_preprocessing.transform(newer_customers_features)\nnewer_predictions = registered_model.run(newer_customers_features_pre, function_name='predict')\n\nnewer_predictions.show()",
   "execution_count": null
  },
  {
   "cell_type": "markdown",
   "id": "b301f8ee-665f-4221-b6e0-7f19dd6279af",
   "metadata": {
    "name": "cell10",
    "collapsed": false,
    "resultHeight": 83
   },
   "source": "Append the new predictions to the MY_PREDICTIONS table that we use for our model monitor, and we will fake the actual column here as well.\n\n**You have to wait for at least 1 minute before this data will be used in the monitor**"
  },
  {
   "cell_type": "code",
   "id": "3609002b-9b67-43fe-b256-2aa8e3bd9385",
   "metadata": {
    "language": "python",
    "name": "py_save_additional_predictions",
    "resultHeight": 0,
    "codeCollapsed": false,
    "collapsed": false
   },
   "outputs": [],
   "source": "newer_predictions = newer_predictions.with_column(\"PREDICTION_TIMESTAMP\", snow_funcs.to_timestamp(snow_funcs.lit(\"2025-01-01\"), snow_funcs.lit(\"YYYY-MM-DD\")))\nnewer_predictions = newer_predictions.with_column_renamed('\"output_feature_0\"' , \"LIFE_TIME_VALUE_PREDICTION\")\nnewer_predictions = newer_predictions.with_column(\"LIFE_TIME_VALUE\" \n                                              , snow_funcs.col(\"LIFE_TIME_VALUE_PREDICTION\") * snow_funcs.uniform(snow_funcs.lit(0.75), snow_funcs.lit(1.11), snow_funcs.random()))\n\nnewer_predictions.write.save_as_table(f\"{db_name}.{schema_name}.MY_PREDICTIONS\", mode=\"append\")\n",
   "execution_count": null
  },
  {
   "cell_type": "markdown",
   "id": "d9387831-71d3-4ea5-8952-f68dab274dd9",
   "metadata": {
    "name": "cell6",
    "collapsed": false,
    "resultHeight": 41
   },
   "source": "You can now go out to Snowsight and navigate to the model to see the monitored values, be sure to select a date range that capture the dates used to generate data"
  }
 ]
}