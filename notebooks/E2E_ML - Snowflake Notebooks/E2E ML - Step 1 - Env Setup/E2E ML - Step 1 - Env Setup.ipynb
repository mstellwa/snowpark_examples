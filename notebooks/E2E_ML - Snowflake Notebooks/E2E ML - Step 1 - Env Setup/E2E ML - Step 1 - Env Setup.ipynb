{
 "metadata": {
  "kernelspec": {
   "display_name": "notebooks_39",
   "language": "python",
   "name": "python3"
  },
  "language_info": {
   "codemirror_mode": {
    "name": "ipython",
    "version": 3
   },
   "file_extension": ".py",
   "mimetype": "text/x-python",
   "name": "python",
   "nbconvert_exporter": "python",
   "pygments_lexer": "ipython3",
   "version": "3.9.19"
  }
 },
 "nbformat_minor": 2,
 "nbformat": 4,
 "cells": [
  {
   "cell_type": "markdown",
   "id": "8659ff22-3a46-4314-b3b7-f0358b43a616",
   "metadata": {
    "name": "cell15",
    "collapsed": false
   },
   "source": "Before running this noetbook makes sure that the following packages are added\n* `snowflake`"
  },
  {
   "cell_type": "code",
   "execution_count": 1,
   "metadata": {
    "name": "cell1",
    "language": "python",
    "codeCollapsed": false
   },
   "outputs": [],
   "source": "# Import python packages\nimport streamlit as st\n\n# Snowflake Python API\nfrom snowflake.core import Root\nfrom snowflake.core.database import Database\nfrom snowflake.core.schema import Schema\nfrom snowflake.core.warehouse import Warehouse\nfrom snowflake.core.stage import Stage, StageEncryption, StageDirectoryTable\nfrom snowflake.core import Root\n\nfrom snowflake.ml.feature_store import FeatureStore, CreationMode\n\n\n# Get the Snowpark session\nfrom snowflake.snowpark.context import get_active_session\nsession = get_active_session()\n",
   "id": "ce110000-1111-2222-3333-ffffff000000"
  },
  {
   "cell_type": "code",
   "id": "1d34cf1b-0813-4dbd-87a8-6550d5cbb0fe",
   "metadata": {
    "language": "sql",
    "name": "cell12",
    "codeCollapsed": false
   },
   "outputs": [],
   "source": "SNOWPARK_DEMO_DB.SIMPLE_ML_SCHEMA.PYTHON_CODE",
   "execution_count": null
  },
  {
   "cell_type": "code",
   "id": "ccf19f5c-b0d2-42a5-89ac-a0618d790237",
   "metadata": {
    "language": "python",
    "name": "cell13"
   },
   "outputs": [],
   "source": "db_name = \"SNOWPARK_DEMO_DB\"\nschema_name = \"SIMPLE_ML_SCHEMA\" # Source data\nfs_schema_name = \"SIMPLE_FS_SCHEMA\" # Feature Store\nmr_schema_name = \"SIMPLE_MR_SCHEMA\" # Model Registry\nwh_name = \"SIMPLE_ML_WH\"\n",
   "execution_count": null
  },
  {
   "cell_type": "code",
   "execution_count": 3,
   "metadata": {
    "name": "cell3",
    "language": "python",
    "codeCollapsed": false
   },
   "outputs": [],
   "source": "# Create Database & Schema\nroot = Root(session)\nml_demo_db = Database(name=db_name)\nml_demo_db = root.databases.create(ml_demo_db, mode='if_not_exists')\n\nml_demo_schema = Schema(name=schema_name)\nml_demo_schema = ml_demo_db.schemas.create(ml_demo_schema, mode='or_replace')\n\nml_mr_schema = Schema(name=mr_schema_name)\nml_mr_schema = ml_demo_db.schemas.create(ml_mr_schema, mode='or_replace')\n\nml_fs_schema = Schema(name=fs_schema_name)\nml_fs_schema = ml_demo_db.schemas.create(ml_fs_schema, mode='or_replace')\n\n\n# Create warehouse\nml_wh = Warehouse(\n    name=wh_name, \n    warehouse_size=\"MEDIUM\", \n    auto_suspend=600, \n    auto_resume='true', \n)\n    #warehouse_type='SNOWPARK-OPTIMIZED')\nwarehouses = root.warehouses\nml_wh = warehouses.create(ml_wh, mode='or_replace')\n\n# Set context\nsession.use_schema(f'{db_name}.{schema_name}')\nsession.use_warehouse(wh_name)\n\n# Create Stages\ndrift_reports_stage = Stage(\n  name=\"DRIFT_REPORTS\",\n  encryption=StageEncryption(type=\"SNOWFLAKE_SSE\"), \n  directory_table=StageDirectoryTable(enable=True)\n)\ndrift_reports_stage = ml_demo_schema.stages.create(drift_reports_stage, mode='or_replace')\n\ncode_stage = Stage(\n  name=\"PYTHON_CODE\",\n  encryption=StageEncryption(type=\"SNOWFLAKE_SSE\"), \n  directory_table=StageDirectoryTable(enable=True)\n)\ncode_stage = ml_demo_schema.stages.create(code_stage, mode='or_replace')\n\n\nfunc_stage = Stage(\n  name=\"MONITORING\",\n  encryption=StageEncryption(type=\"SNOWFLAKE_SSE\"), \n  directory_table=StageDirectoryTable(enable=True)\n)\nfunc_stage = ml_demo_schema.stages.create(func_stage, mode='or_replace')\n\ndag_stage = Stage(\n  name=\"DAG_STAGE\",\n)\ndag_stage = ml_demo_schema.stages.create(dag_stage, mode='or_replace')\n\n# Create Feature Store\nfs = FeatureStore(\n    session=session, \n    database=db_name, \n    name=fs_schema_name, \n    default_warehouse=wh_name,\n    creation_mode=CreationMode.CREATE_IF_NOT_EXIST,\n)",
   "id": "ce110000-1111-2222-3333-ffffff000002"
  },
  {
   "cell_type": "code",
   "execution_count": 4,
   "metadata": {
    "name": "cell4",
    "language": "python",
    "codeCollapsed": false
   },
   "outputs": [
    {
     "data": {
      "text/plain": [
       "'\"SNOWPARK_DEMO_DB\".\"SIMPLE_ML_SCHEMA\"'"
      ]
     },
     "execution_count": 4,
     "metadata": {},
     "output_type": "execute_result"
    }
   ],
   "source": [
    "session.get_fully_qualified_current_schema()"
   ],
   "id": "ce110000-1111-2222-3333-ffffff000003"
  },
  {
   "cell_type": "markdown",
   "id": "a0ace605-3e6b-48b6-845a-7fe8f3891eab",
   "metadata": {
    "name": "cell2",
    "collapsed": false
   },
   "source": "Before generating data you need to upload the `demo_data.py` file to the `PYTHON_CODE`stage and then add the file as a **Stage Package**  \nYou also need to upload `plotting.py` that will be used in a Notebook later"
  },
  {
   "cell_type": "code",
   "id": "f876c4a9-7d76-4752-b940-597ce53b4840",
   "metadata": {
    "language": "sql",
    "name": "cell10",
    "codeCollapsed": false
   },
   "outputs": [],
   "source": "ls @snowpark_demo_db.simple_ml_schema.python_code",
   "execution_count": null
  },
  {
   "cell_type": "code",
   "execution_count": 5,
   "metadata": {
    "name": "cell5",
    "language": "python",
    "codeCollapsed": false
   },
   "outputs": [
    {
     "name": "stdout",
     "output_type": "stream",
     "text": [
      "Added 200000 customers to table: CUSTOMER_LIFE_TIME_VALUE\n",
      "Added 200000 customers to table: CUSTOMER_GENERAL_DATA\n",
      "Added 200000 customers to table: CUSTOMER_BEHAVIOR_DATA\n"
     ]
    }
   ],
   "source": "\nfrom demo_data import generate_demo_data\n\nsession.use_schema(f'{db_name}.{schema_name}')\n\ngenerate_demo_data(session, num_customers=200000, month=8, start_year=2020, end_year=2024)",
   "id": "ce110000-1111-2222-3333-ffffff000004"
  },
  {
   "cell_type": "code",
   "execution_count": 6,
   "metadata": {
    "name": "cell6",
    "language": "python",
    "codeCollapsed": false
   },
   "outputs": [
    {
     "data": {
      "text/plain": [
       "'\"SNOWPARK_DEMO_DB\".\"SIMPLE_ML_SCHEMA\"'"
      ]
     },
     "execution_count": 6,
     "metadata": {},
     "output_type": "execute_result"
    }
   ],
   "source": [
    "session.get_fully_qualified_current_schema()"
   ],
   "id": "ce110000-1111-2222-3333-ffffff000005"
  },
  {
   "cell_type": "code",
   "execution_count": 8,
   "metadata": {
    "name": "cell7",
    "language": "python",
    "codeCollapsed": false
   },
   "outputs": [
    {
     "name": "stdout",
     "output_type": "stream",
     "text": [
      "Customer Life Time Value Data:\n",
      "--------------------------------------------\n",
      "|\"EMAIL\"               |\"LIFE_TIME_VALUE\"  |\n",
      "--------------------------------------------\n",
      "|ISEglO3tBE@jRkXJ.com  |20.03              |\n",
      "|blarIyWxnz@EyabS.com  |207.69             |\n",
      "--------------------------------------------\n",
      "\n",
      "Customer General Data:\n",
      "------------------------------------------------------------------------------\n",
      "|\"EMAIL\"               |\"GENDER\"  |\"MEMBERSHIP_STATUS\"  |\"MEMBER_JOIN_DATE\"  |\n",
      "------------------------------------------------------------------------------\n",
      "|ISEglO3tBE@jRkXJ.com  |MALE      |BASIC                |2020-03-21          |\n",
      "|blarIyWxnz@EyabS.com  |MALE      |BRONZE               |2024-02-03          |\n",
      "------------------------------------------------------------------------------\n",
      "\n",
      "Customer Behavior Data:\n",
      "-------------------------------------------------------------------------------------------------------\n",
      "|\"EMAIL\"               |\"AVG_SESSION_LENGTH_MIN\"  |\"AVG_TIME_ON_APP_MIN\"  |\"AVG_TIME_ON_WEBSITE_MIN\"  |\n",
      "-------------------------------------------------------------------------------------------------------\n",
      "|ISEglO3tBE@jRkXJ.com  |3.2003                    |1.2003                 |6.2003                     |\n",
      "|blarIyWxnz@EyabS.com  |5.0769                    |NULL                   |5.0769                     |\n",
      "-------------------------------------------------------------------------------------------------------\n",
      "\n"
     ]
    }
   ],
   "source": [
    "# Create a Snowpark DataFrames\n",
    "print('Customer Life Time Value Data:')\n",
    "ltv_df = session.table(f'{db_name}.{schema_name}.CUSTOMER_LIFE_TIME_VALUE').drop('YEAR_MONTH')\n",
    "ltv_df.show(n=2)\n",
    "\n",
    "print('Customer General Data:')\n",
    "cust_df = session.table(f'{db_name}.{schema_name}.CUSTOMER_GENERAL_DATA')\n",
    "cust_df.show(n=2)\n",
    "\n",
    "print('Customer Behavior Data:')\n",
    "behavior_df = session.table(f'{db_name}.{schema_name}.CUSTOMER_BEHAVIOR_DATA')\n",
    "behavior_df.show(n=2)"
   ],
   "id": "ce110000-1111-2222-3333-ffffff000006"
  },
  {
   "cell_type": "code",
   "execution_count": null,
   "metadata": {
    "name": "cell9",
    "language": "python",
    "codeCollapsed": false
   },
   "outputs": [],
   "source": [],
   "id": "ce110000-1111-2222-3333-ffffff000008"
  }
 ]
}