{
 "metadata": {
  "kernelspec": {
   "display_name": "notebooks_39",
   "language": "python",
   "name": "python3"
  },
  "language_info": {
   "codemirror_mode": {
    "name": "ipython",
    "version": 3
   },
   "file_extension": ".py",
   "mimetype": "text/x-python",
   "name": "python",
   "nbconvert_exporter": "python",
   "pygments_lexer": "ipython3",
   "version": "3.9.19"
  }
 },
 "nbformat_minor": 2,
 "nbformat": 4,
 "cells": [
  {
   "cell_type": "markdown",
   "id": "8659ff22-3a46-4314-b3b7-f0358b43a616",
   "metadata": {
    "name": "cell15",
    "collapsed": false,
    "resultHeight": 153
   },
   "source": "Before running this noetbook makes sure that the following packages are added\n* `snowflake.core`\n* `snowflake-ml-python`\n\nIf you get an error of that `demo_data.py`is missing then go into **Packages**->**Stage Packages** and remove it."
  },
  {
   "cell_type": "code",
   "execution_count": 1,
   "metadata": {
    "name": "py_imports",
    "language": "python",
    "codeCollapsed": false,
    "resultHeight": 0,
    "collapsed": false
   },
   "outputs": [],
   "source": "# Import python packages\nimport streamlit as st\n\n# Snowflake Python API\nfrom snowflake.core import Root\nfrom snowflake.core.database import Database\nfrom snowflake.core.schema import Schema\nfrom snowflake.core.warehouse import Warehouse\nfrom snowflake.core.stage import Stage, StageEncryption, StageDirectoryTable\nfrom snowflake.core import Root\n\nfrom snowflake.ml.feature_store import FeatureStore, CreationMode\n\n\n# Get the Snowpark session\nfrom snowflake.snowpark.context import get_active_session\nsession = get_active_session()\n",
   "id": "ce110000-1111-2222-3333-ffffff000000"
  },
  {
   "cell_type": "code",
   "id": "ccf19f5c-b0d2-42a5-89ac-a0618d790237",
   "metadata": {
    "language": "python",
    "name": "py_set_variables",
    "resultHeight": 0,
    "collapsed": false
   },
   "outputs": [],
   "source": "db_name = \"SNOWPARK_DEMO_DB\" \nschema_name = \"SIMPLE_ML_SCHEMA\" # Data\nfs_schema_name = \"SIMPLE_FS_SCHEMA\" # Feature Store\nmr_schema_name = \"SIMPLE_MR_SCHEMA\" # Model Registry\nwh_name = \"SIMPLE_ML_WH\"\n",
   "execution_count": null
  },
  {
   "cell_type": "code",
   "execution_count": 3,
   "metadata": {
    "name": "py_create_snowflake_objects",
    "language": "python",
    "codeCollapsed": false,
    "resultHeight": 0,
    "collapsed": false
   },
   "outputs": [],
   "source": "# Create Database & Schema\nroot = Root(session)\nml_demo_db = Database(name=db_name)\nml_demo_db = root.databases.create(ml_demo_db, mode='if_not_exists')\n\nml_demo_schema = Schema(name=schema_name)\nml_demo_schema = ml_demo_db.schemas.create(ml_demo_schema, mode='or_replace')\n\nml_mr_schema = Schema(name=mr_schema_name)\nml_mr_schema = ml_demo_db.schemas.create(ml_mr_schema, mode='or_replace')\n\nml_fs_schema = Schema(name=fs_schema_name)\nml_fs_schema = ml_demo_db.schemas.create(ml_fs_schema, mode='or_replace')\n\ncode_stage = Stage(\n  name=\"ASSETS\",\n  encryption=StageEncryption(type=\"SNOWFLAKE_SSE\"), \n  directory_table=StageDirectoryTable(enable=True)\n)\ncode_stage = ml_demo_schema.stages.create(code_stage, mode='or_replace')\n\n\n# Create warehouse\nml_wh = Warehouse(\n    name=wh_name, \n    warehouse_size=\"MEDIUM\", \n    auto_suspend=600, \n    auto_resume='true', \n)\n\nwarehouses = root.warehouses\nml_wh = warehouses.create(ml_wh, mode='or_replace')\n\n# Set context\nsession.use_schema(f'{db_name}.{schema_name}')\nsession.use_warehouse(wh_name)\n\n\n# Create Feature Store\nfs = FeatureStore(\n    session=session, \n    database=db_name, \n    name=fs_schema_name, \n    default_warehouse=wh_name,\n    creation_mode=CreationMode.CREATE_IF_NOT_EXIST,\n)",
   "id": "ce110000-1111-2222-3333-ffffff000002"
  },
  {
   "cell_type": "code",
   "execution_count": 4,
   "metadata": {
    "name": "py_set_context",
    "language": "python",
    "codeCollapsed": false,
    "resultHeight": 54,
    "collapsed": false
   },
   "outputs": [
    {
     "data": {
      "text/plain": [
       "'\"SNOWPARK_DEMO_DB\".\"SIMPLE_ML_SCHEMA\"'"
      ]
     },
     "execution_count": 4,
     "metadata": {},
     "output_type": "execute_result"
    }
   ],
   "source": "session.use_schema(f'{db_name}.{schema_name}')\nsession.use_warehouse(wh_name)\n\nsession.get_fully_qualified_current_schema()\n",
   "id": "ce110000-1111-2222-3333-ffffff000003"
  },
  {
   "cell_type": "markdown",
   "id": "a0ace605-3e6b-48b6-845a-7fe8f3891eab",
   "metadata": {
    "name": "cell2",
    "collapsed": false,
    "resultHeight": 108
   },
   "source": "**Before generating data you need to upload the `demo_data.py` file to the `ASSETS` stage** and then add the file as a **Stage Package** , by gp to **Packages** -> **Stage Packages** and add `@snowpark_demo_db.simple_ml_schema.ASSETS/demo_data.py`, if you have used the default values for `db_name` and `schema_name`.\n\nYou also need to upload `plotting.py` that will be used in a Notebook later"
  },
  {
   "cell_type": "code",
   "id": "f876c4a9-7d76-4752-b940-597ce53b4840",
   "metadata": {
    "language": "sql",
    "name": "sql_list_stage",
    "codeCollapsed": false,
    "collapsed": false,
    "resultHeight": 112
   },
   "outputs": [],
   "source": "ls @snowpark_demo_db.simple_ml_schema.ASSETS/demo_data.py",
   "execution_count": null
  },
  {
   "cell_type": "code",
   "execution_count": 5,
   "metadata": {
    "name": "py_generate_data",
    "language": "python",
    "codeCollapsed": false,
    "collapsed": false,
    "resultHeight": 83
   },
   "outputs": [
    {
     "name": "stdout",
     "output_type": "stream",
     "text": [
      "Added 200000 customers to table: CUSTOMER_LIFE_TIME_VALUE\n",
      "Added 200000 customers to table: CUSTOMER_GENERAL_DATA\n",
      "Added 200000 customers to table: CUSTOMER_BEHAVIOR_DATA\n"
     ]
    }
   ],
   "source": "\nfrom demo_data import generate_demo_data\n\nsession.use_schema(f'{db_name}.{schema_name}')\n\ngenerate_demo_data(session, num_customers=200000, month=8, start_year=2020, end_year=2024)",
   "id": "ce110000-1111-2222-3333-ffffff000004"
  },
  {
   "cell_type": "code",
   "execution_count": 8,
   "metadata": {
    "name": "py_check_tables",
    "language": "python",
    "codeCollapsed": false,
    "resultHeight": 518,
    "collapsed": false
   },
   "outputs": [
    {
     "name": "stdout",
     "output_type": "stream",
     "text": [
      "Customer Life Time Value Data:\n",
      "--------------------------------------------\n",
      "|\"EMAIL\"               |\"LIFE_TIME_VALUE\"  |\n",
      "--------------------------------------------\n",
      "|ISEglO3tBE@jRkXJ.com  |20.03              |\n",
      "|blarIyWxnz@EyabS.com  |207.69             |\n",
      "--------------------------------------------\n",
      "\n",
      "Customer General Data:\n",
      "------------------------------------------------------------------------------\n",
      "|\"EMAIL\"               |\"GENDER\"  |\"MEMBERSHIP_STATUS\"  |\"MEMBER_JOIN_DATE\"  |\n",
      "------------------------------------------------------------------------------\n",
      "|ISEglO3tBE@jRkXJ.com  |MALE      |BASIC                |2020-03-21          |\n",
      "|blarIyWxnz@EyabS.com  |MALE      |BRONZE               |2024-02-03          |\n",
      "------------------------------------------------------------------------------\n",
      "\n",
      "Customer Behavior Data:\n",
      "-------------------------------------------------------------------------------------------------------\n",
      "|\"EMAIL\"               |\"AVG_SESSION_LENGTH_MIN\"  |\"AVG_TIME_ON_APP_MIN\"  |\"AVG_TIME_ON_WEBSITE_MIN\"  |\n",
      "-------------------------------------------------------------------------------------------------------\n",
      "|ISEglO3tBE@jRkXJ.com  |3.2003                    |1.2003                 |6.2003                     |\n",
      "|blarIyWxnz@EyabS.com  |5.0769                    |NULL                   |5.0769                     |\n",
      "-------------------------------------------------------------------------------------------------------\n",
      "\n"
     ]
    }
   ],
   "source": [
    "# Create a Snowpark DataFrames\n",
    "print('Customer Life Time Value Data:')\n",
    "ltv_df = session.table(f'{db_name}.{schema_name}.CUSTOMER_LIFE_TIME_VALUE').drop('YEAR_MONTH')\n",
    "ltv_df.show(n=2)\n",
    "\n",
    "print('Customer General Data:')\n",
    "cust_df = session.table(f'{db_name}.{schema_name}.CUSTOMER_GENERAL_DATA')\n",
    "cust_df.show(n=2)\n",
    "\n",
    "print('Customer Behavior Data:')\n",
    "behavior_df = session.table(f'{db_name}.{schema_name}.CUSTOMER_BEHAVIOR_DATA')\n",
    "behavior_df.show(n=2)"
   ],
   "id": "ce110000-1111-2222-3333-ffffff000006"
  }
 ]
}