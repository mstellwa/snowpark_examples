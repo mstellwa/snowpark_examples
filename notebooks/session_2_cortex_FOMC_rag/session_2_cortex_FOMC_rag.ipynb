{
 "metadata": {
  "language_info": {
   "name": "python"
  }
 },
 "nbformat_minor": 2,
 "nbformat": 4,
 "cells": [
  {
   "cell_type": "markdown",
   "metadata": {
    "name": "cell1",
    "collapsed": false,
    "resultHeight": 369
   },
   "source": "### Set up snowflake\n\nBefore running this notebook, make sure you have set up your Snowflake database, schema and stages. \n\n- Go to your Snowflake UI and create a database called \"RAG_DEMO\". \n- In that database, create a schema called \"RAG_DEMO_SCHEMA\". \n- In that schema, create one internal stage called \"UDF\" and one internal stage called \"FED_PRESS_CONF\".\n- Open that stage called \"FED_PRESS_CONF\", click on +files, and load the FOMC PDF into that stage. \n\n\n",
   "id": "e88906d9-d2e6-4f00-8857-7bd6eabda635"
  },
  {
   "cell_type": "code",
   "execution_count": null,
   "metadata": {
    "name": "cell2",
    "language": "python",
    "collapsed": false,
    "resultHeight": 0
   },
   "outputs": [],
   "source": "### Import Libraries\nimport pandas as pd\nfrom PyPDF2 import PdfFileReader\nfrom snowflake.snowpark.files import SnowflakeFile\nfrom io import BytesIO\nfrom snowflake.snowpark.types import StringType, StructField, StructType\nfrom langchain.text_splitter import RecursiveCharacterTextSplitter\n\n\nfrom snowflake.snowpark.session import Session\nimport json\n\nsession = get_active_session()",
   "id": "6109a32d-99b9-4b7c-8c2a-864cd4fb1323"
  },
  {
   "cell_type": "code",
   "id": "6e83328b-a883-43a3-99cb-41048c432e91",
   "metadata": {
    "language": "python",
    "name": "cell3",
    "collapsed": false,
    "resultHeight": 83
   },
   "outputs": [],
   "source": "session",
   "execution_count": null
  },
  {
   "cell_type": "markdown",
   "metadata": {
    "name": "cell5",
    "resultHeight": 88
   },
   "source": [
    "### Create PDF Extract Function using PyPDF2\n",
    "\n",
    "Create a function to extract text from a PDF and store it as characters in a table."
   ],
   "id": "235aebfa-0702-46f5-8e75-04a6af0fabdd"
  },
  {
   "cell_type": "code",
   "execution_count": null,
   "metadata": {
    "name": "cell6",
    "language": "python",
    "collapsed": false,
    "resultHeight": 0
   },
   "outputs": [],
   "source": [
    "\n",
    "\n",
    "def readpdf(file_path):\n",
    "    whole_text = \"\"\n",
    "    with SnowflakeFile.open(file_path, 'rb') as file:\n",
    "        f = BytesIO(file.readall())\n",
    "        pdf_reader = PdfFileReader(f)\n",
    "        whole_text = \"\"\n",
    "        for page in pdf_reader.pages:\n",
    "            whole_text += page.extract_text()\n",
    "    return whole_text"
   ],
   "id": "0cd6e8e5-6622-41d1-b12a-676f52886ca2"
  },
  {
   "cell_type": "code",
   "execution_count": null,
   "metadata": {
    "name": "cell7",
    "language": "python",
    "collapsed": false
   },
   "outputs": [],
   "source": "### Register Function as User Defined Function\n\nsession.udf.register(\n    func = readpdf\n  , return_type = StringType()\n  , input_types = [StringType()]\n  , is_permanent = True\n  , name = 'SNOWPARK_PDF_TWO'\n  , replace = True\n  , packages=['snowflake-snowpark-python','pypdf2']\n  , stage_location = 'RAG_DEMO.RAG_DEMO_SCHEMA.UDF'\n)",
   "id": "b13d12f9-11cb-4b15-9343-ed465c99e7af"
  },
  {
   "cell_type": "code",
   "execution_count": null,
   "metadata": {
    "name": "cell8",
    "language": "python",
    "collapsed": false
   },
   "outputs": [],
   "source": "# Create UDTF For Chunking via Langchain\n# A class for chunking text and returning a table via UDTF\nfrom snowflake.snowpark.types import StringType, StructField, StructType\nfrom langchain.text_splitter import RecursiveCharacterTextSplitter\n\nclass text_chunker:\n\n    def process(self,text):        \n        text_raw=[]\n        text_raw.append(text) \n        \n        text_splitter = RecursiveCharacterTextSplitter(\n            separators = [\"\\n\"], # Define an appropriate separator. New line is good typically!\n            chunk_size = 1000, # Adjust this as you see fit\n            chunk_overlap  = 50, # This let's text have some form of overlap. Useful for keeping chunks contextual\n            length_function = len,\n            add_start_index = True # Optional but useful if you'd like to feed the chunk before/after\n        )\n    \n        chunks = text_splitter.create_documents(text_raw)\n        # df = pd.DataFrame(chunks, columns=['chunks','meta'])\n        df = pd.DataFrame([[d.page_content, d.metadata] for d in chunks], columns=['chunks','meta'])\n        \n        yield from df.itertuples(index=False, name=None)",
   "id": "e3a81eb8-dc1f-411a-b5e0-18febccd9db6"
  },
  {
   "cell_type": "code",
   "execution_count": null,
   "metadata": {
    "name": "cell9",
    "language": "python",
    "collapsed": false
   },
   "outputs": [],
   "source": "### Register the UDTF - set the stage location\n\n\nschema = StructType([\n     StructField(\"chunk\", StringType()),\n    StructField(\"meta\", StringType()),\n ])\n\nsession.udtf.register( \n    handler = text_chunker,\n    output_schema= schema, \n    input_types = [StringType()] , \n    is_permanent = True , \n    name = 'CHUNK_TEXT_TWO' , \n    replace = True , \n    packages=['pandas','langchain'], stage_location = 'RAG_DEMO.RAG_DEMO_SCHEMA.UDF' )",
   "id": "0a1e5a96-a753-4fdf-a0e5-ceb214266218"
  },
  {
   "cell_type": "code",
   "id": "c574cdb1-8a46-4b45-a191-aee9fc70dc5f",
   "metadata": {
    "language": "sql",
    "name": "cell10",
    "collapsed": false,
    "codeCollapsed": false,
    "resultHeight": 0
   },
   "outputs": [],
   "source": "-- invoke UDF to extract text from PDF\nCREATE OR REPLACE TABLE FED_RAW_TEXT AS\nSELECT\n    relative_path\n    , file_url\n    , SNOWFLAKE.CORTEX.PARSE_DOCUMENT(@fed_press_conf, relative_path) as raw_text\nfrom directory(@fed_press_conf);\n\nSELECT *\nFROM FED_RAW_TEXT;\n",
   "execution_count": null
  },
  {
   "cell_type": "code",
   "id": "3402cde6-ec33-4ec4-b6f6-44cf14797063",
   "metadata": {
    "language": "sql",
    "name": "cell15",
    "collapsed": false,
    "resultHeight": 112
   },
   "outputs": [],
   "source": "SELECT *\nFROM FED_RAW_TEXT;",
   "execution_count": null
  },
  {
   "cell_type": "code",
   "id": "8b79017d-ba82-40b3-bc2a-65f72c5aa783",
   "metadata": {
    "language": "sql",
    "name": "cell12",
    "collapsed": true,
    "resultHeight": 111,
    "codeCollapsed": false
   },
   "outputs": [],
   "source": "-- Create the chunked version of the table\nCREATE OR REPLACE TABLE FED_CHUNK_TEXT AS\nSELECT\n        relative_path,\n        func.*\n    FROM FED_RAW_TEXT AS raw,\n         TABLE(chunk_text_two(raw_text)) as func;\n\n",
   "execution_count": null
  },
  {
   "cell_type": "code",
   "id": "e928c3af-8483-4210-8877-6c2e6ec02b2e",
   "metadata": {
    "language": "sql",
    "name": "cell14",
    "collapsed": false,
    "resultHeight": 427
   },
   "outputs": [],
   "source": "SELECT *\nFROM FED_CHUNK_TEXT LIMIT 10;",
   "execution_count": null
  },
  {
   "cell_type": "code",
   "id": "1ab2369b-0f96-4611-bc19-9b446ca2ce6e",
   "metadata": {
    "language": "sql",
    "name": "cell11",
    "collapsed": false,
    "codeCollapsed": false
   },
   "outputs": [],
   "source": "--Convert your chunks to embeddings\nCREATE OR REPLACE TABLE FED_VECTOR_STORE AS\nSELECT\nRELATIVE_PATH as PRESS_CONF,\nCHUNK AS CHUNK,\nsnowflake.cortex.embed_text_768('snowflake-arctic-embed-m', chunk) as chunk_embedding\nFROM FED_CHUNK_TEXT;\n\nSELECT *\nFROM FED_VECTOR_STORE;\n\n",
   "execution_count": null
  },
  {
   "cell_type": "code",
   "id": "ceb8e9d5-62c9-493b-871f-076350ecbbef",
   "metadata": {
    "language": "sql",
    "name": "cell4",
    "collapsed": false,
    "resultHeight": 427
   },
   "outputs": [],
   "source": "SELECT *\nFROM FED_VECTOR_STORE LIMIT 10;",
   "execution_count": null
  },
  {
   "cell_type": "code",
   "id": "571d0c43-5c4c-4495-ae5e-5fa82b51cb6f",
   "metadata": {
    "language": "sql",
    "name": "cell13",
    "collapsed": false,
    "resultHeight": 251
   },
   "outputs": [],
   "source": "SELECT PRESS_CONF, CHUNK, CHUNK_EMBEDDING from RAG_DEMO.RAG_DEMO_SCHEMA.FED_VECTOR_STORE\n            ORDER BY VECTOR_COSINE_SIMILARITY(\n            snowflake.cortex.embed_text_768('snowflake-arctic-embed-m', \n            'have rates peaked?'\n            ), CHUNK_EMBEDDING\n            ) limit 5\n        ;",
   "execution_count": null
  }
 ]
}