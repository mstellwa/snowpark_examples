{
 "cells": [
  {
   "cell_type": "markdown",
   "id": "f2d0f473-3e84-410e-b9f8-d8cc86dd946c",
   "metadata": {},
   "source": [
    "# Stored Procedures Examples\n",
    "\n",
    "This notebook contains diffrenet examples of how to create Stored Procedures using the Snowpark API"
   ]
  },
  {
   "cell_type": "code",
   "execution_count": null,
   "id": "0a241ea1-cfd9-41b1-bf59-ee17aad33860",
   "metadata": {
    "tags": []
   },
   "outputs": [],
   "source": [
    "# Make sure we do not get line breaks when doing show on wide dataframes\n",
    "from IPython.core.display import HTML\n",
    "display(HTML(\"<style>pre { white-space: pre !important; }</style>\"))\n",
    "\n",
    "# Snowpark imports \n",
    "import snowflake.snowpark as S\n",
    "from snowflake.snowpark import Session, DataFrame\n",
    "from snowflake.snowpark import functions as F\n",
    "from snowflake.snowpark import types as T\n",
    "\n",
    "# Used for reading creds.json\n",
    "import json\n",
    "\n",
    "# Print the version of Snowpark we are using\n",
    "print(f\"Using Snowpark: {S.__version__}\")"
   ]
  },
  {
   "cell_type": "code",
   "execution_count": null,
   "id": "38d3717b-7e4a-4838-9da7-0e12bdc6a4c4",
   "metadata": {},
   "outputs": [],
   "source": []
  },
  {
   "cell_type": "markdown",
   "id": "93c4ca02-2385-4ad2-945b-93977048509f",
   "metadata": {
    "tags": []
   },
   "source": [
    "## Connect to Snowflake\n",
    "\n",
    "This example is using a JSON file with the following structure\n",
    "```\n",
    "{\n",
    "    \"account\":\"MY SNOWFLAKE ACCOUNT\",\n",
    "    \"user\": \"MY USER\",\n",
    "    \"password\":\"MY PASSWORD\",\n",
    "    \"role\":\"MY ROLE\",\n",
    "    \"warehouse\":\"MY WH\",\n",
    "    \"database\":\"MY DB\",\n",
    "    \"schema\":\"MY SCHEMA\"\n",
    "}\n",
    "\n",
    "```"
   ]
  },
  {
   "cell_type": "code",
   "execution_count": null,
   "id": "b255d52c-2f3f-4978-a308-f1433e8f37b3",
   "metadata": {
    "tags": []
   },
   "outputs": [],
   "source": [
    "with open('../creds.json') as f:\n",
    "    connection_parameters = json.load(f)\n",
    "\n",
    "snf_session = Session.builder.configs(connection_parameters).create()\n",
    "print(\"Current role: \" + snf_session.get_current_role() + \", Current schema: \" + snf_session.get_fully_qualified_current_schema() + \", Current WH: \" + snf_session.get_current_warehouse())"
   ]
  },
  {
   "cell_type": "markdown",
   "id": "8d9f9855-893b-4a0d-af5b-a1f156e86d42",
   "metadata": {},
   "source": [
    "# Python Stored Procedures\n",
    "\n",
    "A Stored Procedure can be created using the **@sporc** decorator, the **sporc** function or the **sporc.register** method ofthe session object. It can be permanent or temporary.\n",
    "\n",
    "## Using a function\n",
    "Start by creating a Stored Procedure (SP) that returns a string, by setting *is_permanent=False* the SP will only be avalible for our user and also only until the active Snowflake session is closed.\n",
    "By using **session.clear_imports()** and **session.clear_packages()** we make sure that old imports and packages are not included for the creation.\n",
    "\n",
    "The function for the Stored Procedure needs to have a Snowflake session type as the first argument and after that additional agruments."
   ]
  },
  {
   "cell_type": "code",
   "execution_count": null,
   "id": "5b9288e1-9f74-4208-a1b6-75e886761042",
   "metadata": {
    "tags": []
   },
   "outputs": [],
   "source": [
    "snf_session.clear_imports()\n",
    "snf_session.clear_packages()\n",
    "@F.sproc(name=\"hello_sp\", is_permanent=False, replace=True, packages=['snowflake-snowpark-python'], session=snf_session)\n",
    "def hello_sp(session: Session, name: str) -> str:\n",
    "    curr_db = session.get_current_database()\n",
    "    return f'Hello {name} this is running in the {curr_db} database!'"
   ]
  },
  {
   "cell_type": "markdown",
   "id": "3851e2f3-ea13-42f3-8a46-5d19e4340e32",
   "metadata": {},
   "source": [
    "The Stored Procedure can be called using the **call** function of the Snowflake session object or using sql (CALL sp_name(arg1, arg2, ..)). When calling a Python Stored Procedure the session is never provided as a argument, it is handled snowflake"
   ]
  },
  {
   "cell_type": "code",
   "execution_count": null,
   "id": "2461281b-029f-4492-a9ae-11fb450a5c51",
   "metadata": {},
   "outputs": [],
   "source": [
    "hello_sp(snf_session, 'mats')"
   ]
  },
  {
   "cell_type": "code",
   "execution_count": null,
   "id": "16477727-2e4e-4ed6-9559-179958ca0288",
   "metadata": {
    "tags": []
   },
   "outputs": [],
   "source": [
    "snf_session.call(\"hello_sp\", \"mats\")"
   ]
  },
  {
   "cell_type": "markdown",
   "id": "1e8a6825-2e1c-43b1-881c-79f7f24d5844",
   "metadata": {},
   "source": [
    "To call a stored procedure with SQL"
   ]
  },
  {
   "cell_type": "code",
   "execution_count": null,
   "id": "ebf19230-17a2-4e50-9545-8e1de123eb94",
   "metadata": {},
   "outputs": [],
   "source": [
    "snf_session.sql(\"call hello_sp('mats')\").show(max_width=150)"
   ]
  },
  {
   "cell_type": "markdown",
   "id": "51b1150d-fe2c-4c77-a7ad-700b8ffa98cf",
   "metadata": {},
   "source": [
    "Get information about the Stored Procedure"
   ]
  },
  {
   "cell_type": "code",
   "execution_count": null,
   "id": "a2fb8884-c06d-4f1c-a1a6-cf22c17a4652",
   "metadata": {
    "tags": []
   },
   "outputs": [],
   "source": [
    "snf_session.sproc.describe(hello_sp).show(max_width=150)"
   ]
  },
  {
   "cell_type": "markdown",
   "id": "6c07eb71-a6be-4713-b07b-8e5f6b7ce49e",
   "metadata": {},
   "source": [
    "## Default values for arguments\n",
    "We can add default values to the parameter, however we still need to provide the input, so instead of using default value we need to check for Null/None and make sure that we provide a Null/None value to indicate that the default value should be used"
   ]
  },
  {
   "cell_type": "code",
   "execution_count": null,
   "id": "85f9ce71-8d99-4786-a705-a25cc86d44cc",
   "metadata": {},
   "outputs": [],
   "source": [
    "snf_session.clear_imports()\n",
    "snf_session.clear_packages()\n",
    "@F.sproc(name=\"hello_default_sp\", is_permanent=False, replace=True, packages=['snowflake-snowpark-python'], session=snf_session)\n",
    "def hello_default_sp(session: Session, name: str, age:int) -> str:\n",
    "    if age is None:\n",
    "        age = 45\n",
    "    return f'Hello {name} with the age of {age}!'"
   ]
  },
  {
   "cell_type": "code",
   "execution_count": null,
   "id": "509ca4d9-30f6-4459-a949-90a9445ad6fc",
   "metadata": {},
   "outputs": [],
   "source": [
    "snf_session.call(\"hello_default_sp\", \"mats\", 49)"
   ]
  },
  {
   "cell_type": "code",
   "execution_count": null,
   "id": "56c958d0-fc91-4531-ab75-78d95b03374f",
   "metadata": {
    "scrolled": true
   },
   "outputs": [],
   "source": [
    "snf_session.call(\"hello_default_sp\", \"mats\", None)"
   ]
  },
  {
   "cell_type": "code",
   "execution_count": null,
   "id": "723bbd8d-9859-4084-a339-a0ed1bbfe43e",
   "metadata": {},
   "outputs": [],
   "source": [
    "hello_default_sp(snf_session,\"mats\", None)"
   ]
  },
  {
   "cell_type": "markdown",
   "id": "04eb61f2-b8dc-46ee-83d2-58899d883461",
   "metadata": {},
   "source": [
    "We can also use the fact that you can have multiple Stored Procedures with same name in a schema as long they have diffrent number of parameters\n",
    "\n",
    "So, if we create a hello_default_sp without the age parameter:"
   ]
  },
  {
   "cell_type": "code",
   "execution_count": null,
   "id": "2525217d-8faf-4234-9f4c-a37c20f6d3b9",
   "metadata": {},
   "outputs": [],
   "source": [
    "@F.sproc(name=\"hello_default_sp\", is_permanent=False, replace=True, packages=['snowflake-snowpark-python'], session=snf_session)\n",
    "def hello_default_sp(session: Session, name: str) -> str:\n",
    "    age = 45\n",
    "    return f'Hello {name} with the default age of {age}!'"
   ]
  },
  {
   "cell_type": "markdown",
   "id": "417317ea-d847-4f50-9aba-8f5eac1bb661",
   "metadata": {},
   "source": [
    "We can then call the Stored Procedure without the age parameter"
   ]
  },
  {
   "cell_type": "code",
   "execution_count": null,
   "id": "fade6cd7-ca01-4051-b0d1-5008f1116758",
   "metadata": {},
   "outputs": [],
   "source": [
    "snf_session.call(\"hello_default_sp\", \"mats\")"
   ]
  },
  {
   "cell_type": "markdown",
   "id": "236a5204-f5fb-4468-b070-c67ac325b7fe",
   "metadata": {},
   "source": [
    "If we then add the age argument, the previous created Stored Procedure will be called:"
   ]
  },
  {
   "cell_type": "code",
   "execution_count": null,
   "id": "45470034-c715-4cc8-a768-8cf23219b2c3",
   "metadata": {},
   "outputs": [],
   "source": [
    "snf_session.call(\"hello_default_sp\", \"mats\", 49)"
   ]
  },
  {
   "cell_type": "markdown",
   "id": "24f73104-c26b-4dd2-83eb-6ff1467fc953",
   "metadata": {},
   "source": [
    "##  Register a file as a Stored Procedure\n",
    "\n",
    "We can create a stored procedure from a Python file using **sproc.register_from_file**. The file can be local or on a Snowflake stage.\n",
    "\n",
    "### Create a Stored Procedure from a local file\n",
    "When using a local file, then the file will be uploaded to Snowflake and as a part of the Stored Procedure meaning that if we update the file we need to recreate the Stored Procedure.\n",
    "\n",
    "Start by creating a file localy with a simple function in it"
   ]
  },
  {
   "cell_type": "code",
   "execution_count": null,
   "id": "e33765cb-328a-4df6-b868-417dda8810e1",
   "metadata": {},
   "outputs": [],
   "source": [
    "%%writefile ../py_scripts/sp_examples/file_sp.py\n",
    "from snowflake.snowpark import Session\n",
    "\n",
    "def hello(session: Session, name: str) -> str:\n",
    "    curr_db = session.get_current_database()\n",
    "    return f'Hello {name} this SP is created from a local Python file and is running in the {curr_db} database!'"
   ]
  },
  {
   "cell_type": "markdown",
   "id": "38024e43-9f38-434a-a327-88d25fa197a3",
   "metadata": {},
   "source": [
    "Register a Stored Procedure using the file we just created."
   ]
  },
  {
   "cell_type": "code",
   "execution_count": null,
   "id": "2fab6690-2f54-4330-bd61-8f03fa9ef6f0",
   "metadata": {},
   "outputs": [],
   "source": [
    "snf_session.clear_imports()\n",
    "snf_session.clear_packages()\n",
    "\n",
    "file_sp = snf_session.sproc.register_from_file(name=\"local_file_sp\", file_path=\"../py_scripts/sp_examples/file_sp.py\", func_name=\"hello\"\n",
    "                                           , packages=['snowflake-snowpark-python'], replace=True, is_permanent=False)\n"
   ]
  },
  {
   "cell_type": "markdown",
   "id": "927517b5-566f-49df-be01-6cb445223dfc",
   "metadata": {},
   "source": [
    "Call the Stored Procedure"
   ]
  },
  {
   "cell_type": "code",
   "execution_count": null,
   "id": "8a2ba9f6-482c-42af-97f2-178b2c03614a",
   "metadata": {},
   "outputs": [],
   "source": [
    "snf_session.call(\"local_file_sp\", \"mats\")"
   ]
  },
  {
   "cell_type": "markdown",
   "id": "ab5d3c97-bad9-462b-92dc-9a36cc94b495",
   "metadata": {},
   "source": [
    "### Create a Stored Procedure from a file on a Snowflake stage\n",
    "\n",
    "By first storing our python file on a Snowflake stage we can update the file without having to recreate the Stored Procedure.\n",
    "\n",
    "Start by creating anew file with afunction in it."
   ]
  },
  {
   "cell_type": "code",
   "execution_count": null,
   "id": "40268122-3483-4f57-a59c-9f1db46de43d",
   "metadata": {},
   "outputs": [],
   "source": [
    "%%writefile ../py_scripts/sp_examples/stage_sp.py\n",
    "from snowflake.snowpark import Session\n",
    "\n",
    "def hello(session: Session, name: str) -> str:\n",
    "    curr_db = session.get_current_database()\n",
    "    return f'Hello {name} this SP is created from a Python file on a stage and is running in the {curr_db} database!'"
   ]
  },
  {
   "cell_type": "markdown",
   "id": "b92aa9de-4b53-4cda-ae54-61405a6cf96b",
   "metadata": {},
   "source": [
    "We also need a Snowflake stage to store the file, we can either use a external stage (AWS S3, Azure Blob Storage , Google Cloud Storage) or a internal stage (managed by Snowflake).  In this example we are using a Snowflake internal stage."
   ]
  },
  {
   "cell_type": "code",
   "execution_count": null,
   "id": "2f50819b-690a-4df8-8276-4e7500f63600",
   "metadata": {},
   "outputs": [],
   "source": [
    "snf_session.sql(\"create or replace stage python_files\").collect()"
   ]
  },
  {
   "cell_type": "markdown",
   "id": "acf491c6-4110-445f-82c5-226d3b53b882",
   "metadata": {},
   "source": [
    "To ad the file to the stage we can use **file.put** if the stage is a Snowflake Internal, if using a cloud provider we need to use their tools to upload it."
   ]
  },
  {
   "cell_type": "code",
   "execution_count": null,
   "id": "7e3c434a-c45e-4fee-b8a6-18636c75770e",
   "metadata": {},
   "outputs": [],
   "source": [
    "snf_session.file.put('../py_scripts/sp_examples/stage_sp.py', '@python_files/sp_examples/', auto_compress=False, overwrite=True)"
   ]
  },
  {
   "cell_type": "markdown",
   "id": "d8e09f3e-9023-4c61-8b51-ab756eeb1be7",
   "metadata": {},
   "source": [
    "When creating a Python Stored Procedure from a file on a stage we need to provide what data types the arguments and return value have through the **return_type** and **input_type** parameters."
   ]
  },
  {
   "cell_type": "code",
   "execution_count": null,
   "id": "fd697b74-f36c-407f-b68e-653590fba13f",
   "metadata": {},
   "outputs": [],
   "source": [
    "snf_session.clear_imports()\n",
    "snf_session.clear_packages()\n",
    "\n",
    "file_sp = snf_session.sproc.register_from_file(name=\"file_stage_sp\", file_path=\"@python_files/sp_examples/stage_sp.py\", func_name=\"hello\"\n",
    "                                           , return_type=T.StringType(), input_types=[T.StringType()]\n",
    "                                           , packages=['snowflake-snowpark-python']\n",
    "                                           , replace=True, is_permanent=False)\n"
   ]
  },
  {
   "cell_type": "markdown",
   "id": "b3f5238f-f72c-4f08-b9c6-c63a7e64dc30",
   "metadata": {},
   "source": [
    "Test the Stored Procedure"
   ]
  },
  {
   "cell_type": "code",
   "execution_count": null,
   "id": "56dc44bf-e948-4dce-8252-5f8dd20211fc",
   "metadata": {},
   "outputs": [],
   "source": [
    "snf_session.call(\"file_stage_sp\", \"mats\")"
   ]
  },
  {
   "cell_type": "markdown",
   "id": "0a141c4c-5952-4429-ab58-f2904056e40b",
   "metadata": {},
   "source": [
    "If we update the file..."
   ]
  },
  {
   "cell_type": "code",
   "execution_count": null,
   "id": "f13cdbdd-d6e7-4581-a934-6b43c3d4edde",
   "metadata": {},
   "outputs": [],
   "source": [
    "%%writefile ../py_scripts/sp_examples/stage_sp.py\n",
    "from snowflake.snowpark import Session\n",
    "\n",
    "def hello(session: Session, name: str) -> str:\n",
    "    curr_db = session.get_current_database()\n",
    "    return f'Hello {name} this SP is using a updated Python file from a stage and is running in the {curr_db} database!'"
   ]
  },
  {
   "cell_type": "markdown",
   "id": "b93e0ec6-4629-487e-bc33-ac4dc8b83c1a",
   "metadata": {},
   "source": []
  },
  {
   "cell_type": "code",
   "execution_count": null,
   "id": "01d10f54-d43f-4239-aaaf-7526ec33c888",
   "metadata": {},
   "outputs": [],
   "source": [
    "snf_session.file.put('../py_scripts/sp_examples/stage_sp.py', '@python_files/sp_examples/', auto_compress=False, overwrite=True)"
   ]
  },
  {
   "cell_type": "markdown",
   "id": "a2b0f82e-be54-4a6f-8d81-670311b92b3b",
   "metadata": {},
   "source": [
    "And if we call the Stored Procedure again we are now using the new version"
   ]
  },
  {
   "cell_type": "code",
   "execution_count": null,
   "id": "34842b5f-4e71-4f9f-8884-b4ba2b8dc85a",
   "metadata": {},
   "outputs": [],
   "source": [
    "snf_session.call(\"file_stage_sp\", \"mats\")"
   ]
  },
  {
   "cell_type": "markdown",
   "id": "05dc3d8f-896f-4868-936f-a2e1a413818e",
   "metadata": {},
   "source": [
    "## Using a function in a Python file\n",
    "### Using a local Python file\n",
    "We can use functions in Python files from a Python Stored Procedure, we only need to add those files using the **import** parameter.\n",
    "\n",
    "Start by creating a file"
   ]
  },
  {
   "cell_type": "code",
   "execution_count": null,
   "id": "070b9f58-03e0-4283-9359-03aca33ddc28",
   "metadata": {},
   "outputs": [],
   "source": [
    "%%writefile ../py_scripts/sp_examples/modules/local_module.py\n",
    "def hello_name(name: str) -> str:\n",
    "    return f'Hello {name} using a Python file for this function!'\n"
   ]
  },
  {
   "cell_type": "markdown",
   "id": "a6a8669e-8d65-4a90-8543-e400e5908acb",
   "metadata": {},
   "source": [
    "Create Python Stored Procedure that is using the function in the file"
   ]
  },
  {
   "cell_type": "code",
   "execution_count": null,
   "id": "334c253d-41f6-46f1-8134-fcfb6f2dc500",
   "metadata": {
    "tags": []
   },
   "outputs": [],
   "source": [
    "snf_session.clear_imports()\n",
    "snf_session.clear_packages()\n",
    "@F.sproc(name=\"hello_file_sp\", is_permanent=False, replace=True, packages=['snowflake-snowpark-python'],imports=['../py_scripts/sp_examples/modules/local_module.py'], session=snf_session)\n",
    "def hello_file_sp(session: Session, name: str) -> str:\n",
    "    import local_module\n",
    "    return local_module.hello_name(name)"
   ]
  },
  {
   "cell_type": "code",
   "execution_count": null,
   "id": "fde03c58-e99b-45ce-ba10-cb48fb9864d4",
   "metadata": {
    "tags": []
   },
   "outputs": [],
   "source": [
    "snf_session.call(\"hello_file_sp\", \"mats\")"
   ]
  },
  {
   "cell_type": "markdown",
   "id": "75c4d676-4507-4a38-9f27-8b8f4a4ff952",
   "metadata": {},
   "source": [
    "We can also import all files in a local directory. When doing that we need to import from the folder name.\n",
    "\n",
    "Start with creating an addtional file"
   ]
  },
  {
   "cell_type": "code",
   "execution_count": null,
   "id": "66c164c0-03ba-4233-8ffe-823276e84032",
   "metadata": {},
   "outputs": [],
   "source": [
    "%%writefile ../py_scripts/sp_examples/modules/local_second_module.py\n",
    "def reverse_name(name: str) -> str:\n",
    "    return name[::-1]\n"
   ]
  },
  {
   "cell_type": "markdown",
   "id": "34b6c18b-1ebb-4e6f-939c-02e40fdfe8ec",
   "metadata": {},
   "source": [
    "Create Python Stored Procedure that imports the functions from the files"
   ]
  },
  {
   "cell_type": "code",
   "execution_count": null,
   "id": "cedc061a-8ae5-425a-b479-83e5bca27f2b",
   "metadata": {
    "tags": []
   },
   "outputs": [],
   "source": [
    "snf_session.clear_imports()\n",
    "snf_session.clear_packages()\n",
    "@F.sproc(name=\"module_dir_sp\", is_permanent=False, replace=True, packages=['snowflake-snowpark-python'],imports=['../py_scripts/sp_examples/modules'], session=snf_session)\n",
    "def module_dir_sp(session: Session, name: str) -> str:\n",
    "    from modules.local_module import hello_name\n",
    "    from modules.local_second_module import reverse_name\n",
    "    hello_str = hello_name(name)\n",
    "    reverse_name = reverse_name(name)\n",
    "    return f'{hello_str} your name reversed is {reverse_name}'"
   ]
  },
  {
   "cell_type": "markdown",
   "id": "b4566c0e-5440-40ab-9fe0-5b2be2dc2587",
   "metadata": {},
   "source": [
    "If we look at the description of the Stored procedure we can see that the folder is added as modules.zip"
   ]
  },
  {
   "cell_type": "code",
   "execution_count": null,
   "id": "06e662fa-752d-410d-8534-2dd54ca90444",
   "metadata": {
    "tags": []
   },
   "outputs": [],
   "source": [
    "snf_session.sproc.describe(module_dir_sp).show(max_width=150)"
   ]
  },
  {
   "cell_type": "markdown",
   "id": "91a1f993-627c-427d-bb6d-c126472734d1",
   "metadata": {},
   "source": [
    "Test the Stored Procedure"
   ]
  },
  {
   "cell_type": "code",
   "execution_count": null,
   "id": "04a24c9a-be01-4177-9ad6-c966cce94975",
   "metadata": {
    "tags": []
   },
   "outputs": [],
   "source": [
    "snf_session.call(\"module_dir_sp\", \"mats\")"
   ]
  },
  {
   "cell_type": "markdown",
   "id": "1954ece9-cc4a-4f37-9140-1b881bd171d2",
   "metadata": {},
   "source": [
    "### Using files in a stage\n",
    "\n",
    "We can import files that are on a stage to use in a Stored Procedure. However, we need to import each file "
   ]
  },
  {
   "cell_type": "code",
   "execution_count": null,
   "id": "f9561492-ede1-4af0-818c-919c4d3fefde",
   "metadata": {},
   "outputs": [],
   "source": [
    "snf_session.file.put('../py_scripts/sp_examples/modules/*.py', '@python_files/modules/', auto_compress=False, overwrite=True)"
   ]
  },
  {
   "cell_type": "code",
   "execution_count": null,
   "id": "bee31696-01b1-4823-84e7-4262a1dcd1a2",
   "metadata": {},
   "outputs": [],
   "source": [
    "snf_session.sql(\"ls @python_files/modules/\").show()"
   ]
  },
  {
   "cell_type": "markdown",
   "id": "e73841a9-7453-4eb4-a2d8-9e710457d553",
   "metadata": {},
   "source": [
    "In this case since we are using files on a stage we import each file individually in our code"
   ]
  },
  {
   "cell_type": "code",
   "execution_count": null,
   "id": "2f7dd5e8-7057-4235-81f4-48300843daa6",
   "metadata": {},
   "outputs": [],
   "source": [
    "snf_session.clear_imports()\n",
    "snf_session.clear_packages()\n",
    "@F.sproc(name=\"hello_stage_sp\", is_permanent=False, replace=True, packages=['snowflake-snowpark-python']\n",
    "         ,imports=['@python_files/modules/local_module.py', '@python_files/modules/local_second_module.py'], session=snf_session)\n",
    "def hello_dir_sp(session: Session, name: str) -> str:\n",
    "    from local_module import hello_name\n",
    "    from local_second_module import reverse_name\n",
    "    hello_str = hello_name(name)\n",
    "    reverse_name = reverse_name(name)\n",
    "    return f'{hello_str} your name reversed is {reverse_name}'"
   ]
  },
  {
   "cell_type": "markdown",
   "id": "406684be-36da-4df2-a7af-64e41700195a",
   "metadata": {},
   "source": [
    "If get information about the Stored Procedure we can see that each file are added individually"
   ]
  },
  {
   "cell_type": "code",
   "execution_count": null,
   "id": "cec5519e-392f-4e6a-ac82-3d13a0770a8c",
   "metadata": {},
   "outputs": [],
   "source": [
    "snf_session.sproc.describe(hello_dir_sp).show(max_width=150)"
   ]
  },
  {
   "cell_type": "code",
   "execution_count": null,
   "id": "9fd8997d-c736-4cd0-ad32-037bf524f6e9",
   "metadata": {},
   "outputs": [],
   "source": [
    "snf_session.call(\"hello_stage_sp\", \"mats\")"
   ]
  },
  {
   "cell_type": "code",
   "execution_count": null,
   "id": "1a580c12-72dd-4693-8756-0764106ecd63",
   "metadata": {},
   "outputs": [],
   "source": []
  },
  {
   "cell_type": "markdown",
   "id": "bf24485d-49d2-4c08-8481-82766deeaa16",
   "metadata": {},
   "source": [
    "### Returning DataFrame\n",
    "\n",
    "Starting with Snowpark for Python 1.5.0 you can create a Python Stored Procedure using teh SNowpark API that returns a table/DataFrame."
   ]
  },
  {
   "cell_type": "code",
   "execution_count": null,
   "id": "63f32d74-d8ac-4794-a7b3-feb7ef31d6c3",
   "metadata": {},
   "outputs": [],
   "source": [
    "snf_session.clear_imports()\n",
    "snf_session.clear_packages()\n",
    "@F.sproc(name=\"table_name_sp\", is_permanent=False, replace=True, packages=['snowflake-snowpark-python'], session=snf_session)\n",
    "def table_name_sp(snf_session: Session) -> DataFrame:\n",
    "    sp_df = snf_session.table(\"CAMPAIGN_SPEND\")\n",
    "    df_spend_yearly = sp_df.group_by(F.year(\"DATE\"), \"CHANNEL\").sum(\"TOTAL_COST\").sort(\"YEAR(DATE)\")\n",
    "    \n",
    "    return df_spend_yearly\n"
   ]
  },
  {
   "cell_type": "code",
   "execution_count": null,
   "id": "3569b4ae-1530-4a17-b824-d2ff9074d278",
   "metadata": {
    "scrolled": true
   },
   "outputs": [],
   "source": [
    "return_df = snf_session.call(\"table_name_sp\")\n",
    "return_df.show()"
   ]
  },
  {
   "cell_type": "markdown",
   "id": "eaca2c75-a6c5-48f4-8c86-4f336f3cfefc",
   "metadata": {},
   "source": [
    "However, the return is not a real DataFrame with multiple columns as we can see by looking at the query and schema for return_df "
   ]
  },
  {
   "cell_type": "code",
   "execution_count": null,
   "id": "3ea716a7-be67-4575-affd-9fb986d58c3f",
   "metadata": {},
   "outputs": [],
   "source": [
    "return_df.queries"
   ]
  },
  {
   "cell_type": "code",
   "execution_count": null,
   "id": "52a3e663-6c4f-417f-9162-65c4a71435d0",
   "metadata": {},
   "outputs": [],
   "source": [
    "return_df.schema"
   ]
  },
  {
   "cell_type": "code",
   "execution_count": null,
   "id": "694f6aa0-fd1e-426b-a9a5-a9580416d309",
   "metadata": {},
   "outputs": [],
   "source": [
    "sp_df = return_df.cache_result()"
   ]
  },
  {
   "cell_type": "markdown",
   "id": "6d96076b-bd15-4b19-96da-6c95028f8302",
   "metadata": {},
   "source": [
    "### Logging\n",
    "\n",
    "The Python logger can be used in Python Stored Procedures, it needs to be setup before according to https://docs.snowflake.com/en/developer-guide/logging-tracing/logging-python"
   ]
  },
  {
   "cell_type": "code",
   "execution_count": null,
   "id": "15acbd92-d6bb-49ee-b241-7f6316bb252d",
   "metadata": {},
   "outputs": [],
   "source": [
    "snf_session.clear_imports()\n",
    "snf_session.clear_packages()\n",
    "@F.sproc(name=\"logging_sp\", is_permanent=False, replace=True, packages=['snowflake-snowpark-python'], session=snf_session)\n",
    "def logging_sp(session: Session) -> str:\n",
    "    import logging\n",
    "\n",
    "    logger = logging.getLogger(\"logging_sp_logger\")\n",
    "    logger.info(\"Starting sp\")\n",
    "    curr_db = session.get_current_database()\n",
    "    logger.info(f\"Using db: {curr_db}\")\n",
    "    logger.info(\"End logging_sp\")\n",
    "    \n",
    "    return f\"Done logging for this time!\"\n",
    "  "
   ]
  },
  {
   "cell_type": "markdown",
   "id": "c599e3e5-59ad-4956-a247-26483e31c433",
   "metadata": {},
   "source": [
    "We need to set the level for the Stored Procedure so the logging is captured"
   ]
  },
  {
   "cell_type": "code",
   "execution_count": null,
   "id": "c02ba032-d415-4a5c-9dd9-849df77e46e0",
   "metadata": {},
   "outputs": [],
   "source": [
    "snf_session.sql(\"ALTER PROCEDURE logging_sp() SET LOG_LEVEL=INFO\").collect()"
   ]
  },
  {
   "cell_type": "markdown",
   "id": "4b68e496-72d3-40c4-ba70-8433da13f3b4",
   "metadata": {},
   "source": [
    "If we now call the Stroed Procedure the logg messages with the orevious set level will be captured"
   ]
  },
  {
   "cell_type": "code",
   "execution_count": null,
   "id": "ec8fcb05-1533-4699-866a-83c15e574c4b",
   "metadata": {},
   "outputs": [],
   "source": [
    "snf_session.call(\"logging_sp\")"
   ]
  },
  {
   "cell_type": "markdown",
   "id": "07420125-f4fb-444f-9f28-7a6ab2c593b3",
   "metadata": {},
   "source": [
    "To see the logged messges we need to query the events table created, it can take a couple of minutes before the messages are visible in the table."
   ]
  },
  {
   "cell_type": "code",
   "execution_count": null,
   "id": "24a85180-9844-429f-8fac-28cd8715a824",
   "metadata": {},
   "outputs": [],
   "source": [
    "snf_session.table(\"event_db.logging.logging_events\").filter(F.col(\"SCOPE\")['name'] == 'logging_sp_logger').order_by(F.col(\"OBSERVED_TIMESTAMP\").desc()).select(\"OBSERVED_TIMESTAMP\", \"VALUE\").show(max_width=150)"
   ]
  },
  {
   "cell_type": "markdown",
   "id": "a75ffde3-566a-4f46-bbfd-73790e8f1775",
   "metadata": {},
   "source": [
    "### Tracing\n",
    "Tracing can be used to ...\n",
    "\n",
    "In order to use trace we need to set up a event table , as above for logging, and install the snowflake-telemetry-python python library"
   ]
  },
  {
   "cell_type": "code",
   "execution_count": null,
   "id": "f5109494-1371-4e6c-bbea-5bd21c640d8d",
   "metadata": {},
   "outputs": [],
   "source": [
    "from snowflake import telemetry\n",
    "\n",
    "snf_session.clear_imports()\n",
    "snf_session.clear_packages()\n",
    "@F.sproc(name=\"logging_tracing_sp\", is_permanent=False, replace=True, packages=['snowflake-snowpark-python', 'snowflake-telemetry-python'], session=snf_session)\n",
    "def logging_tracing_sp(session: Session) -> str:\n",
    "    import logging\n",
    "\n",
    "    logger = logging.getLogger(\"logging_tracing_sp_logger\")\n",
    "    logger.info(\"Starting sp\")\n",
    "    curr_db = session.get_current_database()\n",
    "    logger.info(f\"Using db: {curr_db}\")\n",
    "\n",
    "    nbr_tables = session.table(\"information_schema.tables\").filter(F.col(\"TABLE_TYPE\") == 'BASE TABLE').count()\n",
    "    telemetry.add_event(\"logging_tracing_sp.proc.do_tracing\")\n",
    "    telemetry.set_span_attribute(\"database_used\", curr_db)\n",
    "    telemetry.set_span_attribute(\"tables_in_database\", nbr_tables)\n",
    "    telemetry.add_event(\"logging_tracing_sp.proc.with_attribute\", {\"one_attribute\": 1, \"string_attribute\":\"string\"})\n",
    "\n",
    "    logger.info(\"End logging_sp\")\n",
    "    \n",
    "    return f\"Done logging and tracing\"\n",
    "  "
   ]
  },
  {
   "cell_type": "markdown",
   "id": "170b6952-e750-402c-9c95-bf999b7d8947",
   "metadata": {},
   "source": [
    "Set the Trace Level for the Stored Procedure"
   ]
  },
  {
   "cell_type": "code",
   "execution_count": null,
   "id": "58380ab4-2767-4ae6-a3bf-69991e81e916",
   "metadata": {},
   "outputs": [],
   "source": [
    "snf_session.sql(\"ALTER PROCEDURE logging_tracing_sp() SET TRACE_LEVEL = ON_EVENT\").collect()"
   ]
  },
  {
   "cell_type": "code",
   "execution_count": null,
   "id": "948d95bf-ba32-4b48-a753-70fc9a454032",
   "metadata": {},
   "outputs": [],
   "source": [
    "snf_session.call(\"logging_tracing_sp\")"
   ]
  },
  {
   "cell_type": "markdown",
   "id": "c45ca282-3791-4ff2-9add-b935ee7541d5",
   "metadata": {},
   "source": [
    "By querying the event tablewe can get the trace events, it will take a couple of minutes until it is visible"
   ]
  },
  {
   "cell_type": "code",
   "execution_count": null,
   "id": "49ab06fd-5c79-4462-85a0-89656bb89729",
   "metadata": {},
   "outputs": [],
   "source": [
    "snf_session.table(\"event_db.logging.logging_events\").order_by(F.col(\"TIMESTAMP\").desc()).filter(F.col(\"RESOURCE_ATTRIBUTES\")['snow.executable.name'].like('LOGGING_TRACING_SP%')).select(\"TIMESTAMP\", \"RECORD_TYPE\",\"RECORD\",\"RECORD_ATTRIBUTES\" ).show(max_width=150)"
   ]
  },
  {
   "cell_type": "code",
   "execution_count": null,
   "id": "bae6ef76-6d3c-4125-9449-b8ad74545d2e",
   "metadata": {},
   "outputs": [],
   "source": [
    "snf_session.close()"
   ]
  },
  {
   "cell_type": "code",
   "execution_count": null,
   "id": "923e96ae-0f8b-4ead-9b24-2682941eaf20",
   "metadata": {},
   "outputs": [],
   "source": []
  }
 ],
 "metadata": {
  "kernelspec": {
   "display_name": "Python 3 (ipykernel)",
   "language": "python",
   "name": "python3"
  },
  "language_info": {
   "codemirror_mode": {
    "name": "ipython",
    "version": 3
   },
   "file_extension": ".py",
   "mimetype": "text/x-python",
   "name": "python",
   "nbconvert_exporter": "python",
   "pygments_lexer": "ipython3",
   "version": "3.10.12"
  }
 },
 "nbformat": 4,
 "nbformat_minor": 5
}
