{
 "cells": [
  {
   "cell_type": "markdown",
   "id": "804f30e9-7db5-41c9-8515-fb27a581a3ef",
   "metadata": {
    "collapsed": false,
    "name": "cell14"
   },
   "source": [
    "Before running this noetbook makes sure that the following packages are installed in your Python enviroment:\n",
    "* `snowflake-snowpark-python`\n",
    "* `snowflake-ml-python`\n",
    "\n",
    "You also need to make sure the `demo_data.py`file is in the same directory as this notebook."
   ]
  },
  {
   "cell_type": "code",
   "execution_count": 1,
   "id": "ce110000-1111-2222-3333-ffffff000000",
   "metadata": {
    "codeCollapsed": false,
    "language": "python",
    "name": "cell1"
   },
   "outputs": [],
   "source": [
    "# Import python packages\n",
    "\n",
    "from snowflake.ml.feature_store import (\n",
    "    FeatureStore,\n",
    "    CreationMode)\n",
    "\n",
    "from snowflake.ml.registry import Registry\n",
    "\n",
    "# from snowflake.snowpark import Session\n",
    "import snowflake.snowpark.functions as snow_funcs\n",
    "\n",
    "# Python script stored on a Snowflake stage\n",
    "from demo_data import generate_demo_data\n",
    "\n",
    "# Get the Snowpark session\n",
    "from snowflake.snowpark import Session"
   ]
  },
  {
   "cell_type": "code",
   "execution_count": 2,
   "id": "ce110000-1111-2222-3333-ffffff000002",
   "metadata": {
    "codeCollapsed": false,
    "language": "python",
    "name": "cell3"
   },
   "outputs": [],
   "source": [
    "db_name = \"SNOWPARK_DEMO_DB\"\n",
    "schema_name = \"SIMPLE_ML_SCHEMA\"\n",
    "fs_schema_name = \"SIMPLE_FS_SCHEMA\"\n",
    "mr_schema_name = \"SIMPLE_MR_SCHEMA\"\n",
    "wh_name = \"SIMPLE_ML_WH\"\n",
    "\n",
    "CONNECTION_NAME = '<YOUR CONNECTION NAME>' # Name of the connection in connections.toml to be used to connect to Snowflake\n",
    "\n",
    "session = Session.builder.config(\"connection_name\", CONNECTION_NAME).create()\n",
    "session.use_schema(f'{db_name}.{schema_name}')\n",
    "session.use_warehouse(wh_name)"
   ]
  },
  {
   "cell_type": "markdown",
   "id": "8bc6ffdc-65cb-48cf-8cc4-81024dce3b36",
   "metadata": {
    "collapsed": false,
    "name": "cell15"
   },
   "source": [
    "## Generate new customers for inference\n",
    "\n",
    "Generate 100 new customers to use, we will have to wait around one minute before they are part of our feature store (the schedule we setup during registring the features)"
   ]
  },
  {
   "cell_type": "code",
   "execution_count": null,
   "id": "ce110000-1111-2222-3333-ffffff000003",
   "metadata": {
    "codeCollapsed": false,
    "language": "python",
    "name": "cell4"
   },
   "outputs": [],
   "source": [
    "# Generate new customers for year 2024\n",
    "generate_demo_data(session, num_customers=100, month=9, start_year=2024, end_year=2024)"
   ]
  },
  {
   "cell_type": "markdown",
   "id": "0fef0448-8bbb-4358-9665-210e709ec98e",
   "metadata": {
    "collapsed": false,
    "name": "cell16"
   },
   "source": [
    "Greate a Spine DataFrame with the new customers, which will be used to get the features we have for them"
   ]
  },
  {
   "cell_type": "code",
   "execution_count": null,
   "id": "ce110000-1111-2222-3333-ffffff000004",
   "metadata": {
    "codeCollapsed": false,
    "language": "python",
    "name": "cell5"
   },
   "outputs": [],
   "source": [
    "# Retrieve new customers\n",
    "new_customers_df = session.table(f'{db_name}.{schema_name}.CUSTOMER_LIFE_TIME_VALUE').filter(snow_funcs.col('YEAR_MONTH')=='20249').select('EMAIL')\n",
    "new_customers_df.show()"
   ]
  },
  {
   "cell_type": "markdown",
   "id": "28567cfd-0161-478e-b529-6ee3eb82811b",
   "metadata": {
    "collapsed": false,
    "name": "cell17"
   },
   "source": [
    "Connect to the Feature Store"
   ]
  },
  {
   "cell_type": "code",
   "execution_count": 5,
   "id": "ce110000-1111-2222-3333-ffffff000005",
   "metadata": {
    "codeCollapsed": false,
    "language": "python",
    "name": "cell6"
   },
   "outputs": [],
   "source": [
    "# Connect to Feature Store\n",
    "fs = FeatureStore(\n",
    "    session=session, \n",
    "    database=db_name, \n",
    "    name=fs_schema_name, \n",
    "    default_warehouse=wh_name,\n",
    "    creation_mode=CreationMode.FAIL_IF_NOT_EXIST,\n",
    ")"
   ]
  },
  {
   "cell_type": "markdown",
   "id": "6e3ec3ac-66fc-4e0c-8018-f8fe00c7e845",
   "metadata": {
    "collapsed": false,
    "name": "cell18"
   },
   "source": [
    "Get the feature views that has the features we want to use"
   ]
  },
  {
   "cell_type": "code",
   "execution_count": 6,
   "id": "ce110000-1111-2222-3333-ffffff000006",
   "metadata": {
    "codeCollapsed": false,
    "language": "python",
    "name": "cell7"
   },
   "outputs": [],
   "source": [
    "cust_fv = fs.get_feature_view(name=\"CUSTOMER_GENERAL_DATA_FEATURES\",\n",
    "                                version=\"V1\")\n",
    "behavior_fv = fs.get_feature_view(name=\"CUSTOMER_BEHAVIOR_DATA_FEATURES\",\n",
    "                                version=\"V1\")"
   ]
  },
  {
   "cell_type": "markdown",
   "id": "62be19c7-5354-46d7-962b-e92b7b54d7d0",
   "metadata": {
    "collapsed": false,
    "name": "cell19"
   },
   "source": [
    "Retrieve features using the Spine DataFrame (can take up to a minute until values appear)  \n",
    "Assumption is that you only have the unique-id EMAIL and need to retrieve the features to score the model"
   ]
  },
  {
   "cell_type": "code",
   "execution_count": null,
   "id": "ce110000-1111-2222-3333-ffffff000007",
   "metadata": {
    "codeCollapsed": false,
    "language": "python",
    "name": "cell8"
   },
   "outputs": [],
   "source": [
    "\n",
    "new_customers_features = fs.retrieve_feature_values(new_customers_df, features=[cust_fv, behavior_fv])\n",
    "new_customers_features.show()"
   ]
  },
  {
   "cell_type": "markdown",
   "id": "606e8cd0-36ee-4d2c-b514-c2b39603b011",
   "metadata": {
    "collapsed": false,
    "name": "cell9"
   },
   "source": [
    "Connect to the Model Registry"
   ]
  },
  {
   "cell_type": "code",
   "execution_count": null,
   "id": "ce110000-1111-2222-3333-ffffff000009",
   "metadata": {
    "codeCollapsed": false,
    "language": "python",
    "name": "cell10"
   },
   "outputs": [],
   "source": [
    "ml_reg = Registry(session=session, database_name=db_name, schema_name=mr_schema_name)\n",
    "ml_reg.show_models()"
   ]
  },
  {
   "cell_type": "markdown",
   "id": "6d9aed90-4619-4028-91b9-e66365d7dc29",
   "metadata": {
    "collapsed": false,
    "name": "cell20"
   },
   "source": [
    "Get a reference to the default version of the model"
   ]
  },
  {
   "cell_type": "code",
   "execution_count": 9,
   "id": "ce110000-1111-2222-3333-ffffff000010",
   "metadata": {
    "codeCollapsed": false,
    "language": "python",
    "name": "cell11"
   },
   "outputs": [],
   "source": [
    "registered_model = ml_reg.get_model(\"CUSTOMER_LTV_MODEL\").default"
   ]
  },
  {
   "cell_type": "markdown",
   "id": "050ac697-8f0e-4457-ae66-402c62c5a826",
   "metadata": {
    "collapsed": false,
    "name": "cell21"
   },
   "source": [
    "Check which functions we can use and the inputs/outputs for them"
   ]
  },
  {
   "cell_type": "code",
   "execution_count": null,
   "id": "ce110000-1111-2222-3333-ffffff000011",
   "metadata": {
    "codeCollapsed": false,
    "language": "python",
    "name": "cell12"
   },
   "outputs": [],
   "source": [
    "registered_model.show_functions()"
   ]
  },
  {
   "cell_type": "markdown",
   "id": "d3cf10e5-6de2-43b0-a9c5-a8f48868bae4",
   "metadata": {
    "collapsed": false,
    "name": "cell22"
   },
   "source": [
    "Create predictions from registered model given the retrieved features, we are saving them as a table in Snowflake"
   ]
  },
  {
   "cell_type": "code",
   "execution_count": null,
   "id": "ce110000-1111-2222-3333-ffffff000012",
   "metadata": {
    "codeCollapsed": false,
    "language": "python",
    "name": "cell13"
   },
   "outputs": [],
   "source": [
    "\n",
    "new_predictions = registered_model.run(new_customers_features, function_name='predict')\n",
    "new_predictions.write.save_as_table('MY_PREDICTIONS', mode='overwrite')\n",
    "session.table('MY_PREDICTIONS').show()"
   ]
  },
  {
   "cell_type": "code",
   "execution_count": 17,
   "metadata": {},
   "outputs": [],
   "source": [
    "session.close()"
   ]
  },
  {
   "cell_type": "code",
   "execution_count": null,
   "metadata": {},
   "outputs": [],
   "source": []
  }
 ],
 "metadata": {
  "kernelspec": {
   "display_name": "notebooks_39",
   "language": "python",
   "name": "python3"
  },
  "language_info": {
   "codemirror_mode": {
    "name": "ipython",
    "version": 3
   },
   "file_extension": ".py",
   "mimetype": "text/x-python",
   "name": "python",
   "nbconvert_exporter": "python",
   "pygments_lexer": "ipython3",
   "version": "3.9.19"
  }
 },
 "nbformat": 4,
 "nbformat_minor": 2
}
