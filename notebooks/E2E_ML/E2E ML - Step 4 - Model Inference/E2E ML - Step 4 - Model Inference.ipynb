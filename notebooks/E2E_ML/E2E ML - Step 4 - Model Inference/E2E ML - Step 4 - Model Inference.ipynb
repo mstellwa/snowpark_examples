{
 "metadata": {
  "kernelspec": {
   "display_name": "notebooks_39",
   "language": "python",
   "name": "python3"
  },
  "language_info": {
   "codemirror_mode": {
    "name": "ipython",
    "version": 3
   },
   "file_extension": ".py",
   "mimetype": "text/x-python",
   "name": "python",
   "nbconvert_exporter": "python",
   "pygments_lexer": "ipython3",
   "version": "3.9.19"
  }
 },
 "nbformat_minor": 2,
 "nbformat": 4,
 "cells": [
  {
   "cell_type": "markdown",
   "id": "804f30e9-7db5-41c9-8515-fb27a581a3ef",
   "metadata": {
    "name": "cell14",
    "collapsed": false
   },
   "source": "Before running this Notebook make sure you have the following Packages:\n*`snowflake-ml-python`\n\nYou also need to add the `demo_data.py`file as a **Stage Package**"
  },
  {
   "cell_type": "code",
   "execution_count": 1,
   "metadata": {
    "name": "cell1",
    "language": "python",
    "codeCollapsed": false
   },
   "outputs": [],
   "source": "# Import python packages\nimport streamlit as st\n\nfrom snowflake.ml.feature_store import (\n    FeatureStore,\n    CreationMode)\n\nfrom snowflake.ml.registry import Registry\n\n# from snowflake.snowpark import Session\nimport snowflake.snowpark.functions as snow_funcs\n\n# Python script stored on a Snowflake stage\nfrom demo_data import generate_demo_data\n\n# Get the Snowpark session\nfrom snowflake.snowpark.context import get_active_session\nsession = get_active_session()\n",
   "id": "ce110000-1111-2222-3333-ffffff000000"
  },
  {
   "cell_type": "code",
   "execution_count": 10,
   "metadata": {
    "name": "cell2",
    "language": "python",
    "codeCollapsed": false
   },
   "outputs": [
    {
     "name": "stdout",
     "output_type": "stream",
     "text": [
      "Current role: \"SYSADMIN\", Current schema: \"DEMO_DB\".\"PUBLIC\", Current WH: \"COMPUTE_WH\"\n"
     ]
    }
   ],
   "source": "# session = Session.builder.config(\"connection_name\", 'mstellwall_aws_us_west3').create()\nst.write(\"Current role: \" + session.get_current_role() + \", Current schema: \" + session.get_fully_qualified_current_schema() + \", Current WH: \" + session.get_current_warehouse())",
   "id": "ce110000-1111-2222-3333-ffffff000001"
  },
  {
   "cell_type": "code",
   "execution_count": 3,
   "metadata": {
    "name": "cell3",
    "language": "python",
    "codeCollapsed": false
   },
   "outputs": [],
   "source": [
    "db_name = \"SNOWPARK_DEMO_DB\"\n",
    "schema_name = \"SIMPLE_ML_SCHEMA\"\n",
    "fs_schema_name = \"SIMPLE_FS_SCHEMA\"\n",
    "mr_schema_name = \"SIMPLE_MR_SCHEMA\"\n",
    "wh_name = \"SIMPLE_ML_WH\"\n",
    "\n",
    "session.use_schema(f'{db_name}.{schema_name}')\n",
    "session.use_warehouse(wh_name)"
   ],
   "id": "ce110000-1111-2222-3333-ffffff000002"
  },
  {
   "cell_type": "markdown",
   "id": "8bc6ffdc-65cb-48cf-8cc4-81024dce3b36",
   "metadata": {
    "name": "cell15",
    "collapsed": false
   },
   "source": "## Generate new customers for inference\n\nGenerate 100 new customers to use, we will have to wait around one minute before they are part of our feature store (the schedule we setup during registring the features)"
  },
  {
   "cell_type": "code",
   "execution_count": 4,
   "metadata": {
    "name": "cell4",
    "language": "python",
    "codeCollapsed": false
   },
   "outputs": [
    {
     "name": "stdout",
     "output_type": "stream",
     "text": [
      "Added 1000 customers to table: CUSTOMER_LIFE_TIME_VALUE\n",
      "Added 1000 customers to table: CUSTOMER_GENERAL_DATA\n",
      "Added 1000 customers to table: CUSTOMER_BEHAVIOR_DATA\n",
      "Added 100 customers to table: CUSTOMER_LIFE_TIME_VALUE\n",
      "Added 100 customers to table: CUSTOMER_GENERAL_DATA\n",
      "Added 100 customers to table: CUSTOMER_BEHAVIOR_DATA\n",
      "------------------------\n",
      "|\"EMAIL\"               |\n",
      "------------------------\n",
      "|jq7ho1e2K7@KDDoU.com  |\n",
      "|TynfegHXC5@EK8gf.com  |\n",
      "|LaU10PhN7X@OCtzz.com  |\n",
      "|9Wphdu46yz@kmSyh.com  |\n",
      "|8ktBu2ygwj@U1PcJ.com  |\n",
      "|QAUnHdGliO@vsOQl.com  |\n",
      "|9Lnm15ODaM@fO9Ss.com  |\n",
      "|JVCgRooPMw@sV6cz.com  |\n",
      "|PZSjb31f9L@Kp66W.com  |\n",
      "|PW77M5pEsO@epc5D.com  |\n",
      "------------------------\n",
      "\n"
     ]
    }
   ],
   "source": "# Start by generating some new data that we will use for inference\nsession.use_schema(f'{db_name}.{schema_name}')\n\n# Generate new customers for year 2024\ngenerate_demo_data(session, num_customers=100, month=9, start_year=2024, end_year=2024)",
   "id": "ce110000-1111-2222-3333-ffffff000003"
  },
  {
   "cell_type": "markdown",
   "id": "0fef0448-8bbb-4358-9665-210e709ec98e",
   "metadata": {
    "name": "cell16",
    "collapsed": false
   },
   "source": "Greate a Spine DataFrame with the new customers, which will be used to get the features we have for them"
  },
  {
   "cell_type": "code",
   "execution_count": 12,
   "metadata": {
    "name": "cell5",
    "language": "python",
    "codeCollapsed": false
   },
   "outputs": [
    {
     "name": "stdout",
     "output_type": "stream",
     "text": [
      "------------------------\n",
      "|\"EMAIL\"               |\n",
      "------------------------\n",
      "|jq7ho1e2K7@KDDoU.com  |\n",
      "|TynfegHXC5@EK8gf.com  |\n",
      "|LaU10PhN7X@OCtzz.com  |\n",
      "|9Wphdu46yz@kmSyh.com  |\n",
      "|8ktBu2ygwj@U1PcJ.com  |\n",
      "|QAUnHdGliO@vsOQl.com  |\n",
      "|9Lnm15ODaM@fO9Ss.com  |\n",
      "|JVCgRooPMw@sV6cz.com  |\n",
      "|PZSjb31f9L@Kp66W.com  |\n",
      "|PW77M5pEsO@epc5D.com  |\n",
      "------------------------\n",
      "\n"
     ]
    }
   ],
   "source": [
    "# Retrieve new customers\n",
    "new_customers_df = session.table(f'{db_name}.{schema_name}.CUSTOMER_LIFE_TIME_VALUE').filter(snow_funcs.col('YEAR_MONTH')=='20249').select('EMAIL')\n",
    "new_customers_df.show()"
   ],
   "id": "ce110000-1111-2222-3333-ffffff000004"
  },
  {
   "cell_type": "markdown",
   "id": "28567cfd-0161-478e-b529-6ee3eb82811b",
   "metadata": {
    "name": "cell17",
    "collapsed": false
   },
   "source": "Connect to the Feature Store"
  },
  {
   "cell_type": "code",
   "execution_count": 11,
   "metadata": {
    "name": "cell6",
    "language": "python",
    "codeCollapsed": false
   },
   "outputs": [],
   "source": [
    "# Connect to Feature Store\n",
    "fs = FeatureStore(\n",
    "    session=session, \n",
    "    database=db_name, \n",
    "    name=fs_schema_name, \n",
    "    default_warehouse=wh_name,\n",
    "    creation_mode=CreationMode.FAIL_IF_NOT_EXIST,\n",
    ")"
   ],
   "id": "ce110000-1111-2222-3333-ffffff000005"
  },
  {
   "cell_type": "markdown",
   "id": "6e3ec3ac-66fc-4e0c-8018-f8fe00c7e845",
   "metadata": {
    "name": "cell18",
    "collapsed": false
   },
   "source": "Get the feature views that has the features we want to use"
  },
  {
   "cell_type": "code",
   "execution_count": 13,
   "metadata": {
    "name": "cell7",
    "language": "python",
    "codeCollapsed": false
   },
   "outputs": [],
   "source": [
    "cust_fv = fs.get_feature_view(name=\"CUSTOMER_GENERAL_DATA_FEATURES\",\n",
    "                                version=\"V1\")\n",
    "behavior_fv = fs.get_feature_view(name=\"CUSTOMER_BEHAVIOR_DATA_FEATURES\",\n",
    "                                version=\"V1\")"
   ],
   "id": "ce110000-1111-2222-3333-ffffff000006"
  },
  {
   "cell_type": "markdown",
   "id": "62be19c7-5354-46d7-962b-e92b7b54d7d0",
   "metadata": {
    "name": "cell19",
    "collapsed": false
   },
   "source": "Retrieve features using the Spine DataFrame (can take up to a minute until values appear)  \nAssumption is you only have the unique-id EMAIL and need to retrieve the features to score the model"
  },
  {
   "cell_type": "code",
   "execution_count": 14,
   "metadata": {
    "name": "cell8",
    "language": "python",
    "codeCollapsed": false
   },
   "outputs": [
    {
     "name": "stdout",
     "output_type": "stream",
     "text": [
      "-----------------------------------------------------------------------------------------------------------------------------------------------------------------------------------\n",
      "|\"EMAIL\"               |\"GENDER\"  |\"MEMBERSHIP_STATUS\"  |\"MEMBERSHIP_LENGTH_DAYS\"  |\"AVG_SESSION_LENGTH_MIN\"  |\"AVG_TIME_ON_APP_MIN\"  |\"AVG_TIME_ON_WEBSITE_MIN\"  |\"APP_PRIMARY\"  |\n",
      "-----------------------------------------------------------------------------------------------------------------------------------------------------------------------------------\n",
      "|jq7ho1e2K7@KDDoU.com  |MALE      |BRONZE               |204                       |10.6627                   |2.6627                 |8.6627                     |0              |\n",
      "|TynfegHXC5@EK8gf.com  |MALE      |DIAMOND              |193                       |NULL                      |9.9401                 |9.9401                     |0              |\n",
      "|LaU10PhN7X@OCtzz.com  |FEMALE    |BASIC                |255                       |NULL                      |2.4742                 |4.4742                     |0              |\n",
      "|9Wphdu46yz@kmSyh.com  |FEMALE    |PLATIN               |73                        |NULL                      |12.2203                |11.2203                    |1              |\n",
      "|8ktBu2ygwj@U1PcJ.com  |MALE      |PLATIN               |27                        |NULL                      |8.3206                 |13.3206                    |0              |\n",
      "|QAUnHdGliO@vsOQl.com  |MALE      |PLATIN               |185                       |21.1256                   |13.1256                |9.1256                     |1              |\n",
      "|9Lnm15ODaM@fO9Ss.com  |MALE      |BASIC                |127                       |12.0822                   |6.0822                 |6.0822                     |0              |\n",
      "|JVCgRooPMw@sV6cz.com  |FEMALE    |BRONZE               |72                        |1.5872                    |4.5872                 |8.5872                     |0              |\n",
      "|PZSjb31f9L@Kp66W.com  |MALE      |BRONZE               |145                       |17.3736                   |4.3736                 |8.3736                     |0              |\n",
      "|PW77M5pEsO@epc5D.com  |FEMALE    |DIAMOND              |232                       |16.3435                   |10.3435                |NULL                       |0              |\n",
      "-----------------------------------------------------------------------------------------------------------------------------------------------------------------------------------\n",
      "\n"
     ]
    }
   ],
   "source": "\nnew_customers_features = fs.retrieve_feature_values(new_customers_df, features=[cust_fv, behavior_fv])\nnew_customers_features.show()",
   "id": "ce110000-1111-2222-3333-ffffff000007"
  },
  {
   "cell_type": "markdown",
   "id": "606e8cd0-36ee-4d2c-b514-c2b39603b011",
   "metadata": {
    "name": "cell9",
    "collapsed": false
   },
   "source": "Connect to the Model Registry"
  },
  {
   "cell_type": "code",
   "execution_count": 15,
   "metadata": {
    "name": "cell10",
    "language": "python",
    "codeCollapsed": false
   },
   "outputs": [
    {
     "data": {
      "text/html": [
       "<div>\n",
       "<style scoped>\n",
       "    .dataframe tbody tr th:only-of-type {\n",
       "        vertical-align: middle;\n",
       "    }\n",
       "\n",
       "    .dataframe tbody tr th {\n",
       "        vertical-align: top;\n",
       "    }\n",
       "\n",
       "    .dataframe thead th {\n",
       "        text-align: right;\n",
       "    }\n",
       "</style>\n",
       "<table border=\"1\" class=\"dataframe\">\n",
       "  <thead>\n",
       "    <tr style=\"text-align: right;\">\n",
       "      <th></th>\n",
       "      <th>created_on</th>\n",
       "      <th>name</th>\n",
       "      <th>model_type</th>\n",
       "      <th>database_name</th>\n",
       "      <th>schema_name</th>\n",
       "      <th>comment</th>\n",
       "      <th>owner</th>\n",
       "      <th>default_version_name</th>\n",
       "      <th>versions</th>\n",
       "      <th>aliases</th>\n",
       "    </tr>\n",
       "  </thead>\n",
       "  <tbody>\n",
       "    <tr>\n",
       "      <th>0</th>\n",
       "      <td>2024-09-12 04:25:51.307000-07:00</td>\n",
       "      <td>CUSTOMER_LTV_MODEL</td>\n",
       "      <td>USER_MODEL</td>\n",
       "      <td>SNOWPARK_DEMO_DB</td>\n",
       "      <td>SIMPLE_MR_SCHEMA</td>\n",
       "      <td>None</td>\n",
       "      <td>SYSADMIN</td>\n",
       "      <td>MY_FIRST_MODEL_VERSION</td>\n",
       "      <td>[\"MY_FIRST_MODEL_VERSION\"]</td>\n",
       "      <td>{\"DEFAULT\":\"MY_FIRST_MODEL_VERSION\",\"FIRST\":\"M...</td>\n",
       "    </tr>\n",
       "  </tbody>\n",
       "</table>\n",
       "</div>"
      ],
      "text/plain": [
       "                        created_on                name  model_type  \\\n",
       "0 2024-09-12 04:25:51.307000-07:00  CUSTOMER_LTV_MODEL  USER_MODEL   \n",
       "\n",
       "      database_name       schema_name comment     owner  \\\n",
       "0  SNOWPARK_DEMO_DB  SIMPLE_MR_SCHEMA    None  SYSADMIN   \n",
       "\n",
       "     default_version_name                    versions  \\\n",
       "0  MY_FIRST_MODEL_VERSION  [\"MY_FIRST_MODEL_VERSION\"]   \n",
       "\n",
       "                                             aliases  \n",
       "0  {\"DEFAULT\":\"MY_FIRST_MODEL_VERSION\",\"FIRST\":\"M...  "
      ]
     },
     "execution_count": 15,
     "metadata": {},
     "output_type": "execute_result"
    }
   ],
   "source": "ml_reg = Registry(session=session, database_name=db_name, schema_name=mr_schema_name)\nml_reg.show_models()",
   "id": "ce110000-1111-2222-3333-ffffff000009"
  },
  {
   "cell_type": "markdown",
   "id": "6d9aed90-4619-4028-91b9-e66365d7dc29",
   "metadata": {
    "name": "cell20",
    "collapsed": false
   },
   "source": "Get a reference to the default version of the model"
  },
  {
   "cell_type": "code",
   "execution_count": 16,
   "metadata": {
    "name": "cell11",
    "language": "python",
    "codeCollapsed": false
   },
   "outputs": [],
   "source": [
    "registered_model = ml_reg.get_model(\"CUSTOMER_LTV_MODEL\").default"
   ],
   "id": "ce110000-1111-2222-3333-ffffff000010"
  },
  {
   "cell_type": "markdown",
   "id": "050ac697-8f0e-4457-ae66-402c62c5a826",
   "metadata": {
    "name": "cell21",
    "collapsed": false
   },
   "source": "Check which functions we can use and the inputs/outputs for them"
  },
  {
   "cell_type": "code",
   "execution_count": 17,
   "metadata": {
    "name": "cell12",
    "language": "python",
    "codeCollapsed": false
   },
   "outputs": [
    {
     "data": {
      "text/plain": [
       "[{'name': 'PREDICT',\n",
       "  'target_method': 'predict',\n",
       "  'target_method_function_type': 'FUNCTION',\n",
       "  'signature': ModelSignature(\n",
       "                      inputs=[\n",
       "                          FeatureSpec(dtype=DataType.STRING, name='GENDER'),\n",
       "  \t\tFeatureSpec(dtype=DataType.STRING, name='MEMBERSHIP_STATUS'),\n",
       "  \t\tFeatureSpec(dtype=DataType.INT16, name='MEMBERSHIP_LENGTH_DAYS'),\n",
       "  \t\tFeatureSpec(dtype=DataType.DOUBLE, name='AVG_SESSION_LENGTH_MIN'),\n",
       "  \t\tFeatureSpec(dtype=DataType.DOUBLE, name='AVG_TIME_ON_APP_MIN'),\n",
       "  \t\tFeatureSpec(dtype=DataType.DOUBLE, name='AVG_TIME_ON_WEBSITE_MIN'),\n",
       "  \t\tFeatureSpec(dtype=DataType.INT8, name='APP_PRIMARY')\n",
       "                      ],\n",
       "                      outputs=[\n",
       "                          FeatureSpec(dtype=DataType.INT8, name='GENDER_OHE_FEMALE'),\n",
       "  \t\tFeatureSpec(dtype=DataType.INT8, name='GENDER_OHE_MALE'),\n",
       "  \t\tFeatureSpec(dtype=DataType.DOUBLE, name='MEMBERSHIP_STATUS_OE'),\n",
       "  \t\tFeatureSpec(dtype=DataType.INT16, name='MEMBERSHIP_LENGTH_DAYS'),\n",
       "  \t\tFeatureSpec(dtype=DataType.DOUBLE, name='AVG_SESSION_LENGTH_MIN_IMP'),\n",
       "  \t\tFeatureSpec(dtype=DataType.DOUBLE, name='AVG_TIME_ON_APP_MIN_IMP'),\n",
       "  \t\tFeatureSpec(dtype=DataType.DOUBLE, name='AVG_TIME_ON_WEBSITE_MIN_IMP'),\n",
       "  \t\tFeatureSpec(dtype=DataType.INT8, name='APP_PRIMARY'),\n",
       "  \t\tFeatureSpec(dtype=DataType.DOUBLE, name='LIFE_TIME_VALUE_PREDICTION')\n",
       "                      ]\n",
       "                  ),\n",
       "  'is_partitioned': False}]"
      ]
     },
     "execution_count": 17,
     "metadata": {},
     "output_type": "execute_result"
    }
   ],
   "source": [
    "registered_model.show_functions()"
   ],
   "id": "ce110000-1111-2222-3333-ffffff000011"
  },
  {
   "cell_type": "markdown",
   "id": "d3cf10e5-6de2-43b0-a9c5-a8f48868bae4",
   "metadata": {
    "name": "cell22",
    "collapsed": false
   },
   "source": "Create predictions from registered model given the retrieved features, we are saving them as a table in Snowflake"
  },
  {
   "cell_type": "code",
   "execution_count": 18,
   "metadata": {
    "name": "cell13",
    "language": "python",
    "codeCollapsed": false
   },
   "outputs": [
    {
     "name": "stdout",
     "output_type": "stream",
     "text": [
      "--------------------------------------------------------------------------------------------------------------------------------------------------------------------------------------------------------------------------------------------------------------------------------------------------------------------------------------------------------------------------------\n",
      "|\"EMAIL\"               |\"GENDER\"  |\"MEMBERSHIP_STATUS\"  |\"AVG_SESSION_LENGTH_MIN\"  |\"AVG_TIME_ON_APP_MIN\"  |\"AVG_TIME_ON_WEBSITE_MIN\"  |\"GENDER_OHE_FEMALE\"  |\"GENDER_OHE_MALE\"  |\"MEMBERSHIP_STATUS_OE\"  |\"MEMBERSHIP_LENGTH_DAYS\"  |\"AVG_SESSION_LENGTH_MIN_IMP\"  |\"AVG_TIME_ON_APP_MIN_IMP\"  |\"AVG_TIME_ON_WEBSITE_MIN_IMP\"  |\"APP_PRIMARY\"  |\"LIFE_TIME_VALUE_PREDICTION\"  |\n",
      "--------------------------------------------------------------------------------------------------------------------------------------------------------------------------------------------------------------------------------------------------------------------------------------------------------------------------------------------------------------------------------\n",
      "|ruV6Q10yyW@jx2qB.com  |MALE      |BASIC                |9.8579                    |6.8579                 |7.8579                     |0                    |1                  |0.0                     |-7                        |9.8579                        |6.8579                     |7.8579                         |0              |139.4165496826172             |\n",
      "|VGhNYxEKbt@kj12h.com  |FEMALE    |SILVER               |11.7681                   |NULL                   |8.7681                     |1                    |0                  |2.0                     |90                        |11.7681                       |7.746826854824635          |8.7681                         |0              |318.291259765625              |\n",
      "|rap1NSEI8e@kGX3R.com  |MALE      |PLATIN               |5.9726                    |11.9726                |10.9726                    |0                    |1                  |4.0                     |46                        |5.9726                        |11.9726                    |10.9726                        |1              |600.1307373046875             |\n",
      "|pNSxpTOjMf@P3HBf.com  |FEMALE    |BRONZE               |10.6544                   |4.6544                 |8.6544                     |1                    |0                  |1.0                     |216                       |10.6544                       |4.6544                     |8.6544                         |0              |202.47157287597656            |\n",
      "|KPmwXY32qC@MaRP5.com  |FEMALE    |BASIC                |16.1963                   |4.1963                 |4.1963                     |1                    |0                  |0.0                     |170                       |16.1963                       |4.1963                     |4.1963                         |0              |142.06170654296875            |\n",
      "|hGyBo3fUVc@Pkyfr.com  |FEMALE    |BASIC                |12.7898                   |5.7898                 |7.7898                     |1                    |0                  |0.0                     |128                       |12.7898                       |5.7898                     |7.7898                         |0              |137.79759216308594            |\n",
      "|YMZCHXBmm3@J5HZN.com  |MALE      |GOLD                 |20.1905                   |NULL                   |11.1905                    |0                    |1                  |3.0                     |250                       |20.1905                       |7.746826854824635          |11.1905                        |0              |532.022216796875              |\n",
      "|RMbBDiVIrk@HlMVZ.com  |MALE      |GOLD                 |16.9657                   |8.9657                 |7.9657                     |0                    |1                  |3.0                     |42                        |16.9657                       |8.9657                     |7.9657                         |1              |541.1078491210938             |\n",
      "|nDq20ixn5c@rl4YJ.com  |FEMALE    |BASIC                |3.4892                    |2.4892                 |3.4892                     |1                    |0                  |0.0                     |103                       |3.4892                        |2.4892                     |3.4892                         |0              |55.70866394042969             |\n",
      "|WttDwVsh6k@q5YSz.com  |FEMALE    |SILVER               |14.5883                   |8.5883                 |5.5883                     |1                    |0                  |2.0                     |64                        |14.5883                       |8.5883                     |5.5883                         |1              |295.4669189453125             |\n",
      "--------------------------------------------------------------------------------------------------------------------------------------------------------------------------------------------------------------------------------------------------------------------------------------------------------------------------------------------------------------------------------\n",
      "\n"
     ]
    }
   ],
   "source": "\nnew_predictions = registered_model.run(new_customers_features, function_name='predict')\nnew_predictions.write.save_as_table('MY_PREDICTIONS', mode='overwrite')\nsession.table('MY_PREDICTIONS').show()",
   "id": "ce110000-1111-2222-3333-ffffff000012"
  },
  {
   "cell_type": "code",
   "id": "45f4d2a1-12bb-4116-8ad9-b95444e28668",
   "metadata": {
    "language": "python",
    "name": "cell23",
    "codeCollapsed": false
   },
   "outputs": [],
   "source": "def my_fun():\n    ...\n\n",
   "execution_count": null
  }
 ]
}