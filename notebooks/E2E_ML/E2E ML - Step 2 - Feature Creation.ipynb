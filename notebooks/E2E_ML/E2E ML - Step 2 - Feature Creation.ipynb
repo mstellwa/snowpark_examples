{
 "cells": [
  {
   "cell_type": "markdown",
   "id": "eca3ce9d-2423-4fb1-918a-4c9bbb044930",
   "metadata": {
    "collapsed": false,
    "name": "cell23"
   },
   "source": [
    "Before running this noetbook makes sure that the following packages are installed in your Python enviroment:\n",
    "\n",
    "* `snowflake`\n",
    "* `snowflake-snowpark-python`\n",
    "* `snowflake-ml-python`\n",
    "* `matplotlib`"
   ]
  },
  {
   "cell_type": "code",
   "execution_count": 5,
   "id": "ce110000-1111-2222-3333-ffffff000000",
   "metadata": {
    "language": "python",
    "name": "cell1"
   },
   "outputs": [],
   "source": [
    "# Import python packages\n",
    "import matplotlib.pyplot as plt\n",
    "\n",
    "from snowflake.ml.feature_store import (\n",
    "    FeatureStore,\n",
    "    FeatureView,\n",
    "    Entity,\n",
    "    CreationMode)\n",
    "\n",
    "from snowflake.snowpark import Session\n",
    "import snowflake.snowpark.functions as snow_funcs"
   ]
  },
  {
   "cell_type": "markdown",
   "metadata": {},
   "source": [
    "### Connect to Snowflake\n",
    "\n",
    "This example is using the connections.toml file to connect to Snowflake. You can read more at https://docs.snowflake.com/en/developer-guide/python-connector/python-connector-connect#connecting-using-the-connections-toml-file how to set it up."
   ]
  },
  {
   "cell_type": "code",
   "execution_count": null,
   "id": "ce110000-1111-2222-3333-ffffff000002",
   "metadata": {
    "codeCollapsed": false,
    "language": "python",
    "name": "cell3"
   },
   "outputs": [],
   "source": [
    "db_name = \"SNOWPARK_DEMO_DB\"\n",
    "schema_name = \"SIMPLE_ML_SCHEMA\"\n",
    "fs_schema_name = \"SIMPLE_FS_SCHEMA\"\n",
    "wh_name = \"SIMPLE_ML_WH\"\n",
    "CONNECTION_NAME = '<YOUR CONNECTION NAME>' # Name of the connection in connections.toml to be used to connect to Snowflake\n",
    "\n",
    "session = Session.builder.config(\"connection_name\", CONNECTION_NAME).create()\n",
    "session.use_schema(f'{db_name}.{schema_name}')\n",
    "session.use_warehouse(wh_name)\n",
    "session.get_fully_qualified_current_schema()"
   ]
  },
  {
   "cell_type": "markdown",
   "id": "ce110000-1111-2222-3333-ffffff000004",
   "metadata": {
    "name": "cell5"
   },
   "source": [
    "# Data Exploration"
   ]
  },
  {
   "cell_type": "code",
   "execution_count": null,
   "id": "ce110000-1111-2222-3333-ffffff000005",
   "metadata": {
    "language": "python",
    "name": "cell6"
   },
   "outputs": [],
   "source": [
    "# Create a Snowpark DataFrames\n",
    "print('Customer General Data:')\n",
    "cust_df = session.table(f'{db_name}.{schema_name}.CUSTOMER_GENERAL_DATA')\n",
    "# Ny column mebership_start \n",
    "cust_df.show(n=2)\n",
    "\n",
    "print('Customer Behavior Data:')\n",
    "behavior_df = session.table(f'{db_name}.{schema_name}.CUSTOMER_BEHAVIOR_DATA')\n",
    "behavior_df.show(n=2)"
   ]
  },
  {
   "cell_type": "code",
   "execution_count": null,
   "id": "ce110000-1111-2222-3333-ffffff000006",
   "metadata": {
    "codeCollapsed": false,
    "language": "python",
    "name": "cell7"
   },
   "outputs": [],
   "source": [
    "# Describe data using various statistics\n",
    "print('Statistical Data Analysis:')\n",
    "cust_df.describe().show()\n",
    "behavior_df.describe().show()"
   ]
  },
  {
   "cell_type": "code",
   "execution_count": null,
   "id": "f4c35566-4dde-4574-af3c-1258effd2be6",
   "metadata": {
    "codeCollapsed": false,
    "language": "python",
    "name": "cell25"
   },
   "outputs": [],
   "source": [
    "plot_cols = ['GENDER', 'MEMBERSHIP_STATUS']\n",
    "for col in plot_cols:\n",
    "    cust_df.group_by(col).count().to_pandas().plot.bar(x=col, y=\"COUNT\")"
   ]
  },
  {
   "cell_type": "markdown",
   "id": "ce110000-1111-2222-3333-ffffff000007",
   "metadata": {
    "collapsed": false,
    "name": "cell8"
   },
   "source": [
    "# Feature Engineering"
   ]
  },
  {
   "cell_type": "code",
   "execution_count": 11,
   "id": "ce110000-1111-2222-3333-ffffff000008",
   "metadata": {
    "language": "python",
    "name": "cell9"
   },
   "outputs": [],
   "source": [
    "# Connect to Feature Store\n",
    "fs = FeatureStore(\n",
    "    session=session, \n",
    "    database=db_name, \n",
    "    name=fs_schema_name, \n",
    "    default_warehouse=wh_name,\n",
    "    creation_mode=CreationMode.FAIL_IF_NOT_EXIST,\n",
    ")"
   ]
  },
  {
   "cell_type": "markdown",
   "metadata": {},
   "source": [
    "Check if we have any Entities registred"
   ]
  },
  {
   "cell_type": "code",
   "execution_count": null,
   "id": "ce110000-1111-2222-3333-ffffff000009",
   "metadata": {
    "codeCollapsed": false,
    "language": "python",
    "name": "cell10"
   },
   "outputs": [],
   "source": [
    "fs.list_entities().show()"
   ]
  },
  {
   "cell_type": "markdown",
   "metadata": {},
   "source": [
    "Check for feature views"
   ]
  },
  {
   "cell_type": "code",
   "execution_count": null,
   "id": "ce110000-1111-2222-3333-ffffff000010",
   "metadata": {
    "codeCollapsed": false,
    "language": "python",
    "name": "cell11"
   },
   "outputs": [],
   "source": [
    "fs.list_feature_views().show()"
   ]
  },
  {
   "cell_type": "code",
   "execution_count": null,
   "id": "ce110000-1111-2222-3333-ffffff000011",
   "metadata": {
    "codeCollapsed": false,
    "language": "python",
    "name": "cell12"
   },
   "outputs": [],
   "source": [
    "# Create a new Feature Definition that captures the number of days since joining \n",
    "cust_feature_df = cust_df.with_column('MEMBERSHIP_LENGTH_DAYS', snow_funcs.current_date()-snow_funcs.col('MEMBER_JOIN_DATE'))\n",
    "cust_feature_df.limit(n=3).show()"
   ]
  },
  {
   "cell_type": "markdown",
   "metadata": {},
   "source": [
    "Create description for each of the features, that we are going to use when registering them"
   ]
  },
  {
   "cell_type": "code",
   "execution_count": 17,
   "id": "ce110000-1111-2222-3333-ffffff000012",
   "metadata": {
    "codeCollapsed": false,
    "language": "python",
    "name": "cell13"
   },
   "outputs": [],
   "source": [
    "feature_descriptions = {'MEMBERSHIP_LENGTH_DAYS': 'The number of days since the customer joined the membership program, calculated as the difference between the current date and the member join date.',\n",
    "                        'GENDER': 'The customers gender, either MALE or FEMALE.',\n",
    "                        'MEMBERSHIP_STATUS': 'The customers current membership status, which can be one of the following levels: BRONZE, BASIC, SILVER, GOLD, or PLATIN.'}\n"
   ]
  },
  {
   "cell_type": "code",
   "execution_count": null,
   "id": "ce110000-1111-2222-3333-ffffff000013",
   "metadata": {
    "codeCollapsed": false,
    "language": "python",
    "name": "cell14"
   },
   "outputs": [],
   "source": [
    "# Create a new entity for the Feature Store\n",
    "entity = Entity(name=\"CUSTOMER\", join_keys=[\"EMAIL\"], desc='Unique identifier for customers.')\n",
    "fs.register_entity(entity)\n",
    "fs.list_entities().show()"
   ]
  },
  {
   "cell_type": "markdown",
   "metadata": {},
   "source": [
    "We are now first creating a FeatreView that will be automatically updated once a minute, if there are new data, attache descriptions and then register it which will kick of the materilization of the feature values.\n",
    "\n",
    "Since we are using a non-deterministic function, CURRENT_DATE, the vew can not be incerementally updated but will do a full refresh every tinme we have new data."
   ]
  },
  {
   "cell_type": "code",
   "execution_count": null,
   "id": "ce110000-1111-2222-3333-ffffff000014",
   "metadata": {
    "codeCollapsed": false,
    "language": "python",
    "name": "cell15"
   },
   "outputs": [],
   "source": [
    "# Create Feature View\n",
    "cust_fv = FeatureView(\n",
    "    name=\"CUSTOMER_GENERAL_DATA_FEATURES\", \n",
    "    entities=[entity],\n",
    "    feature_df=cust_feature_df['EMAIL','GENDER','MEMBERSHIP_STATUS','MEMBERSHIP_LENGTH_DAYS'], \n",
    "    refresh_freq=\"1 minute\",  # can also be a cron schedule - * * * * * America/Los_Angeles\n",
    "    desc=\"Ecommerce Customer General Features\")\n",
    "\n",
    "# Add descriptions for some features\n",
    "cust_fv = cust_fv.attach_feature_desc(feature_descriptions)\n",
    "\n",
    "cust_fv = fs.register_feature_view(\n",
    "    feature_view=cust_fv, \n",
    "    version=\"V1\", \n",
    "    block=True,\n",
    "    overwrite=True)"
   ]
  },
  {
   "cell_type": "markdown",
   "id": "ce110000-1111-2222-3333-ffffff000015",
   "metadata": {
    "collapsed": false,
    "name": "cell16"
   },
   "source": [
    "### Register Customer Behavior Features"
   ]
  },
  {
   "cell_type": "code",
   "execution_count": null,
   "id": "ce110000-1111-2222-3333-ffffff000016",
   "metadata": {
    "language": "python",
    "name": "cell17"
   },
   "outputs": [],
   "source": [
    "# Create a flag that tells if the customer prefer the app over web based on the avg minutes spent on those\n",
    "behavior_features_df = (behavior_df['EMAIL','AVG_SESSION_LENGTH_MIN','AVG_TIME_ON_APP_MIN','AVG_TIME_ON_WEBSITE_MIN']\n",
    "                        .with_column('APP_PRIMARY', snow_funcs.iff(snow_funcs.col('AVG_TIME_ON_APP_MIN') > snow_funcs.col('AVG_TIME_ON_WEBSITE_MIN'), 1, 0)))\n",
    "behavior_features_df.limit(10).show()"
   ]
  },
  {
   "cell_type": "code",
   "execution_count": null,
   "id": "ce110000-1111-2222-3333-ffffff000017",
   "metadata": {
    "codeCollapsed": false,
    "language": "python",
    "name": "cell18"
   },
   "outputs": [],
   "source": [
    "behavior_features_df.group_by('APP_PRIMARY').count().to_pandas().plot.bar(x='APP_PRIMARY')"
   ]
  },
  {
   "cell_type": "code",
   "execution_count": 23,
   "id": "ce110000-1111-2222-3333-ffffff000018",
   "metadata": {
    "codeCollapsed": false,
    "language": "python",
    "name": "cell19"
   },
   "outputs": [],
   "source": [
    "# Create Feature View\n",
    "behavior_fv = FeatureView(\n",
    "    name=\"CUSTOMER_BEHAVIOR_DATA_FEATURES\", \n",
    "    entities=[entity],\n",
    "    feature_df=behavior_features_df, \n",
    "    refresh_freq=\"1 minute\",  # can also be a cron schedule - * * * * * America/Los_Angeles\n",
    "    desc=\"Ecommerce Customer Behavior Features\")\n",
    "\n",
    "# Add descriptions for some features\n",
    "behavior_fv = behavior_fv.attach_feature_desc(\n",
    "    {\n",
    "        \"AVG_SESSION_LENGTH_MIN\":\"Average Session Length in Minutes.\",\n",
    "        \"AVG_TIME_ON_APP_MIN\":\"Average Time a customer spends in the app per day.\",\n",
    "        \"AVG_TIME_ON_WEBSITE_MIN\":\"Average Time a customers spend on the website per day.\",\n",
    "        \"APP_PRIMARY\":\"If a customer uses the app more than the website\",\n",
    "    }\n",
    ")\n",
    "\n",
    "behavior_fv = fs.register_feature_view(\n",
    "    feature_view=behavior_fv, \n",
    "    version=\"V1\", \n",
    "    block=True,\n",
    "    overwrite=True)"
   ]
  },
  {
   "cell_type": "code",
   "execution_count": null,
   "id": "ce110000-1111-2222-3333-ffffff000019",
   "metadata": {
    "codeCollapsed": false,
    "language": "python",
    "name": "cell20"
   },
   "outputs": [],
   "source": [
    "fs.list_entities().show()"
   ]
  },
  {
   "cell_type": "code",
   "execution_count": null,
   "id": "ce110000-1111-2222-3333-ffffff000020",
   "metadata": {
    "codeCollapsed": false,
    "collapsed": false,
    "language": "python",
    "name": "cell21"
   },
   "outputs": [],
   "source": [
    "fs.list_feature_views().show()"
   ]
  },
  {
   "cell_type": "code",
   "execution_count": null,
   "id": "ce110000-1111-2222-3333-ffffff000021",
   "metadata": {
    "collapsed": false,
    "language": "python",
    "name": "cell22"
   },
   "outputs": [],
   "source": [
    "behavior_fv.lineage('upstream')"
   ]
  },
  {
   "cell_type": "code",
   "execution_count": null,
   "id": "ce110000-1111-2222-3333-ffffff000023",
   "metadata": {
    "language": "python",
    "name": "cell24"
   },
   "outputs": [],
   "source": []
  }
 ],
 "metadata": {
  "kernelspec": {
   "display_name": "notebooks_39",
   "language": "python",
   "name": "python3"
  },
  "language_info": {
   "codemirror_mode": {
    "name": "ipython",
    "version": 3
   },
   "file_extension": ".py",
   "mimetype": "text/x-python",
   "name": "python",
   "nbconvert_exporter": "python",
   "pygments_lexer": "ipython3",
   "version": "3.9.19"
  }
 },
 "nbformat": 4,
 "nbformat_minor": 2
}
