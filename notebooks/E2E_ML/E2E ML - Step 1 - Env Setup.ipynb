{
 "cells": [
  {
   "cell_type": "markdown",
   "id": "8659ff22-3a46-4314-b3b7-f0358b43a616",
   "metadata": {
    "collapsed": false,
    "name": "cell15"
   },
   "source": [
    "Before running this noetbook makes sure that the following packages are installed in your Python enviroment:\n",
    "* `snowflake`\n",
    "* `snowflake-snowpark-python`\n",
    "* `snowflake-ml-python`"
   ]
  },
  {
   "cell_type": "code",
   "execution_count": 1,
   "id": "ce110000-1111-2222-3333-ffffff000000",
   "metadata": {
    "codeCollapsed": false,
    "language": "python",
    "name": "cell1"
   },
   "outputs": [],
   "source": [
    "# Snowflake Python API\n",
    "from snowflake.core import Root\n",
    "from snowflake.core.database import Database\n",
    "from snowflake.core.schema import Schema\n",
    "from snowflake.core.warehouse import Warehouse\n",
    "from snowflake.core.stage import Stage, StageEncryption, StageDirectoryTable\n",
    "from snowflake.core import Root\n",
    "\n",
    "\n",
    "from snowflake.ml.feature_store import FeatureStore, CreationMode\n",
    "\n",
    "\n",
    "# Get the Snowpark session\n",
    "from snowflake.snowpark import Session\n",
    "#session = get_active_session()\n"
   ]
  },
  {
   "cell_type": "code",
   "execution_count": 2,
   "id": "ccf19f5c-b0d2-42a5-89ac-a0618d790237",
   "metadata": {
    "language": "python",
    "name": "cell13"
   },
   "outputs": [],
   "source": [
    "db_name = \"SNOWPARK_DEMO_DB\"\n",
    "schema_name = \"SIMPLE_ML_SCHEMA\" # Source data\n",
    "fs_schema_name = \"SIMPLE_FS_SCHEMA\" # Feature Store\n",
    "mr_schema_name = \"SIMPLE_MR_SCHEMA\" # Model Registry\n",
    "wh_name = \"SIMPLE_ML_WH\"\n",
    "\n",
    "CONNECTION_NAME = '<MY CONNECTION>' # Name of the connection in connections.toml to be used to connect to Snowflake"
   ]
  },
  {
   "cell_type": "markdown",
   "metadata": {},
   "source": [
    "### Connect to Snowflake\n",
    "\n",
    "This example is using the connections.toml file to connect to Snowflake. You can read more at https://docs.snowflake.com/en/developer-guide/python-connector/python-connector-connect#connecting-using-the-connections-toml-file how to set it up."
   ]
  },
  {
   "cell_type": "code",
   "execution_count": null,
   "id": "1d34cf1b-0813-4dbd-87a8-6550d5cbb0fe",
   "metadata": {
    "codeCollapsed": false,
    "language": "sql",
    "name": "cell12"
   },
   "outputs": [],
   "source": [
    "session = Session.builder.config(\"connection_name\", CONNECTION_NAME).create()\n",
    "session.use_schema(f'{db_name}.{schema_name}')\n",
    "session.get_fully_qualified_current_schema()"
   ]
  },
  {
   "cell_type": "code",
   "execution_count": 4,
   "id": "ce110000-1111-2222-3333-ffffff000002",
   "metadata": {
    "codeCollapsed": false,
    "language": "python",
    "name": "cell3"
   },
   "outputs": [],
   "source": [
    "# Create Database & Schema\n",
    "root = Root(session)\n",
    "ml_demo_db = Database(name=db_name)\n",
    "ml_demo_db = root.databases.create(ml_demo_db, mode='if_not_exists')\n",
    "\n",
    "ml_demo_schema = Schema(name=schema_name)\n",
    "ml_demo_schema = ml_demo_db.schemas.create(ml_demo_schema, mode='or_replace')\n",
    "\n",
    "ml_mr_schema = Schema(name=mr_schema_name)\n",
    "ml_mr_schema = ml_demo_db.schemas.create(ml_mr_schema, mode='or_replace')\n",
    "\n",
    "ml_fs_schema = Schema(name=fs_schema_name)\n",
    "ml_fs_schema = ml_demo_db.schemas.create(ml_fs_schema, mode='or_replace')\n",
    "\n",
    "\n",
    "# Create warehouse\n",
    "ml_wh = Warehouse(\n",
    "    name=wh_name, \n",
    "    warehouse_size=\"MEDIUM\", \n",
    "    auto_suspend=600, \n",
    "    auto_resume='true', \n",
    ")\n",
    "    #warehouse_type='SNOWPARK-OPTIMIZED')\n",
    "warehouses = root.warehouses\n",
    "ml_wh = warehouses.create(ml_wh, mode='or_replace')\n",
    "\n",
    "# Set context\n",
    "session.use_schema(f'{db_name}.{schema_name}')\n",
    "session.use_warehouse(wh_name)\n",
    "\n",
    "# Create Stages\n",
    "drift_reports_stage = Stage(\n",
    "  name=\"DRIFT_REPORTS\",\n",
    "  encryption=StageEncryption(type=\"SNOWFLAKE_SSE\"), \n",
    "  directory_table=StageDirectoryTable(enable=True)\n",
    ")\n",
    "drift_reports_stage = ml_demo_schema.stages.create(drift_reports_stage, mode='or_replace')\n",
    "\n",
    "code_stage = Stage(\n",
    "  name=\"PYTHON_CODE\",\n",
    "  encryption=StageEncryption(type=\"SNOWFLAKE_SSE\"), \n",
    "  directory_table=StageDirectoryTable(enable=True)\n",
    ")\n",
    "code_stage = ml_demo_schema.stages.create(code_stage, mode='or_replace')\n",
    "\n",
    "\n",
    "func_stage = Stage(\n",
    "  name=\"MONITORING\",\n",
    "  encryption=StageEncryption(type=\"SNOWFLAKE_SSE\"), \n",
    "  directory_table=StageDirectoryTable(enable=True)\n",
    ")\n",
    "func_stage = ml_demo_schema.stages.create(func_stage, mode='or_replace')\n",
    "\n",
    "dag_stage = Stage(\n",
    "  name=\"DAG_STAGE\",\n",
    ")\n",
    "dag_stage = ml_demo_schema.stages.create(dag_stage, mode='or_replace')\n",
    "\n",
    "# Create Feature Store\n",
    "fs = FeatureStore(\n",
    "    session=session, \n",
    "    database=db_name, \n",
    "    name=fs_schema_name, \n",
    "    default_warehouse=wh_name,\n",
    "    creation_mode=CreationMode.CREATE_IF_NOT_EXIST,\n",
    ")"
   ]
  },
  {
   "cell_type": "code",
   "execution_count": null,
   "id": "ce110000-1111-2222-3333-ffffff000003",
   "metadata": {
    "codeCollapsed": false,
    "language": "python",
    "name": "cell4"
   },
   "outputs": [],
   "source": [
    "session.get_fully_qualified_current_schema()"
   ]
  },
  {
   "cell_type": "markdown",
   "id": "a0ace605-3e6b-48b6-845a-7fe8f3891eab",
   "metadata": {
    "collapsed": false,
    "name": "cell2"
   },
   "source": [
    "Before generating data you need to make sure the `demo_data.py` file is in the same directory as your notebook."
   ]
  },
  {
   "cell_type": "code",
   "execution_count": null,
   "id": "ce110000-1111-2222-3333-ffffff000004",
   "metadata": {
    "codeCollapsed": false,
    "language": "python",
    "name": "cell5"
   },
   "outputs": [],
   "source": [
    "\n",
    "from demo_data import generate_demo_data\n",
    "\n",
    "session.use_schema(f'{db_name}.{schema_name}')\n",
    "\n",
    "generate_demo_data(session, num_customers=200000, month=8, start_year=2020, end_year=2024)"
   ]
  },
  {
   "cell_type": "code",
   "execution_count": null,
   "id": "ce110000-1111-2222-3333-ffffff000005",
   "metadata": {
    "codeCollapsed": false,
    "language": "python",
    "name": "cell6"
   },
   "outputs": [],
   "source": [
    "session.get_fully_qualified_current_schema()"
   ]
  },
  {
   "cell_type": "code",
   "execution_count": null,
   "id": "ce110000-1111-2222-3333-ffffff000006",
   "metadata": {
    "codeCollapsed": false,
    "language": "python",
    "name": "cell7"
   },
   "outputs": [],
   "source": [
    "# Create a Snowpark DataFrames and check we have data in our tables\n",
    "print('Customer Life Time Value Data:')\n",
    "ltv_df = session.table(f'{db_name}.{schema_name}.CUSTOMER_LIFE_TIME_VALUE').drop('YEAR_MONTH')\n",
    "ltv_df.show(n=2)\n",
    "\n",
    "print('Customer General Data:')\n",
    "cust_df = session.table(f'{db_name}.{schema_name}.CUSTOMER_GENERAL_DATA')\n",
    "cust_df.show(n=2)\n",
    "\n",
    "print('Customer Behavior Data:')\n",
    "behavior_df = session.table(f'{db_name}.{schema_name}.CUSTOMER_BEHAVIOR_DATA')\n",
    "behavior_df.show(n=2)"
   ]
  },
  {
   "cell_type": "code",
   "execution_count": 9,
   "id": "ce110000-1111-2222-3333-ffffff000008",
   "metadata": {
    "codeCollapsed": false,
    "language": "python",
    "name": "cell9"
   },
   "outputs": [],
   "source": [
    "session.close()"
   ]
  },
  {
   "cell_type": "code",
   "execution_count": null,
   "metadata": {},
   "outputs": [],
   "source": []
  }
 ],
 "metadata": {
  "kernelspec": {
   "display_name": "notebooks_39",
   "language": "python",
   "name": "python3"
  },
  "language_info": {
   "codemirror_mode": {
    "name": "ipython",
    "version": 3
   },
   "file_extension": ".py",
   "mimetype": "text/x-python",
   "name": "python",
   "nbconvert_exporter": "python",
   "pygments_lexer": "ipython3",
   "version": "3.9.19"
  }
 },
 "nbformat": 4,
 "nbformat_minor": 2
}
