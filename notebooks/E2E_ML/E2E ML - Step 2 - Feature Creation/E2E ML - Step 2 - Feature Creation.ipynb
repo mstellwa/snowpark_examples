{
 "metadata": {
  "kernelspec": {
   "display_name": "notebooks_39",
   "language": "python",
   "name": "python3"
  },
  "language_info": {
   "codemirror_mode": {
    "name": "ipython",
    "version": 3
   },
   "file_extension": ".py",
   "mimetype": "text/x-python",
   "name": "python",
   "nbconvert_exporter": "python",
   "pygments_lexer": "ipython3",
   "version": "3.9.19"
  }
 },
 "nbformat_minor": 2,
 "nbformat": 4,
 "cells": [
  {
   "cell_type": "markdown",
   "id": "eca3ce9d-2423-4fb1-918a-4c9bbb044930",
   "metadata": {
    "name": "cell23",
    "collapsed": false
   },
   "source": "Before running this Notebook make sure you have the following packages in the **Packages** list\n\n* `matploylib`\n* `snowflake-ml-python`"
  },
  {
   "cell_type": "code",
   "execution_count": 70,
   "metadata": {
    "name": "cell1",
    "language": "python"
   },
   "outputs": [],
   "source": "# Import python packages\nimport streamlit as st\n\nfrom snowflake.ml.feature_store import (\n    FeatureStore,\n    FeatureView,\n    Entity,\n    CreationMode)\n\n# from snowflake.snowpark import Session\nimport snowflake.snowpark.functions as snow_funcs\n\n# Get the Snowpark session\nfrom snowflake.snowpark.context import get_active_session\nsession = get_active_session()\n",
   "id": "ce110000-1111-2222-3333-ffffff000000"
  },
  {
   "cell_type": "code",
   "execution_count": 71,
   "metadata": {
    "name": "cell2",
    "language": "python",
    "codeCollapsed": false
   },
   "outputs": [
    {
     "name": "stdout",
     "output_type": "stream",
     "text": [
      "Current role: \"SYSADMIN\", Current schema: \"DEMO_DB\".\"PUBLIC\", Current WH: \"COMPUTE_WH\"\n"
     ]
    }
   ],
   "source": "# session = Session.builder.config(\"connection_name\", 'mstellwall_aws_us_west3').create()\nprint(\"Current role: \" + session.get_current_role() + \", Current schema: \" + session.get_fully_qualified_current_schema() + \", Current WH: \" + session.get_current_warehouse())",
   "id": "ce110000-1111-2222-3333-ffffff000001"
  },
  {
   "cell_type": "code",
   "execution_count": 72,
   "metadata": {
    "name": "cell3",
    "language": "python",
    "codeCollapsed": false
   },
   "outputs": [
    {
     "data": {
      "text/plain": [
       "'\"SNOWPARK_DEMO_DB\".\"SIMPLE_ML_SCHEMA\"'"
      ]
     },
     "execution_count": 72,
     "metadata": {},
     "output_type": "execute_result"
    }
   ],
   "source": [
    "db_name = \"SNOWPARK_DEMO_DB\"\n",
    "schema_name = \"SIMPLE_ML_SCHEMA\"\n",
    "fs_schema_name = \"SIMPLE_FS_SCHEMA\"\n",
    "wh_name = \"SIMPLE_ML_WH\"\n",
    "\n",
    "session.use_schema(f'{db_name}.{schema_name}')\n",
    "session.use_warehouse(wh_name)\n",
    "session.get_fully_qualified_current_schema()"
   ],
   "id": "ce110000-1111-2222-3333-ffffff000002"
  },
  {
   "cell_type": "markdown",
   "metadata": {
    "name": "cell4",
    "collapsed": false
   },
   "source": [],
   "id": "ce110000-1111-2222-3333-ffffff000003"
  },
  {
   "cell_type": "markdown",
   "metadata": {
    "name": "cell5"
   },
   "source": [
    "# Data Exploration"
   ],
   "id": "ce110000-1111-2222-3333-ffffff000004"
  },
  {
   "cell_type": "code",
   "execution_count": 73,
   "metadata": {
    "name": "cell6",
    "language": "python"
   },
   "outputs": [
    {
     "name": "stdout",
     "output_type": "stream",
     "text": [
      "Customer General Data:\n",
      "------------------------------------------------------------------------------\n",
      "|\"EMAIL\"               |\"GENDER\"  |\"MEMBERSHIP_STATUS\"  |\"MEMBER_JOIN_DATE\"  |\n",
      "------------------------------------------------------------------------------\n",
      "|ISEglO3tBE@jRkXJ.com  |MALE      |BASIC                |2020-03-21          |\n",
      "|blarIyWxnz@EyabS.com  |MALE      |BRONZE               |2024-02-03          |\n",
      "------------------------------------------------------------------------------\n",
      "\n",
      "Customer Behavior Data:\n",
      "-------------------------------------------------------------------------------------------------------\n",
      "|\"EMAIL\"               |\"AVG_SESSION_LENGTH_MIN\"  |\"AVG_TIME_ON_APP_MIN\"  |\"AVG_TIME_ON_WEBSITE_MIN\"  |\n",
      "-------------------------------------------------------------------------------------------------------\n",
      "|ISEglO3tBE@jRkXJ.com  |3.2003                    |1.2003                 |6.2003                     |\n",
      "|blarIyWxnz@EyabS.com  |5.0769                    |NULL                   |5.0769                     |\n",
      "-------------------------------------------------------------------------------------------------------\n",
      "\n"
     ]
    }
   ],
   "source": [
    "# Create a Snowpark DataFrames\n",
    "print('Customer General Data:')\n",
    "cust_df = session.table(f'{db_name}.{schema_name}.CUSTOMER_GENERAL_DATA')\n",
    "# Ny column mebership_start \n",
    "cust_df.show(n=2)\n",
    "\n",
    "print('Customer Behavior Data:')\n",
    "behavior_df = session.table(f'{db_name}.{schema_name}.CUSTOMER_BEHAVIOR_DATA')\n",
    "behavior_df.show(n=2)"
   ],
   "id": "ce110000-1111-2222-3333-ffffff000005"
  },
  {
   "cell_type": "code",
   "execution_count": 74,
   "metadata": {
    "name": "cell7",
    "language": "python",
    "codeCollapsed": false
   },
   "outputs": [
    {
     "name": "stdout",
     "output_type": "stream",
     "text": [
      "Statistical Data Analysis:\n",
      "---------------------------------------------------------------------\n",
      "|\"SUMMARY\"  |\"EMAIL\"               |\"GENDER\"  |\"MEMBERSHIP_STATUS\"  |\n",
      "---------------------------------------------------------------------\n",
      "|count      |200000                |200000    |200000               |\n",
      "|mean       |NULL                  |NULL      |NULL                 |\n",
      "|stddev     |NULL                  |NULL      |NULL                 |\n",
      "|min        |000P87Apg4@wNfMv.com  |FEMALE    |BASIC                |\n",
      "|max        |zzzzJ0vK6u@idfFj.com  |MALE      |SILVER               |\n",
      "---------------------------------------------------------------------\n",
      "\n",
      "-------------------------------------------------------------------------------------------------------------------\n",
      "|\"SUMMARY\"  |\"EMAIL\"               |\"AVG_SESSION_LENGTH_MIN\"  |\"AVG_TIME_ON_APP_MIN\"  |\"AVG_TIME_ON_WEBSITE_MIN\"  |\n",
      "-------------------------------------------------------------------------------------------------------------------\n",
      "|count      |200000                |166612.0                  |166599.0               |166335.0                   |\n",
      "|mean       |NULL                  |6.244629146760137         |7.748847660550183      |8.74905675895031           |\n",
      "|stddev     |NULL                  |2.759610919158341         |2.949472903180849      |2.5858004922145814         |\n",
      "|min        |000P87Apg4@wNfMv.com  |0.01                      |1.01                   |3.0101                     |\n",
      "|max        |zzzzJ0vK6u@idfFj.com  |12.4998                   |14.4998                |14.5                       |\n",
      "-------------------------------------------------------------------------------------------------------------------\n",
      "\n"
     ]
    }
   ],
   "source": [
    "# Describe data using various statistics\n",
    "print('Statistical Data Analysis:')\n",
    "cust_df.describe().show()\n",
    "behavior_df.describe().show()"
   ],
   "id": "ce110000-1111-2222-3333-ffffff000006"
  },
  {
   "cell_type": "code",
   "id": "f4c35566-4dde-4574-af3c-1258effd2be6",
   "metadata": {
    "language": "python",
    "name": "cell25",
    "codeCollapsed": false
   },
   "outputs": [],
   "source": "ncol = 2\ncols = st.columns(ncol)\n\nplot_cols = ['GENDER', 'MEMBERSHIP_STATUS']\nfor i in range(len(plot_cols)):\n    st_col = cols[i%ncol]\n    with st_col:\n        col = plot_cols[i]\n        st.bar_chart(cust_df.group_by(col).count(), x=col)",
   "execution_count": null
  },
  {
   "cell_type": "markdown",
   "metadata": {
    "name": "cell8",
    "collapsed": false
   },
   "source": [
    "# Feature Engineering"
   ],
   "id": "ce110000-1111-2222-3333-ffffff000007"
  },
  {
   "cell_type": "code",
   "execution_count": 75,
   "metadata": {
    "name": "cell9",
    "language": "python"
   },
   "outputs": [],
   "source": [
    "# Connect to Feature Store\n",
    "fs = FeatureStore(\n",
    "    session=session, \n",
    "    database=db_name, \n",
    "    name=fs_schema_name, \n",
    "    default_warehouse=wh_name,\n",
    "    creation_mode=CreationMode.FAIL_IF_NOT_EXIST,\n",
    ")"
   ],
   "id": "ce110000-1111-2222-3333-ffffff000008"
  },
  {
   "cell_type": "code",
   "execution_count": 76,
   "metadata": {
    "name": "cell10",
    "language": "python",
    "codeCollapsed": false
   },
   "outputs": [
    {
     "name": "stdout",
     "output_type": "stream",
     "text": [
      "------------------------------------------------------------------------\n",
      "|\"NAME\"    |\"JOIN_KEYS\"  |\"DESC\"                            |\"OWNER\"   |\n",
      "------------------------------------------------------------------------\n",
      "|CUSTOMER  |[\"EMAIL\"]    |Unique identifier for customers.  |SYSADMIN  |\n",
      "------------------------------------------------------------------------\n",
      "\n"
     ]
    }
   ],
   "source": "fs.list_entities()",
   "id": "ce110000-1111-2222-3333-ffffff000009"
  },
  {
   "cell_type": "code",
   "execution_count": 77,
   "metadata": {
    "name": "cell11",
    "language": "python",
    "codeCollapsed": false
   },
   "outputs": [
    {
     "name": "stdout",
     "output_type": "stream",
     "text": [
      "---------------------------------------------------------------------------------------------------------------------------------------------------------------------------------------------------------------------------------------------------------\n",
      "|\"NAME\"                           |\"VERSION\"  |\"DATABASE_NAME\"   |\"SCHEMA_NAME\"     |\"CREATED_ON\"                |\"OWNER\"   |\"DESC\"                                |\"ENTITIES\"    |\"REFRESH_FREQ\"  |\"REFRESH_MODE\"  |\"SCHEDULING_STATE\"  |\"WAREHOUSE\"   |\n",
      "---------------------------------------------------------------------------------------------------------------------------------------------------------------------------------------------------------------------------------------------------------\n",
      "|CUSTOMER_BEHAVIOR_DATA_FEATURES  |V1         |SNOWPARK_DEMO_DB  |SIMPLE_FS_SCHEMA  |2024-09-12 02:23:53.571000  |SYSADMIN  |Ecommerce Customer Behavior Features  |[             |1 minute        |INCREMENTAL     |ACTIVE              |SIMPLE_ML_WH  |\n",
      "|                                 |           |                  |                  |                            |          |                                      |  \"CUSTOMER\"  |                |                |                    |              |\n",
      "|                                 |           |                  |                  |                            |          |                                      |]             |                |                |                    |              |\n",
      "|CUSTOMER_GENERAL_DATA_FEATURES   |V1         |SNOWPARK_DEMO_DB  |SIMPLE_FS_SCHEMA  |2024-09-11 05:44:49.930000  |SYSADMIN  |Ecommerce Customer General Features   |[             |1 minute        |FULL            |SUSPENDED           |SIMPLE_ML_WH  |\n",
      "|                                 |           |                  |                  |                            |          |                                      |  \"CUSTOMER\"  |                |                |                    |              |\n",
      "|                                 |           |                  |                  |                            |          |                                      |]             |                |                |                    |              |\n",
      "---------------------------------------------------------------------------------------------------------------------------------------------------------------------------------------------------------------------------------------------------------\n",
      "\n"
     ]
    }
   ],
   "source": "fs.list_feature_views()",
   "id": "ce110000-1111-2222-3333-ffffff000010"
  },
  {
   "cell_type": "code",
   "execution_count": 78,
   "metadata": {
    "name": "cell12",
    "language": "python",
    "codeCollapsed": false
   },
   "outputs": [
    {
     "name": "stdout",
     "output_type": "stream",
     "text": [
      "---------------------------------------------------------------------------------------------------------\n",
      "|\"EMAIL\"               |\"GENDER\"  |\"MEMBERSHIP_STATUS\"  |\"MEMBER_JOIN_DATE\"  |\"MEMBERSHIP_LENGTH_DAYS\"  |\n",
      "---------------------------------------------------------------------------------------------------------\n",
      "|ISEglO3tBE@jRkXJ.com  |MALE      |BASIC                |2020-03-21          |1636                      |\n",
      "|blarIyWxnz@EyabS.com  |MALE      |BRONZE               |2024-02-03          |222                       |\n",
      "|1JMXH8GV0T@4GzHW.com  |MALE      |PLATIN               |2023-03-01          |561                       |\n",
      "---------------------------------------------------------------------------------------------------------\n",
      "\n"
     ]
    }
   ],
   "source": "# Create a new Feature Definition that captures the number of days since joining \ncust_feature_df = cust_df.with_column('MEMBERSHIP_LENGTH_DAYS', snow_funcs.current_date()-snow_funcs.col('MEMBER_JOIN_DATE'))\ncust_feature_df.limit(n=3)",
   "id": "ce110000-1111-2222-3333-ffffff000011"
  },
  {
   "cell_type": "code",
   "execution_count": 79,
   "metadata": {
    "name": "cell13",
    "language": "python",
    "codeCollapsed": false
   },
   "outputs": [],
   "source": [
    "feature_descriptions = {'MEMBERSHIP_LENGTH_DAYS': 'The number of days since the customer joined the membership program, calculated as the difference between the current date and the member join date.',\n",
    "                        'GENDER': 'The customers gender, either MALE or FEMALE.',\n",
    "                        'MEMBERSHIP_STATUS': 'The customers current membership status, which can be one of the following levels: BRONZE, BASIC, SILVER, GOLD, or PLATIN.'}\n"
   ],
   "id": "ce110000-1111-2222-3333-ffffff000012"
  },
  {
   "cell_type": "code",
   "execution_count": 80,
   "metadata": {
    "name": "cell14",
    "language": "python",
    "codeCollapsed": false
   },
   "outputs": [
    {
     "name": "stderr",
     "output_type": "stream",
     "text": [
      "/Users/mstellwall/anaconda3/envs/notebooks_39/lib/python3.9/site-packages/snowflake/ml/feature_store/feature_store.py:189: UserWarning: Entity CUSTOMER already exists. Skip registration.\n",
      "  return f(self, *args, **kargs)\n"
     ]
    },
    {
     "name": "stdout",
     "output_type": "stream",
     "text": [
      "------------------------------------------------------------------------\n",
      "|\"NAME\"    |\"JOIN_KEYS\"  |\"DESC\"                            |\"OWNER\"   |\n",
      "------------------------------------------------------------------------\n",
      "|CUSTOMER  |[\"EMAIL\"]    |Unique identifier for customers.  |SYSADMIN  |\n",
      "------------------------------------------------------------------------\n",
      "\n"
     ]
    }
   ],
   "source": "# Create a new entity for the Feature Store\nentity = Entity(name=\"CUSTOMER\", join_keys=[\"EMAIL\"], desc='Unique identifier for customers.')\nfs.register_entity(entity)\nfs.list_entities()",
   "id": "ce110000-1111-2222-3333-ffffff000013"
  },
  {
   "cell_type": "code",
   "execution_count": 81,
   "metadata": {
    "name": "cell15",
    "language": "python",
    "codeCollapsed": false
   },
   "outputs": [
    {
     "name": "stderr",
     "output_type": "stream",
     "text": [
      "/Users/mstellwall/anaconda3/envs/notebooks_39/lib/python3.9/site-packages/snowflake/ml/feature_store/feature_store.py:1840: UserWarning: Your pipeline won't be incrementally refreshed due to: \"Query contains the function 'CURRENT_DATE', but change tracking is not supported on queries with non-deterministic functions.\". It will likely incurr higher cost.\n",
      "  self._check_dynamic_table_refresh_mode(feature_view_name)\n"
     ]
    }
   ],
   "source": [
    "# Create Feature View\n",
    "cust_fv = FeatureView(\n",
    "    name=\"CUSTOMER_GENERAL_DATA_FEATURES\", \n",
    "    entities=[entity],\n",
    "    feature_df=cust_feature_df['EMAIL','GENDER','MEMBERSHIP_STATUS','MEMBERSHIP_LENGTH_DAYS'], \n",
    "    refresh_freq=\"1 minute\",  # can also be a cron schedule - * * * * * America/Los_Angeles\n",
    "    desc=\"Ecommerce Customer General Features\")\n",
    "\n",
    "# Add descriptions for some features\n",
    "cust_fv = cust_fv.attach_feature_desc(feature_descriptions)\n",
    "\n",
    "cust_fv = fs.register_feature_view(\n",
    "    feature_view=cust_fv, \n",
    "    version=\"V1\", \n",
    "    block=True,\n",
    "    overwrite=True)"
   ],
   "id": "ce110000-1111-2222-3333-ffffff000014"
  },
  {
   "cell_type": "markdown",
   "metadata": {
    "name": "cell16",
    "collapsed": false
   },
   "source": [
    "### Register Customer Behavior Features"
   ],
   "id": "ce110000-1111-2222-3333-ffffff000015"
  },
  {
   "cell_type": "code",
   "execution_count": 82,
   "metadata": {
    "name": "cell17",
    "language": "python"
   },
   "outputs": [
    {
     "name": "stdout",
     "output_type": "stream",
     "text": [
      "-----------------------------------------------------------------------------------------------------------------------\n",
      "|\"EMAIL\"               |\"AVG_SESSION_LENGTH_MIN\"  |\"AVG_TIME_ON_APP_MIN\"  |\"AVG_TIME_ON_WEBSITE_MIN\"  |\"APP_PRIMARY\"  |\n",
      "-----------------------------------------------------------------------------------------------------------------------\n",
      "|ISEglO3tBE@jRkXJ.com  |3.2003                    |1.2003                 |6.2003                     |0              |\n",
      "|blarIyWxnz@EyabS.com  |5.0769                    |NULL                   |5.0769                     |0              |\n",
      "|1JMXH8GV0T@4GzHW.com  |6.2404                    |7.2404                 |10.2404                    |0              |\n",
      "|gWvxW1OROO@sgaaN.com  |9.3691                    |NULL                   |11.3691                    |0              |\n",
      "|mgCmEen8Fk@1PxIr.com  |4.8437                    |10.8437                |10.8437                    |0              |\n",
      "|9AXLbqyQMx@Wf3g9.com  |7.4813                    |7.4813                 |10.4813                    |0              |\n",
      "|M0lXQY2sFO@78Om2.com  |5.3305                    |3.3305                 |5.3305                     |0              |\n",
      "|xsRh6RD3iK@sScp7.com  |8.7299                    |NULL                   |12.7299                    |0              |\n",
      "|KqL62QO8Kt@aQKtA.com  |12.2683                   |9.2683                 |12.2683                    |0              |\n",
      "|3olOnytxx3@tQyET.com  |8.5958                    |8.5958                 |10.5958                    |0              |\n",
      "-----------------------------------------------------------------------------------------------------------------------\n",
      "\n"
     ]
    }
   ],
   "source": "# Create a flag that tells if the customer prefer the app over web based on the avg minutes spent on those\nbehavior_features_df = (behavior_df['EMAIL','AVG_SESSION_LENGTH_MIN','AVG_TIME_ON_APP_MIN','AVG_TIME_ON_WEBSITE_MIN']\n                        .with_column('APP_PRIMARY', snow_funcs.iff(snow_funcs.col('AVG_TIME_ON_APP_MIN') > snow_funcs.col('AVG_TIME_ON_WEBSITE_MIN'), 1, 0)))\nbehavior_features_df.limit(10)",
   "id": "ce110000-1111-2222-3333-ffffff000016"
  },
  {
   "cell_type": "code",
   "execution_count": 83,
   "metadata": {
    "name": "cell18",
    "language": "python",
    "codeCollapsed": false
   },
   "outputs": [
    {
     "name": "stdout",
     "output_type": "stream",
     "text": [
      "---------------------------\n",
      "|\"APP_PRIMARY\"  |\"COUNT\"  |\n",
      "---------------------------\n",
      "|0              |162171   |\n",
      "|1              |37829    |\n",
      "---------------------------\n",
      "\n"
     ]
    }
   ],
   "source": "st.bar_chart(behavior_features_df.group_by('APP_PRIMARY').count(), x='APP_PRIMARY')",
   "id": "ce110000-1111-2222-3333-ffffff000017"
  },
  {
   "cell_type": "code",
   "execution_count": 84,
   "metadata": {
    "name": "cell19",
    "language": "python",
    "codeCollapsed": false
   },
   "outputs": [],
   "source": [
    "# Create Feature View\n",
    "behavior_fv = FeatureView(\n",
    "    name=\"CUSTOMER_BEHAVIOR_DATA_FEATURES\", \n",
    "    entities=[entity],\n",
    "    feature_df=behavior_features_df, \n",
    "    refresh_freq=\"1 minute\",  # can also be a cron schedule - * * * * * America/Los_Angeles\n",
    "    desc=\"Ecommerce Customer Behavior Features\")\n",
    "\n",
    "# Add descriptions for some features\n",
    "behavior_fv = behavior_fv.attach_feature_desc(\n",
    "    {\n",
    "        \"AVG_SESSION_LENGTH_MIN\":\"Average Session Length in Minutes.\",\n",
    "        \"AVG_TIME_ON_APP_MIN\":\"Average Time a customer spends in the app per day.\",\n",
    "        \"AVG_TIME_ON_WEBSITE_MIN\":\"Average Time a customers spend on the website per day.\",\n",
    "        \"APP_PRIMARY\":\"If a customer uses the app more than the website\",\n",
    "    }\n",
    ")\n",
    "\n",
    "behavior_fv = fs.register_feature_view(\n",
    "    feature_view=behavior_fv, \n",
    "    version=\"V1\", \n",
    "    block=True,\n",
    "    overwrite=True)"
   ],
   "id": "ce110000-1111-2222-3333-ffffff000018"
  },
  {
   "cell_type": "code",
   "execution_count": 85,
   "metadata": {
    "name": "cell20",
    "language": "python",
    "codeCollapsed": false
   },
   "outputs": [
    {
     "name": "stdout",
     "output_type": "stream",
     "text": [
      "------------------------------------------------------------------------\n",
      "|\"NAME\"    |\"JOIN_KEYS\"  |\"DESC\"                            |\"OWNER\"   |\n",
      "------------------------------------------------------------------------\n",
      "|CUSTOMER  |[\"EMAIL\"]    |Unique identifier for customers.  |SYSADMIN  |\n",
      "------------------------------------------------------------------------\n",
      "\n"
     ]
    }
   ],
   "source": "fs.list_entities()",
   "id": "ce110000-1111-2222-3333-ffffff000019"
  },
  {
   "cell_type": "code",
   "execution_count": 87,
   "metadata": {
    "name": "cell21",
    "language": "python",
    "codeCollapsed": false,
    "collapsed": false
   },
   "outputs": [
    {
     "name": "stdout",
     "output_type": "stream",
     "text": [
      "---------------------------------------------------------------------------------------------------------------------------------------------------------------------------------------------------------------------------------------------------------\n",
      "|\"NAME\"                           |\"VERSION\"  |\"DATABASE_NAME\"   |\"SCHEMA_NAME\"     |\"CREATED_ON\"                |\"OWNER\"   |\"DESC\"                                |\"ENTITIES\"    |\"REFRESH_FREQ\"  |\"REFRESH_MODE\"  |\"SCHEDULING_STATE\"  |\"WAREHOUSE\"   |\n",
      "---------------------------------------------------------------------------------------------------------------------------------------------------------------------------------------------------------------------------------------------------------\n",
      "|CUSTOMER_BEHAVIOR_DATA_FEATURES  |V1         |SNOWPARK_DEMO_DB  |SIMPLE_FS_SCHEMA  |2024-09-12 02:29:00.600000  |SYSADMIN  |Ecommerce Customer Behavior Features  |[             |1 minute        |INCREMENTAL     |ACTIVE              |SIMPLE_ML_WH  |\n",
      "|                                 |           |                  |                  |                            |          |                                      |  \"CUSTOMER\"  |                |                |                    |              |\n",
      "|                                 |           |                  |                  |                            |          |                                      |]             |                |                |                    |              |\n",
      "|CUSTOMER_GENERAL_DATA_FEATURES   |V1         |SNOWPARK_DEMO_DB  |SIMPLE_FS_SCHEMA  |2024-09-12 02:28:45.069000  |SYSADMIN  |Ecommerce Customer General Features   |[             |1 minute        |FULL            |ACTIVE              |SIMPLE_ML_WH  |\n",
      "|                                 |           |                  |                  |                            |          |                                      |  \"CUSTOMER\"  |                |                |                    |              |\n",
      "|                                 |           |                  |                  |                            |          |                                      |]             |                |                |                    |              |\n",
      "---------------------------------------------------------------------------------------------------------------------------------------------------------------------------------------------------------------------------------------------------------\n",
      "\n"
     ]
    }
   ],
   "source": "fs.list_feature_views()",
   "id": "ce110000-1111-2222-3333-ffffff000020"
  },
  {
   "cell_type": "code",
   "execution_count": 88,
   "metadata": {
    "name": "cell22",
    "language": "python",
    "collapsed": false
   },
   "outputs": [
    {
     "data": {
      "text/plain": [
       "[LineageNode(\n",
       "   name='SNOWPARK_DEMO_DB.SIMPLE_ML_SCHEMA.CUSTOMER_BEHAVIOR_DATA',\n",
       "   version='None',\n",
       "   domain='table',\n",
       "   status='ACTIVE',\n",
       "   created_on='2024-09-11 14:51:18'\n",
       " )]"
      ]
     },
     "execution_count": 88,
     "metadata": {},
     "output_type": "execute_result"
    }
   ],
   "source": [
    "behavior_fv.lineage('upstream')"
   ],
   "id": "ce110000-1111-2222-3333-ffffff000021"
  },
  {
   "cell_type": "code",
   "execution_count": null,
   "metadata": {
    "name": "cell24",
    "language": "python"
   },
   "outputs": [],
   "source": [],
   "id": "ce110000-1111-2222-3333-ffffff000023"
  }
 ]
}