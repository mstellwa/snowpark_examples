{
 "cells": [
  {
   "cell_type": "markdown",
   "id": "bdcf93eb-3741-4ee2-884f-8323755844c3",
   "metadata": {},
   "source": [
    "# Loading of data needed for examples\n",
    "\n",
    "This notebook can be used to load the data into Snowflake that is used for some of the demos.\n",
    "\n",
    "It will create tables in the database and schema used in the connection parameters ie creds.json"
   ]
  },
  {
   "cell_type": "code",
   "execution_count": null,
   "id": "4b3ffc01-3839-4614-8272-3d7a0accf0c6",
   "metadata": {},
   "outputs": [],
   "source": []
  },
  {
   "cell_type": "code",
   "execution_count": null,
   "id": "71ab98b6-29c1-4a01-ac8a-559d88b48d3f",
   "metadata": {},
   "outputs": [],
   "source": [
    "# Snowpark modules\n",
    "from snowflake.snowpark.session import Session\n",
    "import snowflake.snowpark.types as T"
   ]
  },
  {
   "cell_type": "code",
   "execution_count": null,
   "id": "7e87ea55-75af-4670-89e3-87aae5c33235",
   "metadata": {},
   "outputs": [],
   "source": [
    "# Get a nicer output from .show()\n",
    "from IPython.core.display import HTML\n",
    "display(HTML(\"<style>pre { white-space: pre !important; }</style>\"))"
   ]
  },
  {
   "cell_type": "markdown",
   "id": "708590b5-c887-4d71-8ba2-1700ea7451bf",
   "metadata": {},
   "source": [
    "### Connect to Snowflake\n",
    "\n",
    "This example is using the connections.toml file to connect to Snowflake. You can read more at https://docs.snowflake.com/en/developer-guide/python-connector/python-connector-connect#connecting-using-the-connections-toml-file how to set it up."
   ]
  },
  {
   "cell_type": "code",
   "execution_count": null,
   "id": "2e438e42-1c52-42ff-8989-090d1dd45291",
   "metadata": {},
   "outputs": [],
   "source": [
    "CONNECTION_NAME = 'MY SNOWFLAKE CONNECTION' # Name of the connection in connections.toml to be used to connect to Snowflake\n",
    "data_path = \"../data/\" # WHere the data files is stored localy\n",
    "data_stage_name = \"~\" # Using the user stage\n",
    "DATABASE_NAME = 'SNOWPARK_DEMO_DB' # Database to use for data\n",
    "DATABASE_SCHEMA = 'SOURCE_DATA' # Name of schema to store data and files in \n",
    "FULLY_QUALIFIED_NAME = f\"{DATABASE_NAME}.{DATABASE_SCHEMA}\"\n",
    "\n",
    "snf_session = Session.builder.config(\"connection_name\", CONNECTION_NAME).create()"
   ]
  },
  {
   "cell_type": "markdown",
   "id": "009d05f1-49be-4aac-87e4-49a6566e7deb",
   "metadata": {},
   "source": [
    "Create the database and schema if they do not already exists"
   ]
  },
  {
   "cell_type": "code",
   "execution_count": null,
   "id": "bcefd7a0-fe72-43fd-86f0-0e235e66f6a7",
   "metadata": {},
   "outputs": [],
   "source": [
    "snf_session.sql(f\"CREATE DATABASE IF NOT EXISTS {DATABASE_NAME}\").collect()\n",
    "snf_session.sql(f\"CREATE SCHEMA IF NOT EXISTS {FULLY_QUALIFIED_NAME}\").collect()\n",
    "snf_session.sql(f\"CREATE OR REPLACE STAGE {FULLY_QUALIFIED_NAME}.SOURCE_FILES\").collect() # Stage for upload parquet files that is loaded in a Notebook\n",
    "snf_session.use_schema(FULLY_QUALIFIED_NAME)"
   ]
  },
  {
   "cell_type": "code",
   "execution_count": null,
   "id": "717b1278",
   "metadata": {},
   "outputs": [],
   "source": [
    "snf_session.get_fully_qualified_current_schema()"
   ]
  },
  {
   "cell_type": "markdown",
   "id": "06bbf9eb-7e3f-4b5a-9f90-bf0efea934ff",
   "metadata": {},
   "source": [
    "### Titanic data"
   ]
  },
  {
   "cell_type": "code",
   "execution_count": null,
   "id": "e9d9b996-8f90-4680-bb9c-522fdcaec2d0",
   "metadata": {},
   "outputs": [],
   "source": [
    "# Upload the source file to the stage\n",
    "putResult = snf_session.file.put(f\"{data_path}titanic.csv\", f\"@{data_stage_name}\", auto_compress=True, overwrite=True)"
   ]
  },
  {
   "cell_type": "code",
   "execution_count": null,
   "id": "5f050341-8670-4b6e-8a85-7e4935f6cc5d",
   "metadata": {},
   "outputs": [],
   "source": [
    "titanicSchema = T.StructType(\n",
    "    [\n",
    "        T.StructField(\"PCLASS\", T.IntegerType()),\n",
    "        T.StructField(\"SURVIVED\", T.StringType()),\n",
    "        T.StructField(\"NAME\", T.StringType()),\n",
    "        T.StructField(\"SEX\", T.StringType()),\n",
    "        T.StructField(\"AGE\", T.FloatType()),\n",
    "        T.StructField(\"SIBSP\", T.FloatType()),\n",
    "        T.StructField(\"PARCH\", T.FloatType()),\n",
    "        T.StructField(\"TICKET\", T.StringType()),\n",
    "        T.StructField(\"FARE\", T.FloatType()),\n",
    "        T.StructField(\"CABIN\", T.StringType()),\n",
    "        T.StructField(\"EMBARKED\", T.StringType()),\n",
    "        T.StructField(\"BOAT\", T.StringType()),\n",
    "        T.StructField(\"BODY\", T.IntegerType()),\n",
    "        T.StructField(\"HOME_DEST\", T.StringType()),\n",
    "    ]\n",
    ")\n",
    "\n",
    "# Crete a reader\n",
    "dfReader = snf_session.read.schema(titanicSchema)\n",
    "\n",
    "# Get the data into the data frame\n",
    "dfTitanic_stage = dfReader.options({\"field_delimiter\":\",\", \"FIELD_OPTIONALLY_ENCLOSED_BY\":'\"', \"NULL_IF\":\"?\", \"SKIP_HEADER\":1}).csv(f\"@{data_stage_name}/titanic.csv.gz\")\n",
    "snf_session.sql(f\"DROP TABLE IF EXISTS {FULLY_QUALIFIED_NAME}.titanic\").collect()\n",
    "dfTitanic_stage.copy_into_table(f\"{FULLY_QUALIFIED_NAME}.titanic\")"
   ]
  },
  {
   "cell_type": "code",
   "execution_count": null,
   "id": "606e1038-2d06-41fd-89d1-0ac22d112fba",
   "metadata": {},
   "outputs": [],
   "source": [
    "snf_session.table(f\"{FULLY_QUALIFIED_NAME}.titanic\").show()"
   ]
  },
  {
   "cell_type": "markdown",
   "id": "6ff3ed75-27f4-48e2-9ade-37b8d04d5afc",
   "metadata": {},
   "source": [
    "### Campaign spend"
   ]
  },
  {
   "cell_type": "code",
   "execution_count": null,
   "id": "116f4e56-3d3a-40be-ba78-690f1a315e02",
   "metadata": {},
   "outputs": [],
   "source": [
    "# Upload the source file to the stage\n",
    "snf_session.file.put(f\"{data_path}campaign_spend.csv\", f\"@{data_stage_name}\", auto_compress=True, overwrite=True)"
   ]
  },
  {
   "cell_type": "code",
   "execution_count": null,
   "id": "7a04bc53-5ddc-42da-97c2-7fbad611a92e",
   "metadata": {},
   "outputs": [],
   "source": [
    "campaignSchema = T.StructType(\n",
    "    [\n",
    "        T.StructField(\"CAMPAIGN\", T.StringType()),\n",
    "        T.StructField(\"CHANNEL\", T.StringType()),\n",
    "        T.StructField(\"DATE\", T.DateType()),\n",
    "        T.StructField(\"TOTAL_CLICKS\", T.DecimalType(38,0)),\n",
    "        T.StructField(\"TOTAL_COST\", T.DecimalType(38,0)),\n",
    "        T.StructField(\"ADS_SERVED\", T.DecimalType(38,0)),\n",
    "    ]\n",
    ")\n",
    "\n",
    "# Crete a reader\n",
    "dfReader = snf_session.read.schema(campaignSchema)\n",
    "\n",
    "# Get the data into the data frame\n",
    "dfCampaign_stage = dfReader.options({\"field_delimiter\":\",\", \"SKIP_HEADER\":1}).csv(f\"@{data_stage_name}/campaign_spend.csv.gz\")\n",
    "snf_session.sql(f\"DROP TABLE IF EXISTS {FULLY_QUALIFIED_NAME}.campaign_spend\").collect()\n",
    "dfCampaign_stage.copy_into_table(f\"{FULLY_QUALIFIED_NAME}.campaign_spend\")"
   ]
  },
  {
   "cell_type": "code",
   "execution_count": null,
   "id": "3d4270e8-3c88-499b-b81b-725d581c7d22",
   "metadata": {},
   "outputs": [],
   "source": [
    "snf_session.table(f\"{FULLY_QUALIFIED_NAME}.campaign_spend\").show()"
   ]
  },
  {
   "cell_type": "markdown",
   "id": "f8c72912-aac1-4a94-bf16-36ee07490ace",
   "metadata": {},
   "source": [
    "### Bank Marketing files\n",
    "\n"
   ]
  },
  {
   "cell_type": "code",
   "execution_count": null,
   "id": "95168628-2435-4575-95eb-30effab620cd",
   "metadata": {
    "tags": []
   },
   "outputs": [],
   "source": [
    "snf_session.file.put(f\"{data_path}/bank/*\", f\"@{FULLY_QUALIFIED_NAME}.SOURCE_FILES/BANK_MARKETING\", auto_compress=False, overwrite=True)"
   ]
  },
  {
   "cell_type": "markdown",
   "id": "f22578ff-7b02-4800-967a-135d242ff4b2",
   "metadata": {},
   "source": [
    "### Clean up"
   ]
  },
  {
   "cell_type": "code",
   "execution_count": null,
   "id": "5edbeee0-7c79-47f0-b332-89c5f1deb4a5",
   "metadata": {},
   "outputs": [],
   "source": [
    "snf_session.sql(f\"rm @{data_stage_name}/campaign_spend.csv.gz\").collect()\n",
    "snf_session.sql(f\"rm @{data_stage_name}/titanic.csv.gz\").collect()\n",
    "snf_session.sql(f\"ls @{data_stage_name}\").show()"
   ]
  },
  {
   "cell_type": "code",
   "execution_count": null,
   "id": "67c2f915-5bb4-4ff4-93c2-c9c27561facf",
   "metadata": {},
   "outputs": [],
   "source": [
    "snf_session.close()"
   ]
  },
  {
   "cell_type": "code",
   "execution_count": null,
   "id": "9025675d-2981-483c-ba8f-74c34bcf32f5",
   "metadata": {},
   "outputs": [],
   "source": []
  }
 ],
 "metadata": {
  "kernelspec": {
   "display_name": "Python 3 (ipykernel)",
   "language": "python",
   "name": "python3"
  },
  "language_info": {
   "codemirror_mode": {
    "name": "ipython",
    "version": 3
   },
   "file_extension": ".py",
   "mimetype": "text/x-python",
   "name": "python",
   "nbconvert_exporter": "python",
   "pygments_lexer": "ipython3",
   "version": "3.11.7"
  }
 },
 "nbformat": 4,
 "nbformat_minor": 5
}
